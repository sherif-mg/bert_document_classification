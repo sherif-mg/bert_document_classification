{
  "nbformat": 4,
  "nbformat_minor": 0,
  "metadata": {
    "colab": {
      "provenance": []
    },
    "kernelspec": {
      "name": "python3",
      "display_name": "Python 3"
    },
    "language_info": {
      "name": "python"
    },
    "widgets": {
      "application/vnd.jupyter.widget-state+json": {
        "a4e052dea1ef46c4bf8cc928f4c81b21": {
          "model_module": "@jupyter-widgets/controls",
          "model_name": "HBoxModel",
          "model_module_version": "1.5.0",
          "state": {
            "_dom_classes": [],
            "_model_module": "@jupyter-widgets/controls",
            "_model_module_version": "1.5.0",
            "_model_name": "HBoxModel",
            "_view_count": null,
            "_view_module": "@jupyter-widgets/controls",
            "_view_module_version": "1.5.0",
            "_view_name": "HBoxView",
            "box_style": "",
            "children": [
              "IPY_MODEL_ef31edc9d42140e9af5b995b12f415eb",
              "IPY_MODEL_31f6b3cc84e94616845ad769fa1b7f67",
              "IPY_MODEL_959bdb25f4ce4f23acee0345f0d43a18"
            ],
            "layout": "IPY_MODEL_fe76afde354840c987ec3467f1cee818"
          }
        },
        "ef31edc9d42140e9af5b995b12f415eb": {
          "model_module": "@jupyter-widgets/controls",
          "model_name": "HTMLModel",
          "model_module_version": "1.5.0",
          "state": {
            "_dom_classes": [],
            "_model_module": "@jupyter-widgets/controls",
            "_model_module_version": "1.5.0",
            "_model_name": "HTMLModel",
            "_view_count": null,
            "_view_module": "@jupyter-widgets/controls",
            "_view_module_version": "1.5.0",
            "_view_name": "HTMLView",
            "description": "",
            "description_tooltip": null,
            "layout": "IPY_MODEL_de6845b2281d4d47910d3c7b38a702a1",
            "placeholder": "​",
            "style": "IPY_MODEL_f6622249545043b7b433550a53f19867",
            "value": "tokenizer_config.json: 100%"
          }
        },
        "31f6b3cc84e94616845ad769fa1b7f67": {
          "model_module": "@jupyter-widgets/controls",
          "model_name": "FloatProgressModel",
          "model_module_version": "1.5.0",
          "state": {
            "_dom_classes": [],
            "_model_module": "@jupyter-widgets/controls",
            "_model_module_version": "1.5.0",
            "_model_name": "FloatProgressModel",
            "_view_count": null,
            "_view_module": "@jupyter-widgets/controls",
            "_view_module_version": "1.5.0",
            "_view_name": "ProgressView",
            "bar_style": "success",
            "description": "",
            "description_tooltip": null,
            "layout": "IPY_MODEL_05a78a6861b54a55ae136b511b4e1d77",
            "max": 48,
            "min": 0,
            "orientation": "horizontal",
            "style": "IPY_MODEL_f352d56c451d453590005130c951002a",
            "value": 48
          }
        },
        "959bdb25f4ce4f23acee0345f0d43a18": {
          "model_module": "@jupyter-widgets/controls",
          "model_name": "HTMLModel",
          "model_module_version": "1.5.0",
          "state": {
            "_dom_classes": [],
            "_model_module": "@jupyter-widgets/controls",
            "_model_module_version": "1.5.0",
            "_model_name": "HTMLModel",
            "_view_count": null,
            "_view_module": "@jupyter-widgets/controls",
            "_view_module_version": "1.5.0",
            "_view_name": "HTMLView",
            "description": "",
            "description_tooltip": null,
            "layout": "IPY_MODEL_bf0ebf796384481cbb919d0dc7be90f1",
            "placeholder": "​",
            "style": "IPY_MODEL_eacbdc1c2afa4a0a96c76973e211481d",
            "value": " 48.0/48.0 [00:00&lt;00:00, 648B/s]"
          }
        },
        "fe76afde354840c987ec3467f1cee818": {
          "model_module": "@jupyter-widgets/base",
          "model_name": "LayoutModel",
          "model_module_version": "1.2.0",
          "state": {
            "_model_module": "@jupyter-widgets/base",
            "_model_module_version": "1.2.0",
            "_model_name": "LayoutModel",
            "_view_count": null,
            "_view_module": "@jupyter-widgets/base",
            "_view_module_version": "1.2.0",
            "_view_name": "LayoutView",
            "align_content": null,
            "align_items": null,
            "align_self": null,
            "border": null,
            "bottom": null,
            "display": null,
            "flex": null,
            "flex_flow": null,
            "grid_area": null,
            "grid_auto_columns": null,
            "grid_auto_flow": null,
            "grid_auto_rows": null,
            "grid_column": null,
            "grid_gap": null,
            "grid_row": null,
            "grid_template_areas": null,
            "grid_template_columns": null,
            "grid_template_rows": null,
            "height": null,
            "justify_content": null,
            "justify_items": null,
            "left": null,
            "margin": null,
            "max_height": null,
            "max_width": null,
            "min_height": null,
            "min_width": null,
            "object_fit": null,
            "object_position": null,
            "order": null,
            "overflow": null,
            "overflow_x": null,
            "overflow_y": null,
            "padding": null,
            "right": null,
            "top": null,
            "visibility": null,
            "width": null
          }
        },
        "de6845b2281d4d47910d3c7b38a702a1": {
          "model_module": "@jupyter-widgets/base",
          "model_name": "LayoutModel",
          "model_module_version": "1.2.0",
          "state": {
            "_model_module": "@jupyter-widgets/base",
            "_model_module_version": "1.2.0",
            "_model_name": "LayoutModel",
            "_view_count": null,
            "_view_module": "@jupyter-widgets/base",
            "_view_module_version": "1.2.0",
            "_view_name": "LayoutView",
            "align_content": null,
            "align_items": null,
            "align_self": null,
            "border": null,
            "bottom": null,
            "display": null,
            "flex": null,
            "flex_flow": null,
            "grid_area": null,
            "grid_auto_columns": null,
            "grid_auto_flow": null,
            "grid_auto_rows": null,
            "grid_column": null,
            "grid_gap": null,
            "grid_row": null,
            "grid_template_areas": null,
            "grid_template_columns": null,
            "grid_template_rows": null,
            "height": null,
            "justify_content": null,
            "justify_items": null,
            "left": null,
            "margin": null,
            "max_height": null,
            "max_width": null,
            "min_height": null,
            "min_width": null,
            "object_fit": null,
            "object_position": null,
            "order": null,
            "overflow": null,
            "overflow_x": null,
            "overflow_y": null,
            "padding": null,
            "right": null,
            "top": null,
            "visibility": null,
            "width": null
          }
        },
        "f6622249545043b7b433550a53f19867": {
          "model_module": "@jupyter-widgets/controls",
          "model_name": "DescriptionStyleModel",
          "model_module_version": "1.5.0",
          "state": {
            "_model_module": "@jupyter-widgets/controls",
            "_model_module_version": "1.5.0",
            "_model_name": "DescriptionStyleModel",
            "_view_count": null,
            "_view_module": "@jupyter-widgets/base",
            "_view_module_version": "1.2.0",
            "_view_name": "StyleView",
            "description_width": ""
          }
        },
        "05a78a6861b54a55ae136b511b4e1d77": {
          "model_module": "@jupyter-widgets/base",
          "model_name": "LayoutModel",
          "model_module_version": "1.2.0",
          "state": {
            "_model_module": "@jupyter-widgets/base",
            "_model_module_version": "1.2.0",
            "_model_name": "LayoutModel",
            "_view_count": null,
            "_view_module": "@jupyter-widgets/base",
            "_view_module_version": "1.2.0",
            "_view_name": "LayoutView",
            "align_content": null,
            "align_items": null,
            "align_self": null,
            "border": null,
            "bottom": null,
            "display": null,
            "flex": null,
            "flex_flow": null,
            "grid_area": null,
            "grid_auto_columns": null,
            "grid_auto_flow": null,
            "grid_auto_rows": null,
            "grid_column": null,
            "grid_gap": null,
            "grid_row": null,
            "grid_template_areas": null,
            "grid_template_columns": null,
            "grid_template_rows": null,
            "height": null,
            "justify_content": null,
            "justify_items": null,
            "left": null,
            "margin": null,
            "max_height": null,
            "max_width": null,
            "min_height": null,
            "min_width": null,
            "object_fit": null,
            "object_position": null,
            "order": null,
            "overflow": null,
            "overflow_x": null,
            "overflow_y": null,
            "padding": null,
            "right": null,
            "top": null,
            "visibility": null,
            "width": null
          }
        },
        "f352d56c451d453590005130c951002a": {
          "model_module": "@jupyter-widgets/controls",
          "model_name": "ProgressStyleModel",
          "model_module_version": "1.5.0",
          "state": {
            "_model_module": "@jupyter-widgets/controls",
            "_model_module_version": "1.5.0",
            "_model_name": "ProgressStyleModel",
            "_view_count": null,
            "_view_module": "@jupyter-widgets/base",
            "_view_module_version": "1.2.0",
            "_view_name": "StyleView",
            "bar_color": null,
            "description_width": ""
          }
        },
        "bf0ebf796384481cbb919d0dc7be90f1": {
          "model_module": "@jupyter-widgets/base",
          "model_name": "LayoutModel",
          "model_module_version": "1.2.0",
          "state": {
            "_model_module": "@jupyter-widgets/base",
            "_model_module_version": "1.2.0",
            "_model_name": "LayoutModel",
            "_view_count": null,
            "_view_module": "@jupyter-widgets/base",
            "_view_module_version": "1.2.0",
            "_view_name": "LayoutView",
            "align_content": null,
            "align_items": null,
            "align_self": null,
            "border": null,
            "bottom": null,
            "display": null,
            "flex": null,
            "flex_flow": null,
            "grid_area": null,
            "grid_auto_columns": null,
            "grid_auto_flow": null,
            "grid_auto_rows": null,
            "grid_column": null,
            "grid_gap": null,
            "grid_row": null,
            "grid_template_areas": null,
            "grid_template_columns": null,
            "grid_template_rows": null,
            "height": null,
            "justify_content": null,
            "justify_items": null,
            "left": null,
            "margin": null,
            "max_height": null,
            "max_width": null,
            "min_height": null,
            "min_width": null,
            "object_fit": null,
            "object_position": null,
            "order": null,
            "overflow": null,
            "overflow_x": null,
            "overflow_y": null,
            "padding": null,
            "right": null,
            "top": null,
            "visibility": null,
            "width": null
          }
        },
        "eacbdc1c2afa4a0a96c76973e211481d": {
          "model_module": "@jupyter-widgets/controls",
          "model_name": "DescriptionStyleModel",
          "model_module_version": "1.5.0",
          "state": {
            "_model_module": "@jupyter-widgets/controls",
            "_model_module_version": "1.5.0",
            "_model_name": "DescriptionStyleModel",
            "_view_count": null,
            "_view_module": "@jupyter-widgets/base",
            "_view_module_version": "1.2.0",
            "_view_name": "StyleView",
            "description_width": ""
          }
        },
        "03dc329df9124d15bcdaabb43c914682": {
          "model_module": "@jupyter-widgets/controls",
          "model_name": "HBoxModel",
          "model_module_version": "1.5.0",
          "state": {
            "_dom_classes": [],
            "_model_module": "@jupyter-widgets/controls",
            "_model_module_version": "1.5.0",
            "_model_name": "HBoxModel",
            "_view_count": null,
            "_view_module": "@jupyter-widgets/controls",
            "_view_module_version": "1.5.0",
            "_view_name": "HBoxView",
            "box_style": "",
            "children": [
              "IPY_MODEL_59e67b8247e5494687aa73582c4a9e8a",
              "IPY_MODEL_d6369d368518450d92e4dc6f6db2db64",
              "IPY_MODEL_1124cca6efae4cc6a256ef689abfc8fe"
            ],
            "layout": "IPY_MODEL_4ebbf37483194803b56e930057ddf608"
          }
        },
        "59e67b8247e5494687aa73582c4a9e8a": {
          "model_module": "@jupyter-widgets/controls",
          "model_name": "HTMLModel",
          "model_module_version": "1.5.0",
          "state": {
            "_dom_classes": [],
            "_model_module": "@jupyter-widgets/controls",
            "_model_module_version": "1.5.0",
            "_model_name": "HTMLModel",
            "_view_count": null,
            "_view_module": "@jupyter-widgets/controls",
            "_view_module_version": "1.5.0",
            "_view_name": "HTMLView",
            "description": "",
            "description_tooltip": null,
            "layout": "IPY_MODEL_a823f01988c64e48ae4a65beab0d6d0a",
            "placeholder": "​",
            "style": "IPY_MODEL_a9977ba9a1944ca0a57c7b34597c710f",
            "value": "vocab.txt: 100%"
          }
        },
        "d6369d368518450d92e4dc6f6db2db64": {
          "model_module": "@jupyter-widgets/controls",
          "model_name": "FloatProgressModel",
          "model_module_version": "1.5.0",
          "state": {
            "_dom_classes": [],
            "_model_module": "@jupyter-widgets/controls",
            "_model_module_version": "1.5.0",
            "_model_name": "FloatProgressModel",
            "_view_count": null,
            "_view_module": "@jupyter-widgets/controls",
            "_view_module_version": "1.5.0",
            "_view_name": "ProgressView",
            "bar_style": "success",
            "description": "",
            "description_tooltip": null,
            "layout": "IPY_MODEL_da0f6a172a01489194be93bdc3389b0e",
            "max": 231508,
            "min": 0,
            "orientation": "horizontal",
            "style": "IPY_MODEL_b9eeae2381e249cea9853f709cdb9110",
            "value": 231508
          }
        },
        "1124cca6efae4cc6a256ef689abfc8fe": {
          "model_module": "@jupyter-widgets/controls",
          "model_name": "HTMLModel",
          "model_module_version": "1.5.0",
          "state": {
            "_dom_classes": [],
            "_model_module": "@jupyter-widgets/controls",
            "_model_module_version": "1.5.0",
            "_model_name": "HTMLModel",
            "_view_count": null,
            "_view_module": "@jupyter-widgets/controls",
            "_view_module_version": "1.5.0",
            "_view_name": "HTMLView",
            "description": "",
            "description_tooltip": null,
            "layout": "IPY_MODEL_6a72a6e4f20e4b9fb04346b666a7c799",
            "placeholder": "​",
            "style": "IPY_MODEL_5b531609f1c74899bdf11e45d47c6db2",
            "value": " 232k/232k [00:00&lt;00:00, 1.69MB/s]"
          }
        },
        "4ebbf37483194803b56e930057ddf608": {
          "model_module": "@jupyter-widgets/base",
          "model_name": "LayoutModel",
          "model_module_version": "1.2.0",
          "state": {
            "_model_module": "@jupyter-widgets/base",
            "_model_module_version": "1.2.0",
            "_model_name": "LayoutModel",
            "_view_count": null,
            "_view_module": "@jupyter-widgets/base",
            "_view_module_version": "1.2.0",
            "_view_name": "LayoutView",
            "align_content": null,
            "align_items": null,
            "align_self": null,
            "border": null,
            "bottom": null,
            "display": null,
            "flex": null,
            "flex_flow": null,
            "grid_area": null,
            "grid_auto_columns": null,
            "grid_auto_flow": null,
            "grid_auto_rows": null,
            "grid_column": null,
            "grid_gap": null,
            "grid_row": null,
            "grid_template_areas": null,
            "grid_template_columns": null,
            "grid_template_rows": null,
            "height": null,
            "justify_content": null,
            "justify_items": null,
            "left": null,
            "margin": null,
            "max_height": null,
            "max_width": null,
            "min_height": null,
            "min_width": null,
            "object_fit": null,
            "object_position": null,
            "order": null,
            "overflow": null,
            "overflow_x": null,
            "overflow_y": null,
            "padding": null,
            "right": null,
            "top": null,
            "visibility": null,
            "width": null
          }
        },
        "a823f01988c64e48ae4a65beab0d6d0a": {
          "model_module": "@jupyter-widgets/base",
          "model_name": "LayoutModel",
          "model_module_version": "1.2.0",
          "state": {
            "_model_module": "@jupyter-widgets/base",
            "_model_module_version": "1.2.0",
            "_model_name": "LayoutModel",
            "_view_count": null,
            "_view_module": "@jupyter-widgets/base",
            "_view_module_version": "1.2.0",
            "_view_name": "LayoutView",
            "align_content": null,
            "align_items": null,
            "align_self": null,
            "border": null,
            "bottom": null,
            "display": null,
            "flex": null,
            "flex_flow": null,
            "grid_area": null,
            "grid_auto_columns": null,
            "grid_auto_flow": null,
            "grid_auto_rows": null,
            "grid_column": null,
            "grid_gap": null,
            "grid_row": null,
            "grid_template_areas": null,
            "grid_template_columns": null,
            "grid_template_rows": null,
            "height": null,
            "justify_content": null,
            "justify_items": null,
            "left": null,
            "margin": null,
            "max_height": null,
            "max_width": null,
            "min_height": null,
            "min_width": null,
            "object_fit": null,
            "object_position": null,
            "order": null,
            "overflow": null,
            "overflow_x": null,
            "overflow_y": null,
            "padding": null,
            "right": null,
            "top": null,
            "visibility": null,
            "width": null
          }
        },
        "a9977ba9a1944ca0a57c7b34597c710f": {
          "model_module": "@jupyter-widgets/controls",
          "model_name": "DescriptionStyleModel",
          "model_module_version": "1.5.0",
          "state": {
            "_model_module": "@jupyter-widgets/controls",
            "_model_module_version": "1.5.0",
            "_model_name": "DescriptionStyleModel",
            "_view_count": null,
            "_view_module": "@jupyter-widgets/base",
            "_view_module_version": "1.2.0",
            "_view_name": "StyleView",
            "description_width": ""
          }
        },
        "da0f6a172a01489194be93bdc3389b0e": {
          "model_module": "@jupyter-widgets/base",
          "model_name": "LayoutModel",
          "model_module_version": "1.2.0",
          "state": {
            "_model_module": "@jupyter-widgets/base",
            "_model_module_version": "1.2.0",
            "_model_name": "LayoutModel",
            "_view_count": null,
            "_view_module": "@jupyter-widgets/base",
            "_view_module_version": "1.2.0",
            "_view_name": "LayoutView",
            "align_content": null,
            "align_items": null,
            "align_self": null,
            "border": null,
            "bottom": null,
            "display": null,
            "flex": null,
            "flex_flow": null,
            "grid_area": null,
            "grid_auto_columns": null,
            "grid_auto_flow": null,
            "grid_auto_rows": null,
            "grid_column": null,
            "grid_gap": null,
            "grid_row": null,
            "grid_template_areas": null,
            "grid_template_columns": null,
            "grid_template_rows": null,
            "height": null,
            "justify_content": null,
            "justify_items": null,
            "left": null,
            "margin": null,
            "max_height": null,
            "max_width": null,
            "min_height": null,
            "min_width": null,
            "object_fit": null,
            "object_position": null,
            "order": null,
            "overflow": null,
            "overflow_x": null,
            "overflow_y": null,
            "padding": null,
            "right": null,
            "top": null,
            "visibility": null,
            "width": null
          }
        },
        "b9eeae2381e249cea9853f709cdb9110": {
          "model_module": "@jupyter-widgets/controls",
          "model_name": "ProgressStyleModel",
          "model_module_version": "1.5.0",
          "state": {
            "_model_module": "@jupyter-widgets/controls",
            "_model_module_version": "1.5.0",
            "_model_name": "ProgressStyleModel",
            "_view_count": null,
            "_view_module": "@jupyter-widgets/base",
            "_view_module_version": "1.2.0",
            "_view_name": "StyleView",
            "bar_color": null,
            "description_width": ""
          }
        },
        "6a72a6e4f20e4b9fb04346b666a7c799": {
          "model_module": "@jupyter-widgets/base",
          "model_name": "LayoutModel",
          "model_module_version": "1.2.0",
          "state": {
            "_model_module": "@jupyter-widgets/base",
            "_model_module_version": "1.2.0",
            "_model_name": "LayoutModel",
            "_view_count": null,
            "_view_module": "@jupyter-widgets/base",
            "_view_module_version": "1.2.0",
            "_view_name": "LayoutView",
            "align_content": null,
            "align_items": null,
            "align_self": null,
            "border": null,
            "bottom": null,
            "display": null,
            "flex": null,
            "flex_flow": null,
            "grid_area": null,
            "grid_auto_columns": null,
            "grid_auto_flow": null,
            "grid_auto_rows": null,
            "grid_column": null,
            "grid_gap": null,
            "grid_row": null,
            "grid_template_areas": null,
            "grid_template_columns": null,
            "grid_template_rows": null,
            "height": null,
            "justify_content": null,
            "justify_items": null,
            "left": null,
            "margin": null,
            "max_height": null,
            "max_width": null,
            "min_height": null,
            "min_width": null,
            "object_fit": null,
            "object_position": null,
            "order": null,
            "overflow": null,
            "overflow_x": null,
            "overflow_y": null,
            "padding": null,
            "right": null,
            "top": null,
            "visibility": null,
            "width": null
          }
        },
        "5b531609f1c74899bdf11e45d47c6db2": {
          "model_module": "@jupyter-widgets/controls",
          "model_name": "DescriptionStyleModel",
          "model_module_version": "1.5.0",
          "state": {
            "_model_module": "@jupyter-widgets/controls",
            "_model_module_version": "1.5.0",
            "_model_name": "DescriptionStyleModel",
            "_view_count": null,
            "_view_module": "@jupyter-widgets/base",
            "_view_module_version": "1.2.0",
            "_view_name": "StyleView",
            "description_width": ""
          }
        },
        "e21557cfa80a48f7b78248e3b5d85b95": {
          "model_module": "@jupyter-widgets/controls",
          "model_name": "HBoxModel",
          "model_module_version": "1.5.0",
          "state": {
            "_dom_classes": [],
            "_model_module": "@jupyter-widgets/controls",
            "_model_module_version": "1.5.0",
            "_model_name": "HBoxModel",
            "_view_count": null,
            "_view_module": "@jupyter-widgets/controls",
            "_view_module_version": "1.5.0",
            "_view_name": "HBoxView",
            "box_style": "",
            "children": [
              "IPY_MODEL_6923bc4a01894d428c56e38d00d04249",
              "IPY_MODEL_05b27ef80974463e84435b9a7aa25e82",
              "IPY_MODEL_63b639681c3840608cbe93fda02b836e"
            ],
            "layout": "IPY_MODEL_2cf052972374407f8212a57882759498"
          }
        },
        "6923bc4a01894d428c56e38d00d04249": {
          "model_module": "@jupyter-widgets/controls",
          "model_name": "HTMLModel",
          "model_module_version": "1.5.0",
          "state": {
            "_dom_classes": [],
            "_model_module": "@jupyter-widgets/controls",
            "_model_module_version": "1.5.0",
            "_model_name": "HTMLModel",
            "_view_count": null,
            "_view_module": "@jupyter-widgets/controls",
            "_view_module_version": "1.5.0",
            "_view_name": "HTMLView",
            "description": "",
            "description_tooltip": null,
            "layout": "IPY_MODEL_95b4a1a2aab6425b87e409fedb9efb93",
            "placeholder": "​",
            "style": "IPY_MODEL_34ef4eff697d4b7899938d5aee5159ab",
            "value": "tokenizer.json: 100%"
          }
        },
        "05b27ef80974463e84435b9a7aa25e82": {
          "model_module": "@jupyter-widgets/controls",
          "model_name": "FloatProgressModel",
          "model_module_version": "1.5.0",
          "state": {
            "_dom_classes": [],
            "_model_module": "@jupyter-widgets/controls",
            "_model_module_version": "1.5.0",
            "_model_name": "FloatProgressModel",
            "_view_count": null,
            "_view_module": "@jupyter-widgets/controls",
            "_view_module_version": "1.5.0",
            "_view_name": "ProgressView",
            "bar_style": "success",
            "description": "",
            "description_tooltip": null,
            "layout": "IPY_MODEL_9831716bcf3f492a8e32af9d0d589c21",
            "max": 466062,
            "min": 0,
            "orientation": "horizontal",
            "style": "IPY_MODEL_3110e66099d1445ba8cff1ae965da357",
            "value": 466062
          }
        },
        "63b639681c3840608cbe93fda02b836e": {
          "model_module": "@jupyter-widgets/controls",
          "model_name": "HTMLModel",
          "model_module_version": "1.5.0",
          "state": {
            "_dom_classes": [],
            "_model_module": "@jupyter-widgets/controls",
            "_model_module_version": "1.5.0",
            "_model_name": "HTMLModel",
            "_view_count": null,
            "_view_module": "@jupyter-widgets/controls",
            "_view_module_version": "1.5.0",
            "_view_name": "HTMLView",
            "description": "",
            "description_tooltip": null,
            "layout": "IPY_MODEL_4743a5c3c91c4312a95deb724f28bde5",
            "placeholder": "​",
            "style": "IPY_MODEL_e3ed0f6d2dfa4196a6c099e0d26a5c4a",
            "value": " 466k/466k [00:00&lt;00:00, 5.06MB/s]"
          }
        },
        "2cf052972374407f8212a57882759498": {
          "model_module": "@jupyter-widgets/base",
          "model_name": "LayoutModel",
          "model_module_version": "1.2.0",
          "state": {
            "_model_module": "@jupyter-widgets/base",
            "_model_module_version": "1.2.0",
            "_model_name": "LayoutModel",
            "_view_count": null,
            "_view_module": "@jupyter-widgets/base",
            "_view_module_version": "1.2.0",
            "_view_name": "LayoutView",
            "align_content": null,
            "align_items": null,
            "align_self": null,
            "border": null,
            "bottom": null,
            "display": null,
            "flex": null,
            "flex_flow": null,
            "grid_area": null,
            "grid_auto_columns": null,
            "grid_auto_flow": null,
            "grid_auto_rows": null,
            "grid_column": null,
            "grid_gap": null,
            "grid_row": null,
            "grid_template_areas": null,
            "grid_template_columns": null,
            "grid_template_rows": null,
            "height": null,
            "justify_content": null,
            "justify_items": null,
            "left": null,
            "margin": null,
            "max_height": null,
            "max_width": null,
            "min_height": null,
            "min_width": null,
            "object_fit": null,
            "object_position": null,
            "order": null,
            "overflow": null,
            "overflow_x": null,
            "overflow_y": null,
            "padding": null,
            "right": null,
            "top": null,
            "visibility": null,
            "width": null
          }
        },
        "95b4a1a2aab6425b87e409fedb9efb93": {
          "model_module": "@jupyter-widgets/base",
          "model_name": "LayoutModel",
          "model_module_version": "1.2.0",
          "state": {
            "_model_module": "@jupyter-widgets/base",
            "_model_module_version": "1.2.0",
            "_model_name": "LayoutModel",
            "_view_count": null,
            "_view_module": "@jupyter-widgets/base",
            "_view_module_version": "1.2.0",
            "_view_name": "LayoutView",
            "align_content": null,
            "align_items": null,
            "align_self": null,
            "border": null,
            "bottom": null,
            "display": null,
            "flex": null,
            "flex_flow": null,
            "grid_area": null,
            "grid_auto_columns": null,
            "grid_auto_flow": null,
            "grid_auto_rows": null,
            "grid_column": null,
            "grid_gap": null,
            "grid_row": null,
            "grid_template_areas": null,
            "grid_template_columns": null,
            "grid_template_rows": null,
            "height": null,
            "justify_content": null,
            "justify_items": null,
            "left": null,
            "margin": null,
            "max_height": null,
            "max_width": null,
            "min_height": null,
            "min_width": null,
            "object_fit": null,
            "object_position": null,
            "order": null,
            "overflow": null,
            "overflow_x": null,
            "overflow_y": null,
            "padding": null,
            "right": null,
            "top": null,
            "visibility": null,
            "width": null
          }
        },
        "34ef4eff697d4b7899938d5aee5159ab": {
          "model_module": "@jupyter-widgets/controls",
          "model_name": "DescriptionStyleModel",
          "model_module_version": "1.5.0",
          "state": {
            "_model_module": "@jupyter-widgets/controls",
            "_model_module_version": "1.5.0",
            "_model_name": "DescriptionStyleModel",
            "_view_count": null,
            "_view_module": "@jupyter-widgets/base",
            "_view_module_version": "1.2.0",
            "_view_name": "StyleView",
            "description_width": ""
          }
        },
        "9831716bcf3f492a8e32af9d0d589c21": {
          "model_module": "@jupyter-widgets/base",
          "model_name": "LayoutModel",
          "model_module_version": "1.2.0",
          "state": {
            "_model_module": "@jupyter-widgets/base",
            "_model_module_version": "1.2.0",
            "_model_name": "LayoutModel",
            "_view_count": null,
            "_view_module": "@jupyter-widgets/base",
            "_view_module_version": "1.2.0",
            "_view_name": "LayoutView",
            "align_content": null,
            "align_items": null,
            "align_self": null,
            "border": null,
            "bottom": null,
            "display": null,
            "flex": null,
            "flex_flow": null,
            "grid_area": null,
            "grid_auto_columns": null,
            "grid_auto_flow": null,
            "grid_auto_rows": null,
            "grid_column": null,
            "grid_gap": null,
            "grid_row": null,
            "grid_template_areas": null,
            "grid_template_columns": null,
            "grid_template_rows": null,
            "height": null,
            "justify_content": null,
            "justify_items": null,
            "left": null,
            "margin": null,
            "max_height": null,
            "max_width": null,
            "min_height": null,
            "min_width": null,
            "object_fit": null,
            "object_position": null,
            "order": null,
            "overflow": null,
            "overflow_x": null,
            "overflow_y": null,
            "padding": null,
            "right": null,
            "top": null,
            "visibility": null,
            "width": null
          }
        },
        "3110e66099d1445ba8cff1ae965da357": {
          "model_module": "@jupyter-widgets/controls",
          "model_name": "ProgressStyleModel",
          "model_module_version": "1.5.0",
          "state": {
            "_model_module": "@jupyter-widgets/controls",
            "_model_module_version": "1.5.0",
            "_model_name": "ProgressStyleModel",
            "_view_count": null,
            "_view_module": "@jupyter-widgets/base",
            "_view_module_version": "1.2.0",
            "_view_name": "StyleView",
            "bar_color": null,
            "description_width": ""
          }
        },
        "4743a5c3c91c4312a95deb724f28bde5": {
          "model_module": "@jupyter-widgets/base",
          "model_name": "LayoutModel",
          "model_module_version": "1.2.0",
          "state": {
            "_model_module": "@jupyter-widgets/base",
            "_model_module_version": "1.2.0",
            "_model_name": "LayoutModel",
            "_view_count": null,
            "_view_module": "@jupyter-widgets/base",
            "_view_module_version": "1.2.0",
            "_view_name": "LayoutView",
            "align_content": null,
            "align_items": null,
            "align_self": null,
            "border": null,
            "bottom": null,
            "display": null,
            "flex": null,
            "flex_flow": null,
            "grid_area": null,
            "grid_auto_columns": null,
            "grid_auto_flow": null,
            "grid_auto_rows": null,
            "grid_column": null,
            "grid_gap": null,
            "grid_row": null,
            "grid_template_areas": null,
            "grid_template_columns": null,
            "grid_template_rows": null,
            "height": null,
            "justify_content": null,
            "justify_items": null,
            "left": null,
            "margin": null,
            "max_height": null,
            "max_width": null,
            "min_height": null,
            "min_width": null,
            "object_fit": null,
            "object_position": null,
            "order": null,
            "overflow": null,
            "overflow_x": null,
            "overflow_y": null,
            "padding": null,
            "right": null,
            "top": null,
            "visibility": null,
            "width": null
          }
        },
        "e3ed0f6d2dfa4196a6c099e0d26a5c4a": {
          "model_module": "@jupyter-widgets/controls",
          "model_name": "DescriptionStyleModel",
          "model_module_version": "1.5.0",
          "state": {
            "_model_module": "@jupyter-widgets/controls",
            "_model_module_version": "1.5.0",
            "_model_name": "DescriptionStyleModel",
            "_view_count": null,
            "_view_module": "@jupyter-widgets/base",
            "_view_module_version": "1.2.0",
            "_view_name": "StyleView",
            "description_width": ""
          }
        },
        "e2523ed245a2431a9840372349189f03": {
          "model_module": "@jupyter-widgets/controls",
          "model_name": "HBoxModel",
          "model_module_version": "1.5.0",
          "state": {
            "_dom_classes": [],
            "_model_module": "@jupyter-widgets/controls",
            "_model_module_version": "1.5.0",
            "_model_name": "HBoxModel",
            "_view_count": null,
            "_view_module": "@jupyter-widgets/controls",
            "_view_module_version": "1.5.0",
            "_view_name": "HBoxView",
            "box_style": "",
            "children": [
              "IPY_MODEL_56e1ce1038d948129999a712b2dc876c",
              "IPY_MODEL_2a5f57277f34417e95e3467af8b80cba",
              "IPY_MODEL_f1c1f80bbcf04c8bb5646eb87306381a"
            ],
            "layout": "IPY_MODEL_90b7176b7aba41bda747fbbfb6586426"
          }
        },
        "56e1ce1038d948129999a712b2dc876c": {
          "model_module": "@jupyter-widgets/controls",
          "model_name": "HTMLModel",
          "model_module_version": "1.5.0",
          "state": {
            "_dom_classes": [],
            "_model_module": "@jupyter-widgets/controls",
            "_model_module_version": "1.5.0",
            "_model_name": "HTMLModel",
            "_view_count": null,
            "_view_module": "@jupyter-widgets/controls",
            "_view_module_version": "1.5.0",
            "_view_name": "HTMLView",
            "description": "",
            "description_tooltip": null,
            "layout": "IPY_MODEL_b26b593ffe4b4a1b97fc6f713d5cbb3c",
            "placeholder": "​",
            "style": "IPY_MODEL_2fa8d62a60a640d782cae6982741d9ac",
            "value": "config.json: 100%"
          }
        },
        "2a5f57277f34417e95e3467af8b80cba": {
          "model_module": "@jupyter-widgets/controls",
          "model_name": "FloatProgressModel",
          "model_module_version": "1.5.0",
          "state": {
            "_dom_classes": [],
            "_model_module": "@jupyter-widgets/controls",
            "_model_module_version": "1.5.0",
            "_model_name": "FloatProgressModel",
            "_view_count": null,
            "_view_module": "@jupyter-widgets/controls",
            "_view_module_version": "1.5.0",
            "_view_name": "ProgressView",
            "bar_style": "success",
            "description": "",
            "description_tooltip": null,
            "layout": "IPY_MODEL_be69f4dd8db24552bc11b09354f88cc0",
            "max": 570,
            "min": 0,
            "orientation": "horizontal",
            "style": "IPY_MODEL_5744c958716e4def8101f0b5b6b8d34d",
            "value": 570
          }
        },
        "f1c1f80bbcf04c8bb5646eb87306381a": {
          "model_module": "@jupyter-widgets/controls",
          "model_name": "HTMLModel",
          "model_module_version": "1.5.0",
          "state": {
            "_dom_classes": [],
            "_model_module": "@jupyter-widgets/controls",
            "_model_module_version": "1.5.0",
            "_model_name": "HTMLModel",
            "_view_count": null,
            "_view_module": "@jupyter-widgets/controls",
            "_view_module_version": "1.5.0",
            "_view_name": "HTMLView",
            "description": "",
            "description_tooltip": null,
            "layout": "IPY_MODEL_24c306cbd88b4873b124cf2464e7e3a3",
            "placeholder": "​",
            "style": "IPY_MODEL_5fa7a621be6d47a9bd6a6f7d0140aed2",
            "value": " 570/570 [00:00&lt;00:00, 8.18kB/s]"
          }
        },
        "90b7176b7aba41bda747fbbfb6586426": {
          "model_module": "@jupyter-widgets/base",
          "model_name": "LayoutModel",
          "model_module_version": "1.2.0",
          "state": {
            "_model_module": "@jupyter-widgets/base",
            "_model_module_version": "1.2.0",
            "_model_name": "LayoutModel",
            "_view_count": null,
            "_view_module": "@jupyter-widgets/base",
            "_view_module_version": "1.2.0",
            "_view_name": "LayoutView",
            "align_content": null,
            "align_items": null,
            "align_self": null,
            "border": null,
            "bottom": null,
            "display": null,
            "flex": null,
            "flex_flow": null,
            "grid_area": null,
            "grid_auto_columns": null,
            "grid_auto_flow": null,
            "grid_auto_rows": null,
            "grid_column": null,
            "grid_gap": null,
            "grid_row": null,
            "grid_template_areas": null,
            "grid_template_columns": null,
            "grid_template_rows": null,
            "height": null,
            "justify_content": null,
            "justify_items": null,
            "left": null,
            "margin": null,
            "max_height": null,
            "max_width": null,
            "min_height": null,
            "min_width": null,
            "object_fit": null,
            "object_position": null,
            "order": null,
            "overflow": null,
            "overflow_x": null,
            "overflow_y": null,
            "padding": null,
            "right": null,
            "top": null,
            "visibility": null,
            "width": null
          }
        },
        "b26b593ffe4b4a1b97fc6f713d5cbb3c": {
          "model_module": "@jupyter-widgets/base",
          "model_name": "LayoutModel",
          "model_module_version": "1.2.0",
          "state": {
            "_model_module": "@jupyter-widgets/base",
            "_model_module_version": "1.2.0",
            "_model_name": "LayoutModel",
            "_view_count": null,
            "_view_module": "@jupyter-widgets/base",
            "_view_module_version": "1.2.0",
            "_view_name": "LayoutView",
            "align_content": null,
            "align_items": null,
            "align_self": null,
            "border": null,
            "bottom": null,
            "display": null,
            "flex": null,
            "flex_flow": null,
            "grid_area": null,
            "grid_auto_columns": null,
            "grid_auto_flow": null,
            "grid_auto_rows": null,
            "grid_column": null,
            "grid_gap": null,
            "grid_row": null,
            "grid_template_areas": null,
            "grid_template_columns": null,
            "grid_template_rows": null,
            "height": null,
            "justify_content": null,
            "justify_items": null,
            "left": null,
            "margin": null,
            "max_height": null,
            "max_width": null,
            "min_height": null,
            "min_width": null,
            "object_fit": null,
            "object_position": null,
            "order": null,
            "overflow": null,
            "overflow_x": null,
            "overflow_y": null,
            "padding": null,
            "right": null,
            "top": null,
            "visibility": null,
            "width": null
          }
        },
        "2fa8d62a60a640d782cae6982741d9ac": {
          "model_module": "@jupyter-widgets/controls",
          "model_name": "DescriptionStyleModel",
          "model_module_version": "1.5.0",
          "state": {
            "_model_module": "@jupyter-widgets/controls",
            "_model_module_version": "1.5.0",
            "_model_name": "DescriptionStyleModel",
            "_view_count": null,
            "_view_module": "@jupyter-widgets/base",
            "_view_module_version": "1.2.0",
            "_view_name": "StyleView",
            "description_width": ""
          }
        },
        "be69f4dd8db24552bc11b09354f88cc0": {
          "model_module": "@jupyter-widgets/base",
          "model_name": "LayoutModel",
          "model_module_version": "1.2.0",
          "state": {
            "_model_module": "@jupyter-widgets/base",
            "_model_module_version": "1.2.0",
            "_model_name": "LayoutModel",
            "_view_count": null,
            "_view_module": "@jupyter-widgets/base",
            "_view_module_version": "1.2.0",
            "_view_name": "LayoutView",
            "align_content": null,
            "align_items": null,
            "align_self": null,
            "border": null,
            "bottom": null,
            "display": null,
            "flex": null,
            "flex_flow": null,
            "grid_area": null,
            "grid_auto_columns": null,
            "grid_auto_flow": null,
            "grid_auto_rows": null,
            "grid_column": null,
            "grid_gap": null,
            "grid_row": null,
            "grid_template_areas": null,
            "grid_template_columns": null,
            "grid_template_rows": null,
            "height": null,
            "justify_content": null,
            "justify_items": null,
            "left": null,
            "margin": null,
            "max_height": null,
            "max_width": null,
            "min_height": null,
            "min_width": null,
            "object_fit": null,
            "object_position": null,
            "order": null,
            "overflow": null,
            "overflow_x": null,
            "overflow_y": null,
            "padding": null,
            "right": null,
            "top": null,
            "visibility": null,
            "width": null
          }
        },
        "5744c958716e4def8101f0b5b6b8d34d": {
          "model_module": "@jupyter-widgets/controls",
          "model_name": "ProgressStyleModel",
          "model_module_version": "1.5.0",
          "state": {
            "_model_module": "@jupyter-widgets/controls",
            "_model_module_version": "1.5.0",
            "_model_name": "ProgressStyleModel",
            "_view_count": null,
            "_view_module": "@jupyter-widgets/base",
            "_view_module_version": "1.2.0",
            "_view_name": "StyleView",
            "bar_color": null,
            "description_width": ""
          }
        },
        "24c306cbd88b4873b124cf2464e7e3a3": {
          "model_module": "@jupyter-widgets/base",
          "model_name": "LayoutModel",
          "model_module_version": "1.2.0",
          "state": {
            "_model_module": "@jupyter-widgets/base",
            "_model_module_version": "1.2.0",
            "_model_name": "LayoutModel",
            "_view_count": null,
            "_view_module": "@jupyter-widgets/base",
            "_view_module_version": "1.2.0",
            "_view_name": "LayoutView",
            "align_content": null,
            "align_items": null,
            "align_self": null,
            "border": null,
            "bottom": null,
            "display": null,
            "flex": null,
            "flex_flow": null,
            "grid_area": null,
            "grid_auto_columns": null,
            "grid_auto_flow": null,
            "grid_auto_rows": null,
            "grid_column": null,
            "grid_gap": null,
            "grid_row": null,
            "grid_template_areas": null,
            "grid_template_columns": null,
            "grid_template_rows": null,
            "height": null,
            "justify_content": null,
            "justify_items": null,
            "left": null,
            "margin": null,
            "max_height": null,
            "max_width": null,
            "min_height": null,
            "min_width": null,
            "object_fit": null,
            "object_position": null,
            "order": null,
            "overflow": null,
            "overflow_x": null,
            "overflow_y": null,
            "padding": null,
            "right": null,
            "top": null,
            "visibility": null,
            "width": null
          }
        },
        "5fa7a621be6d47a9bd6a6f7d0140aed2": {
          "model_module": "@jupyter-widgets/controls",
          "model_name": "DescriptionStyleModel",
          "model_module_version": "1.5.0",
          "state": {
            "_model_module": "@jupyter-widgets/controls",
            "_model_module_version": "1.5.0",
            "_model_name": "DescriptionStyleModel",
            "_view_count": null,
            "_view_module": "@jupyter-widgets/base",
            "_view_module_version": "1.2.0",
            "_view_name": "StyleView",
            "description_width": ""
          }
        },
        "ea5e3f176b17416fa3b8e0ba3640ff0e": {
          "model_module": "@jupyter-widgets/controls",
          "model_name": "HBoxModel",
          "model_module_version": "1.5.0",
          "state": {
            "_dom_classes": [],
            "_model_module": "@jupyter-widgets/controls",
            "_model_module_version": "1.5.0",
            "_model_name": "HBoxModel",
            "_view_count": null,
            "_view_module": "@jupyter-widgets/controls",
            "_view_module_version": "1.5.0",
            "_view_name": "HBoxView",
            "box_style": "",
            "children": [
              "IPY_MODEL_303f04747e984bf89c18df534bbdead6",
              "IPY_MODEL_604e5df541e945bab5a61f42c5e47645",
              "IPY_MODEL_30520520edd4403db9dea4fd181b2cb9"
            ],
            "layout": "IPY_MODEL_da981e284cfb4be59f971ee997941b0b"
          }
        },
        "303f04747e984bf89c18df534bbdead6": {
          "model_module": "@jupyter-widgets/controls",
          "model_name": "HTMLModel",
          "model_module_version": "1.5.0",
          "state": {
            "_dom_classes": [],
            "_model_module": "@jupyter-widgets/controls",
            "_model_module_version": "1.5.0",
            "_model_name": "HTMLModel",
            "_view_count": null,
            "_view_module": "@jupyter-widgets/controls",
            "_view_module_version": "1.5.0",
            "_view_name": "HTMLView",
            "description": "",
            "description_tooltip": null,
            "layout": "IPY_MODEL_4cbbb4072d424af59811715b88fbfe2d",
            "placeholder": "​",
            "style": "IPY_MODEL_3316188678ce4d09958d5226b108d91a",
            "value": "model.safetensors: 100%"
          }
        },
        "604e5df541e945bab5a61f42c5e47645": {
          "model_module": "@jupyter-widgets/controls",
          "model_name": "FloatProgressModel",
          "model_module_version": "1.5.0",
          "state": {
            "_dom_classes": [],
            "_model_module": "@jupyter-widgets/controls",
            "_model_module_version": "1.5.0",
            "_model_name": "FloatProgressModel",
            "_view_count": null,
            "_view_module": "@jupyter-widgets/controls",
            "_view_module_version": "1.5.0",
            "_view_name": "ProgressView",
            "bar_style": "success",
            "description": "",
            "description_tooltip": null,
            "layout": "IPY_MODEL_eac2d28e6a864548a7f73a36e926bb7b",
            "max": 440449768,
            "min": 0,
            "orientation": "horizontal",
            "style": "IPY_MODEL_07247d310f8347abb141427e7224d63c",
            "value": 440449768
          }
        },
        "30520520edd4403db9dea4fd181b2cb9": {
          "model_module": "@jupyter-widgets/controls",
          "model_name": "HTMLModel",
          "model_module_version": "1.5.0",
          "state": {
            "_dom_classes": [],
            "_model_module": "@jupyter-widgets/controls",
            "_model_module_version": "1.5.0",
            "_model_name": "HTMLModel",
            "_view_count": null,
            "_view_module": "@jupyter-widgets/controls",
            "_view_module_version": "1.5.0",
            "_view_name": "HTMLView",
            "description": "",
            "description_tooltip": null,
            "layout": "IPY_MODEL_2f2555d636e642688940134baface27f",
            "placeholder": "​",
            "style": "IPY_MODEL_7b78dc68f38d4cbbad7f05b4406be0e2",
            "value": " 440M/440M [00:06&lt;00:00, 121MB/s]"
          }
        },
        "da981e284cfb4be59f971ee997941b0b": {
          "model_module": "@jupyter-widgets/base",
          "model_name": "LayoutModel",
          "model_module_version": "1.2.0",
          "state": {
            "_model_module": "@jupyter-widgets/base",
            "_model_module_version": "1.2.0",
            "_model_name": "LayoutModel",
            "_view_count": null,
            "_view_module": "@jupyter-widgets/base",
            "_view_module_version": "1.2.0",
            "_view_name": "LayoutView",
            "align_content": null,
            "align_items": null,
            "align_self": null,
            "border": null,
            "bottom": null,
            "display": null,
            "flex": null,
            "flex_flow": null,
            "grid_area": null,
            "grid_auto_columns": null,
            "grid_auto_flow": null,
            "grid_auto_rows": null,
            "grid_column": null,
            "grid_gap": null,
            "grid_row": null,
            "grid_template_areas": null,
            "grid_template_columns": null,
            "grid_template_rows": null,
            "height": null,
            "justify_content": null,
            "justify_items": null,
            "left": null,
            "margin": null,
            "max_height": null,
            "max_width": null,
            "min_height": null,
            "min_width": null,
            "object_fit": null,
            "object_position": null,
            "order": null,
            "overflow": null,
            "overflow_x": null,
            "overflow_y": null,
            "padding": null,
            "right": null,
            "top": null,
            "visibility": null,
            "width": null
          }
        },
        "4cbbb4072d424af59811715b88fbfe2d": {
          "model_module": "@jupyter-widgets/base",
          "model_name": "LayoutModel",
          "model_module_version": "1.2.0",
          "state": {
            "_model_module": "@jupyter-widgets/base",
            "_model_module_version": "1.2.0",
            "_model_name": "LayoutModel",
            "_view_count": null,
            "_view_module": "@jupyter-widgets/base",
            "_view_module_version": "1.2.0",
            "_view_name": "LayoutView",
            "align_content": null,
            "align_items": null,
            "align_self": null,
            "border": null,
            "bottom": null,
            "display": null,
            "flex": null,
            "flex_flow": null,
            "grid_area": null,
            "grid_auto_columns": null,
            "grid_auto_flow": null,
            "grid_auto_rows": null,
            "grid_column": null,
            "grid_gap": null,
            "grid_row": null,
            "grid_template_areas": null,
            "grid_template_columns": null,
            "grid_template_rows": null,
            "height": null,
            "justify_content": null,
            "justify_items": null,
            "left": null,
            "margin": null,
            "max_height": null,
            "max_width": null,
            "min_height": null,
            "min_width": null,
            "object_fit": null,
            "object_position": null,
            "order": null,
            "overflow": null,
            "overflow_x": null,
            "overflow_y": null,
            "padding": null,
            "right": null,
            "top": null,
            "visibility": null,
            "width": null
          }
        },
        "3316188678ce4d09958d5226b108d91a": {
          "model_module": "@jupyter-widgets/controls",
          "model_name": "DescriptionStyleModel",
          "model_module_version": "1.5.0",
          "state": {
            "_model_module": "@jupyter-widgets/controls",
            "_model_module_version": "1.5.0",
            "_model_name": "DescriptionStyleModel",
            "_view_count": null,
            "_view_module": "@jupyter-widgets/base",
            "_view_module_version": "1.2.0",
            "_view_name": "StyleView",
            "description_width": ""
          }
        },
        "eac2d28e6a864548a7f73a36e926bb7b": {
          "model_module": "@jupyter-widgets/base",
          "model_name": "LayoutModel",
          "model_module_version": "1.2.0",
          "state": {
            "_model_module": "@jupyter-widgets/base",
            "_model_module_version": "1.2.0",
            "_model_name": "LayoutModel",
            "_view_count": null,
            "_view_module": "@jupyter-widgets/base",
            "_view_module_version": "1.2.0",
            "_view_name": "LayoutView",
            "align_content": null,
            "align_items": null,
            "align_self": null,
            "border": null,
            "bottom": null,
            "display": null,
            "flex": null,
            "flex_flow": null,
            "grid_area": null,
            "grid_auto_columns": null,
            "grid_auto_flow": null,
            "grid_auto_rows": null,
            "grid_column": null,
            "grid_gap": null,
            "grid_row": null,
            "grid_template_areas": null,
            "grid_template_columns": null,
            "grid_template_rows": null,
            "height": null,
            "justify_content": null,
            "justify_items": null,
            "left": null,
            "margin": null,
            "max_height": null,
            "max_width": null,
            "min_height": null,
            "min_width": null,
            "object_fit": null,
            "object_position": null,
            "order": null,
            "overflow": null,
            "overflow_x": null,
            "overflow_y": null,
            "padding": null,
            "right": null,
            "top": null,
            "visibility": null,
            "width": null
          }
        },
        "07247d310f8347abb141427e7224d63c": {
          "model_module": "@jupyter-widgets/controls",
          "model_name": "ProgressStyleModel",
          "model_module_version": "1.5.0",
          "state": {
            "_model_module": "@jupyter-widgets/controls",
            "_model_module_version": "1.5.0",
            "_model_name": "ProgressStyleModel",
            "_view_count": null,
            "_view_module": "@jupyter-widgets/base",
            "_view_module_version": "1.2.0",
            "_view_name": "StyleView",
            "bar_color": null,
            "description_width": ""
          }
        },
        "2f2555d636e642688940134baface27f": {
          "model_module": "@jupyter-widgets/base",
          "model_name": "LayoutModel",
          "model_module_version": "1.2.0",
          "state": {
            "_model_module": "@jupyter-widgets/base",
            "_model_module_version": "1.2.0",
            "_model_name": "LayoutModel",
            "_view_count": null,
            "_view_module": "@jupyter-widgets/base",
            "_view_module_version": "1.2.0",
            "_view_name": "LayoutView",
            "align_content": null,
            "align_items": null,
            "align_self": null,
            "border": null,
            "bottom": null,
            "display": null,
            "flex": null,
            "flex_flow": null,
            "grid_area": null,
            "grid_auto_columns": null,
            "grid_auto_flow": null,
            "grid_auto_rows": null,
            "grid_column": null,
            "grid_gap": null,
            "grid_row": null,
            "grid_template_areas": null,
            "grid_template_columns": null,
            "grid_template_rows": null,
            "height": null,
            "justify_content": null,
            "justify_items": null,
            "left": null,
            "margin": null,
            "max_height": null,
            "max_width": null,
            "min_height": null,
            "min_width": null,
            "object_fit": null,
            "object_position": null,
            "order": null,
            "overflow": null,
            "overflow_x": null,
            "overflow_y": null,
            "padding": null,
            "right": null,
            "top": null,
            "visibility": null,
            "width": null
          }
        },
        "7b78dc68f38d4cbbad7f05b4406be0e2": {
          "model_module": "@jupyter-widgets/controls",
          "model_name": "DescriptionStyleModel",
          "model_module_version": "1.5.0",
          "state": {
            "_model_module": "@jupyter-widgets/controls",
            "_model_module_version": "1.5.0",
            "_model_name": "DescriptionStyleModel",
            "_view_count": null,
            "_view_module": "@jupyter-widgets/base",
            "_view_module_version": "1.2.0",
            "_view_name": "StyleView",
            "description_width": ""
          }
        }
      }
    }
  },
  "cells": [
    {
      "cell_type": "code",
      "execution_count": null,
      "metadata": {
        "id": "gEkTzDldw13q"
      },
      "outputs": [],
      "source": [
        "from google.colab import userdata\n",
        "import os\n",
        "\n",
        "os.environ[\"KAGGLE_KEY\"] = userdata.get('key')\n",
        "os.environ[\"KAGGLE_USERNAME\"] = userdata.get('username')"
      ]
    },
    {
      "cell_type": "code",
      "source": [
        "!kaggle datasets download -d alfathterry/bbc-full-text-document-classification"
      ],
      "metadata": {
        "colab": {
          "base_uri": "https://localhost:8080/"
        },
        "id": "b6b9W476xDTr",
        "outputId": "ae9f1bb5-706c-44c9-c82e-19431cc94db4"
      },
      "execution_count": null,
      "outputs": [
        {
          "output_type": "stream",
          "name": "stdout",
          "text": [
            "Dataset URL: https://www.kaggle.com/datasets/alfathterry/bbc-full-text-document-classification\n",
            "License(s): MIT\n",
            "Downloading bbc-full-text-document-classification.zip to /content\n",
            "  0% 0.00/1.84M [00:00<?, ?B/s]\n",
            "100% 1.84M/1.84M [00:00<00:00, 23.8MB/s]\n"
          ]
        }
      ]
    },
    {
      "cell_type": "code",
      "source": [
        "!mkdir data"
      ],
      "metadata": {
        "id": "IE_kL9nvxFFA"
      },
      "execution_count": null,
      "outputs": []
    },
    {
      "cell_type": "code",
      "source": [
        "!unzip /content/bbc-full-text-document-classification.zip -d /content/data"
      ],
      "metadata": {
        "colab": {
          "base_uri": "https://localhost:8080/"
        },
        "id": "2QMzV88mxHDP",
        "outputId": "ad0a21b7-a57f-44ab-b0a2-9148d10a0f2e"
      },
      "execution_count": null,
      "outputs": [
        {
          "output_type": "stream",
          "name": "stdout",
          "text": [
            "Archive:  /content/bbc-full-text-document-classification.zip\n",
            "  inflating: /content/data/bbc_data.csv  \n"
          ]
        }
      ]
    },
    {
      "cell_type": "code",
      "source": [
        "import numpy as np\n",
        "import gensim.downloader\n",
        "import tensorflow as tf\n",
        "from tensorflow import keras\n",
        "import matplotlib.pyplot as plt\n",
        "import numpy as np\n",
        "import plotly.express as px\n",
        "import pandas as pd\n",
        "from sklearn.utils import shuffle\n",
        "from sklearn.model_selection import train_test_split\n",
        "from sklearn.preprocessing import LabelEncoder\n",
        "from keras.callbacks import ReduceLROnPlateau,ModelCheckpoint, EarlyStopping\n",
        "from tensorflow.keras import layers\n",
        "import warnings\n",
        "warnings.filterwarnings(\"ignore\")\n",
        "from sklearn.metrics import classification_report\n",
        "keras.utils.set_random_seed(42)"
      ],
      "metadata": {
        "id": "UqsjvTGHx-Zn"
      },
      "execution_count": null,
      "outputs": []
    },
    {
      "cell_type": "code",
      "source": [
        "df=pd.read_csv(\"/content/data/bbc_data.csv\",encoding='unicode_escape', on_bad_lines='skip')"
      ],
      "metadata": {
        "id": "ogv8RHzWx8a3"
      },
      "execution_count": null,
      "outputs": []
    },
    {
      "cell_type": "code",
      "source": [
        "df.head()"
      ],
      "metadata": {
        "colab": {
          "base_uri": "https://localhost:8080/",
          "height": 206
        },
        "id": "wt4DLyKryP_R",
        "outputId": "98295282-538e-496b-bf84-6dfa42a4b1ce"
      },
      "execution_count": null,
      "outputs": [
        {
          "output_type": "execute_result",
          "data": {
            "text/plain": [
              "                                                data         labels\n",
              "0  Musicians to tackle US red tape  Musicians gro...  entertainment\n",
              "1  U2s desire to be number one  U2, who have won ...  entertainment\n",
              "2  Rocker Doherty in on-stage fight  Rock singer ...  entertainment\n",
              "3  Snicket tops US box office chart  The film ada...  entertainment\n",
              "4  Oceans Twelve raids box office  Oceans Twelve,...  entertainment"
            ],
            "text/html": [
              "\n",
              "  <div id=\"df-70caf2eb-515a-446b-842f-e6d99a4c3f96\" class=\"colab-df-container\">\n",
              "    <div>\n",
              "<style scoped>\n",
              "    .dataframe tbody tr th:only-of-type {\n",
              "        vertical-align: middle;\n",
              "    }\n",
              "\n",
              "    .dataframe tbody tr th {\n",
              "        vertical-align: top;\n",
              "    }\n",
              "\n",
              "    .dataframe thead th {\n",
              "        text-align: right;\n",
              "    }\n",
              "</style>\n",
              "<table border=\"1\" class=\"dataframe\">\n",
              "  <thead>\n",
              "    <tr style=\"text-align: right;\">\n",
              "      <th></th>\n",
              "      <th>data</th>\n",
              "      <th>labels</th>\n",
              "    </tr>\n",
              "  </thead>\n",
              "  <tbody>\n",
              "    <tr>\n",
              "      <th>0</th>\n",
              "      <td>Musicians to tackle US red tape  Musicians gro...</td>\n",
              "      <td>entertainment</td>\n",
              "    </tr>\n",
              "    <tr>\n",
              "      <th>1</th>\n",
              "      <td>U2s desire to be number one  U2, who have won ...</td>\n",
              "      <td>entertainment</td>\n",
              "    </tr>\n",
              "    <tr>\n",
              "      <th>2</th>\n",
              "      <td>Rocker Doherty in on-stage fight  Rock singer ...</td>\n",
              "      <td>entertainment</td>\n",
              "    </tr>\n",
              "    <tr>\n",
              "      <th>3</th>\n",
              "      <td>Snicket tops US box office chart  The film ada...</td>\n",
              "      <td>entertainment</td>\n",
              "    </tr>\n",
              "    <tr>\n",
              "      <th>4</th>\n",
              "      <td>Oceans Twelve raids box office  Oceans Twelve,...</td>\n",
              "      <td>entertainment</td>\n",
              "    </tr>\n",
              "  </tbody>\n",
              "</table>\n",
              "</div>\n",
              "    <div class=\"colab-df-buttons\">\n",
              "\n",
              "  <div class=\"colab-df-container\">\n",
              "    <button class=\"colab-df-convert\" onclick=\"convertToInteractive('df-70caf2eb-515a-446b-842f-e6d99a4c3f96')\"\n",
              "            title=\"Convert this dataframe to an interactive table.\"\n",
              "            style=\"display:none;\">\n",
              "\n",
              "  <svg xmlns=\"http://www.w3.org/2000/svg\" height=\"24px\" viewBox=\"0 -960 960 960\">\n",
              "    <path d=\"M120-120v-720h720v720H120Zm60-500h600v-160H180v160Zm220 220h160v-160H400v160Zm0 220h160v-160H400v160ZM180-400h160v-160H180v160Zm440 0h160v-160H620v160ZM180-180h160v-160H180v160Zm440 0h160v-160H620v160Z\"/>\n",
              "  </svg>\n",
              "    </button>\n",
              "\n",
              "  <style>\n",
              "    .colab-df-container {\n",
              "      display:flex;\n",
              "      gap: 12px;\n",
              "    }\n",
              "\n",
              "    .colab-df-convert {\n",
              "      background-color: #E8F0FE;\n",
              "      border: none;\n",
              "      border-radius: 50%;\n",
              "      cursor: pointer;\n",
              "      display: none;\n",
              "      fill: #1967D2;\n",
              "      height: 32px;\n",
              "      padding: 0 0 0 0;\n",
              "      width: 32px;\n",
              "    }\n",
              "\n",
              "    .colab-df-convert:hover {\n",
              "      background-color: #E2EBFA;\n",
              "      box-shadow: 0px 1px 2px rgba(60, 64, 67, 0.3), 0px 1px 3px 1px rgba(60, 64, 67, 0.15);\n",
              "      fill: #174EA6;\n",
              "    }\n",
              "\n",
              "    .colab-df-buttons div {\n",
              "      margin-bottom: 4px;\n",
              "    }\n",
              "\n",
              "    [theme=dark] .colab-df-convert {\n",
              "      background-color: #3B4455;\n",
              "      fill: #D2E3FC;\n",
              "    }\n",
              "\n",
              "    [theme=dark] .colab-df-convert:hover {\n",
              "      background-color: #434B5C;\n",
              "      box-shadow: 0px 1px 3px 1px rgba(0, 0, 0, 0.15);\n",
              "      filter: drop-shadow(0px 1px 2px rgba(0, 0, 0, 0.3));\n",
              "      fill: #FFFFFF;\n",
              "    }\n",
              "  </style>\n",
              "\n",
              "    <script>\n",
              "      const buttonEl =\n",
              "        document.querySelector('#df-70caf2eb-515a-446b-842f-e6d99a4c3f96 button.colab-df-convert');\n",
              "      buttonEl.style.display =\n",
              "        google.colab.kernel.accessAllowed ? 'block' : 'none';\n",
              "\n",
              "      async function convertToInteractive(key) {\n",
              "        const element = document.querySelector('#df-70caf2eb-515a-446b-842f-e6d99a4c3f96');\n",
              "        const dataTable =\n",
              "          await google.colab.kernel.invokeFunction('convertToInteractive',\n",
              "                                                    [key], {});\n",
              "        if (!dataTable) return;\n",
              "\n",
              "        const docLinkHtml = 'Like what you see? Visit the ' +\n",
              "          '<a target=\"_blank\" href=https://colab.research.google.com/notebooks/data_table.ipynb>data table notebook</a>'\n",
              "          + ' to learn more about interactive tables.';\n",
              "        element.innerHTML = '';\n",
              "        dataTable['output_type'] = 'display_data';\n",
              "        await google.colab.output.renderOutput(dataTable, element);\n",
              "        const docLink = document.createElement('div');\n",
              "        docLink.innerHTML = docLinkHtml;\n",
              "        element.appendChild(docLink);\n",
              "      }\n",
              "    </script>\n",
              "  </div>\n",
              "\n",
              "\n",
              "<div id=\"df-507d2809-e164-4ef7-82f8-a80178772b7e\">\n",
              "  <button class=\"colab-df-quickchart\" onclick=\"quickchart('df-507d2809-e164-4ef7-82f8-a80178772b7e')\"\n",
              "            title=\"Suggest charts\"\n",
              "            style=\"display:none;\">\n",
              "\n",
              "<svg xmlns=\"http://www.w3.org/2000/svg\" height=\"24px\"viewBox=\"0 0 24 24\"\n",
              "     width=\"24px\">\n",
              "    <g>\n",
              "        <path d=\"M19 3H5c-1.1 0-2 .9-2 2v14c0 1.1.9 2 2 2h14c1.1 0 2-.9 2-2V5c0-1.1-.9-2-2-2zM9 17H7v-7h2v7zm4 0h-2V7h2v10zm4 0h-2v-4h2v4z\"/>\n",
              "    </g>\n",
              "</svg>\n",
              "  </button>\n",
              "\n",
              "<style>\n",
              "  .colab-df-quickchart {\n",
              "      --bg-color: #E8F0FE;\n",
              "      --fill-color: #1967D2;\n",
              "      --hover-bg-color: #E2EBFA;\n",
              "      --hover-fill-color: #174EA6;\n",
              "      --disabled-fill-color: #AAA;\n",
              "      --disabled-bg-color: #DDD;\n",
              "  }\n",
              "\n",
              "  [theme=dark] .colab-df-quickchart {\n",
              "      --bg-color: #3B4455;\n",
              "      --fill-color: #D2E3FC;\n",
              "      --hover-bg-color: #434B5C;\n",
              "      --hover-fill-color: #FFFFFF;\n",
              "      --disabled-bg-color: #3B4455;\n",
              "      --disabled-fill-color: #666;\n",
              "  }\n",
              "\n",
              "  .colab-df-quickchart {\n",
              "    background-color: var(--bg-color);\n",
              "    border: none;\n",
              "    border-radius: 50%;\n",
              "    cursor: pointer;\n",
              "    display: none;\n",
              "    fill: var(--fill-color);\n",
              "    height: 32px;\n",
              "    padding: 0;\n",
              "    width: 32px;\n",
              "  }\n",
              "\n",
              "  .colab-df-quickchart:hover {\n",
              "    background-color: var(--hover-bg-color);\n",
              "    box-shadow: 0 1px 2px rgba(60, 64, 67, 0.3), 0 1px 3px 1px rgba(60, 64, 67, 0.15);\n",
              "    fill: var(--button-hover-fill-color);\n",
              "  }\n",
              "\n",
              "  .colab-df-quickchart-complete:disabled,\n",
              "  .colab-df-quickchart-complete:disabled:hover {\n",
              "    background-color: var(--disabled-bg-color);\n",
              "    fill: var(--disabled-fill-color);\n",
              "    box-shadow: none;\n",
              "  }\n",
              "\n",
              "  .colab-df-spinner {\n",
              "    border: 2px solid var(--fill-color);\n",
              "    border-color: transparent;\n",
              "    border-bottom-color: var(--fill-color);\n",
              "    animation:\n",
              "      spin 1s steps(1) infinite;\n",
              "  }\n",
              "\n",
              "  @keyframes spin {\n",
              "    0% {\n",
              "      border-color: transparent;\n",
              "      border-bottom-color: var(--fill-color);\n",
              "      border-left-color: var(--fill-color);\n",
              "    }\n",
              "    20% {\n",
              "      border-color: transparent;\n",
              "      border-left-color: var(--fill-color);\n",
              "      border-top-color: var(--fill-color);\n",
              "    }\n",
              "    30% {\n",
              "      border-color: transparent;\n",
              "      border-left-color: var(--fill-color);\n",
              "      border-top-color: var(--fill-color);\n",
              "      border-right-color: var(--fill-color);\n",
              "    }\n",
              "    40% {\n",
              "      border-color: transparent;\n",
              "      border-right-color: var(--fill-color);\n",
              "      border-top-color: var(--fill-color);\n",
              "    }\n",
              "    60% {\n",
              "      border-color: transparent;\n",
              "      border-right-color: var(--fill-color);\n",
              "    }\n",
              "    80% {\n",
              "      border-color: transparent;\n",
              "      border-right-color: var(--fill-color);\n",
              "      border-bottom-color: var(--fill-color);\n",
              "    }\n",
              "    90% {\n",
              "      border-color: transparent;\n",
              "      border-bottom-color: var(--fill-color);\n",
              "    }\n",
              "  }\n",
              "</style>\n",
              "\n",
              "  <script>\n",
              "    async function quickchart(key) {\n",
              "      const quickchartButtonEl =\n",
              "        document.querySelector('#' + key + ' button');\n",
              "      quickchartButtonEl.disabled = true;  // To prevent multiple clicks.\n",
              "      quickchartButtonEl.classList.add('colab-df-spinner');\n",
              "      try {\n",
              "        const charts = await google.colab.kernel.invokeFunction(\n",
              "            'suggestCharts', [key], {});\n",
              "      } catch (error) {\n",
              "        console.error('Error during call to suggestCharts:', error);\n",
              "      }\n",
              "      quickchartButtonEl.classList.remove('colab-df-spinner');\n",
              "      quickchartButtonEl.classList.add('colab-df-quickchart-complete');\n",
              "    }\n",
              "    (() => {\n",
              "      let quickchartButtonEl =\n",
              "        document.querySelector('#df-507d2809-e164-4ef7-82f8-a80178772b7e button');\n",
              "      quickchartButtonEl.style.display =\n",
              "        google.colab.kernel.accessAllowed ? 'block' : 'none';\n",
              "    })();\n",
              "  </script>\n",
              "</div>\n",
              "\n",
              "    </div>\n",
              "  </div>\n"
            ],
            "application/vnd.google.colaboratory.intrinsic+json": {
              "type": "dataframe",
              "variable_name": "df",
              "summary": "{\n  \"name\": \"df\",\n  \"rows\": 2225,\n  \"fields\": [\n    {\n      \"column\": \"data\",\n      \"properties\": {\n        \"dtype\": \"string\",\n        \"num_unique_values\": 2126,\n        \"samples\": [\n          \"Media seek Jackson juror notes  Reporters covering singer Michael Jacksons trial in California have asked to see questionnaires completed by potential jurors.  Lawyers for news organisations said it was \\\"really vital\\\" for the responses of 250 potential jurors to be made public \\\"to serve as a check on the process\\\". Santa Barbara County Superior Court is due to consider the request on Monday. Mr Jackson denies child molestation. It is estimated his trial will cost Santa Barbara county up to $4m (xc2xa32.13m).  Meanwhile Michael Jacksons mother has said she is \\\"100% certain\\\" her son did not commit the child abuse charges he faces. The court is currently selecting 12 jurors and eight stand-by jurors for the trial, a process delayed until at least Thursday after a member of the stars legal team was hit by family illness. Defence lawyers argued against the bid by Associated Press and other news organisations to have potential jurors responses made public.  \\\"The release of the completed jury questionnaires does not serve any purpose other than to add to the sensationalist coverage of this case,\\\" a motion by Mr Jacksons lawyers stated. The estimated total costs of the trial, expected to last five months, range from $2.5m (xc2xa31.33m) to $4m (xc2xa32.13m) of local taxpayers money. Those estimates do not include costs to the city of Santa Maria, the Superior Court or for the investigation and prosecution of the case. The cost of security and other needs around the courthouse has been estimated at $40,000 (xc2xa321,000) per day, said Jason Stilwell, a special projects manager at the county administrators office.  Mr Jackson, 46, denies plying a boy with alcohol and molesting him. His mother Katherine Jackson told US TV network Fox News on Sunday that her pop star son told her he was innocent. \\\"I believe that for one reason - I know his character,\\\" she said. \\\"He loves children. You dont molest anything that you love.\\\" Describing Mr Jackson as \\\"a good person\\\", the mother-of-nine said she feared he would not be given a fair trial. \\\"I cant sleep thinking about what these wicked people might try to do to him,\\\" she said. \",\n          \"Game firm holds cast auditions  Video game firm Bioware is to hold open auditions for people to become cast members for future games.  The company, which makes role playing games such as Knights of the Old Republic and Neverwinter Nights, is seeking people aged 18 to 99. The Canada-based company says it was looking for \\\"a wide variety of people to use as face models for characters\\\". Everyone chosen to appear in a video game will receive a performers fee for the use of their image. The company is inviting people to come along to a shopping mall in West Edmonton, Alberta, on Friday and Saturday, bringing along a piece of photo identification.  \\\"There are hundreds and hundreds of characters in a typical Bioware game,\\\" said Shauna Perry, Biowares audio and external resources producer. \\\"Those people live in any city and village and so we need ordinary people, people with interesting faces.\\\" She added: \\\"Not everyone is a model in the world so we dont want just models in our games.\\\" People chosen to appear in a game will have their head scanned in three dimensions. Hundreds of photos of the persons head are taken so that a model of the head can be generated in 3D. \\\"The 3D model will look exactly like the person - its really quite incredible how detailed they are,\\\" said Ms Perry. She said chosen participants will have no control over how the image is used in a computer game. \\\"We cannot give people any control over how the images are used. \\\"But their face could be used in multiple games - so they could be the hero in one, the villain in another and just a merchant in a third.\\\" \",\n          \"Citizenship event for 18s touted  Citizenship ceremonies could be introduced for people celebrating their 18th birthday, Charles Clarke has said.  The idea will be tried as part of an overhaul of the way government approaches \\\"inclusive citizenship\\\" particularly for ethnic minorities. A pilot scheme based on ceremonies in Australia will start in October. Mr Clarke said it would be a way of recognising young people reaching their voting age when they also gain greater independence from parents. Britains young black and Asian people are to be encouraged to learn about the nations heritage as part of the governments new race strategy which will also target specific issues within different ethnic minority groups. Officials say the home secretary wants young people to feel they belong and to understand their \\\"other cultural identities\\\" alongside being British. The launch follows a row about the role of faith schools in Britain. On Monday school inspection chief David Bell, accused some Islamic schools of failing to teach pupils about their obligations to British society.  The Muslim Council of Britain said Ofsted boss Mr Bells comments were \\\"highly irresponsible\\\". The Home Office started work on its Community Cohesion and Race Equality Strategy last year and the outcome, launched on Wednesday, is called Improving Opportunity, Strengthening Society. It is aimed at tackling racism, exclusion, segregation and the rise in political and religious extremism. \\\"It represents a move away from the one-size-fits-all approach to focus on specifics within cultural groups,\\\" said a Home Office spokesman. \\\"It is not right to say that if you are from a black or ethnic minority group you must be disadvantaged.\\\" The spokesman highlighted specific issues that affect particular communities - for example people of south Asian origin tend to suffer from a high incidence of heart disease.  \\\"It is about drilling down and focusing on these sorts of problems,\\\" the spokesman added. Launching the initiative Mr Clarke said enormous progress had been made on race issues in recent years. He added: \\\"But while many members of black and minority ethnic communities are thriving, some may still find it harder to succeed in employment or gain access to healthcare, education or housing. \\\"This strategy sets out the governments commitment to doing more to identify and respond to the specific needs of minorities in our society.\\\" Some 8% of the UK population described themselves as coming from a non-white ethnic minority in the 2001 Census.  The Downing Street Strategy Unit in 2003 said people from Indian and Chinese backgrounds were doing well on average, often outperforming white people in education and earnings. But those of Pakistani, Bangladeshi and black Caribbean origin were significantly more likely to be unemployed and earn less than whites, it said. The Home Office wants more initiatives which try to promote a sense of belonging by encouraging young people to take part in voluntary work. The programmes are designed to support the citizenship lessons already taking place in schools. \"\n        ],\n        \"semantic_type\": \"\",\n        \"description\": \"\"\n      }\n    },\n    {\n      \"column\": \"labels\",\n      \"properties\": {\n        \"dtype\": \"category\",\n        \"num_unique_values\": 5,\n        \"samples\": [\n          \"business\",\n          \"tech\",\n          \"sport\"\n        ],\n        \"semantic_type\": \"\",\n        \"description\": \"\"\n      }\n    }\n  ]\n}"
            }
          },
          "metadata": {},
          "execution_count": 7
        }
      ]
    },
    {
      "cell_type": "code",
      "source": [
        "df.info()"
      ],
      "metadata": {
        "colab": {
          "base_uri": "https://localhost:8080/"
        },
        "id": "BTHZwLWi89uz",
        "outputId": "008e1add-54d7-4fca-9492-8c30d596bcd8"
      },
      "execution_count": null,
      "outputs": [
        {
          "output_type": "stream",
          "name": "stdout",
          "text": [
            "<class 'pandas.core.frame.DataFrame'>\n",
            "RangeIndex: 2225 entries, 0 to 2224\n",
            "Data columns (total 2 columns):\n",
            " #   Column  Non-Null Count  Dtype \n",
            "---  ------  --------------  ----- \n",
            " 0   data    2225 non-null   object\n",
            " 1   labels  2225 non-null   object\n",
            "dtypes: object(2)\n",
            "memory usage: 34.9+ KB\n"
          ]
        }
      ]
    },
    {
      "cell_type": "code",
      "source": [
        "np.unique(df[\"labels\"].values)"
      ],
      "metadata": {
        "colab": {
          "base_uri": "https://localhost:8080/"
        },
        "id": "iOAZyJN6Kwl4",
        "outputId": "b4beedfe-434d-44c4-8e00-6a978dc1353d"
      },
      "execution_count": null,
      "outputs": [
        {
          "output_type": "execute_result",
          "data": {
            "text/plain": [
              "array(['business', 'entertainment', 'politics', 'sport', 'tech'],\n",
              "      dtype=object)"
            ]
          },
          "metadata": {},
          "execution_count": 9
        }
      ]
    },
    {
      "cell_type": "code",
      "source": [
        "df.isnull().values.any()"
      ],
      "metadata": {
        "colab": {
          "base_uri": "https://localhost:8080/"
        },
        "id": "fVDJm2FO9EKK",
        "outputId": "7eab95eb-8708-4f47-a1bc-8520e6b1a927"
      },
      "execution_count": null,
      "outputs": [
        {
          "output_type": "execute_result",
          "data": {
            "text/plain": [
              "False"
            ]
          },
          "metadata": {},
          "execution_count": 10
        }
      ]
    },
    {
      "cell_type": "code",
      "source": [
        "fig = px.histogram(df, x=df['data'].apply(lambda x: x.split()).str.len().values ,nbins=50)\n",
        "fig.update_layout(\n",
        "    title=\"Sentences\",\n",
        "    xaxis_title=\"Sentences with number of words\",\n",
        "    font=dict(\n",
        "        family=\"Courier New, monospace\",\n",
        "        size=18,\n",
        "        color=\"#7f7f7f\"\n",
        "    )\n",
        ")\n",
        "fig.show()"
      ],
      "metadata": {
        "colab": {
          "base_uri": "https://localhost:8080/",
          "height": 542
        },
        "id": "-oOa4kjuyuDd",
        "outputId": "6360b636-2ea6-442d-eeaf-2ebaaf525ed4"
      },
      "execution_count": null,
      "outputs": [
        {
          "output_type": "display_data",
          "data": {
            "text/html": [
              "<html>\n",
              "<head><meta charset=\"utf-8\" /></head>\n",
              "<body>\n",
              "    <div>            <script src=\"https://cdnjs.cloudflare.com/ajax/libs/mathjax/2.7.5/MathJax.js?config=TeX-AMS-MML_SVG\"></script><script type=\"text/javascript\">if (window.MathJax && window.MathJax.Hub && window.MathJax.Hub.Config) {window.MathJax.Hub.Config({SVG: {font: \"STIX-Web\"}});}</script>                <script type=\"text/javascript\">window.PlotlyConfig = {MathJaxConfig: 'local'};</script>\n",
              "        <script charset=\"utf-8\" src=\"https://cdn.plot.ly/plotly-2.24.1.min.js\"></script>                <div id=\"4e5161a4-bb81-42d2-b16d-4359c8b6925e\" class=\"plotly-graph-div\" style=\"height:525px; width:100%;\"></div>            <script type=\"text/javascript\">                                    window.PLOTLYENV=window.PLOTLYENV || {};                                    if (document.getElementById(\"4e5161a4-bb81-42d2-b16d-4359c8b6925e\")) {                    Plotly.newPlot(                        \"4e5161a4-bb81-42d2-b16d-4359c8b6925e\",                        [{\"alignmentgroup\":\"True\",\"bingroup\":\"x\",\"hovertemplate\":\"x=%{x}\\u003cbr\\u003ecount=%{y}\\u003cextra\\u003e\\u003c\\u002fextra\\u003e\",\"legendgroup\":\"\",\"marker\":{\"color\":\"#636efa\",\"pattern\":{\"shape\":\"\"}},\"name\":\"\",\"nbinsx\":50,\"offsetgroup\":\"\",\"orientation\":\"v\",\"showlegend\":false,\"x\":[378,838,358,177,251,333,252,311,211,525,179,427,175,253,304,270,274,347,752,240,594,363,673,253,146,251,336,318,389,283,281,296,241,323,1046,500,235,214,251,222,159,467,186,171,350,203,578,230,334,309,201,183,217,241,179,363,724,226,239,192,252,208,204,260,533,566,269,271,289,282,157,287,194,239,254,258,326,591,292,211,258,306,226,557,226,192,184,245,556,253,560,192,252,222,164,219,517,274,246,226,264,224,232,250,190,649,253,335,472,180,196,411,238,253,207,193,432,300,322,268,450,326,246,396,299,190,259,503,201,587,314,386,218,180,370,176,244,601,471,632,322,179,196,306,214,314,322,289,252,261,245,249,229,375,234,230,291,470,251,201,213,238,187,381,244,177,480,359,165,234,444,271,315,234,597,236,226,634,251,560,225,601,243,998,485,214,510,234,394,146,218,232,259,289,204,254,414,228,255,262,454,335,399,263,668,211,256,197,175,573,378,227,216,319,200,229,457,277,303,277,318,174,567,202,288,228,227,354,217,471,234,197,190,261,316,494,2391,384,273,290,403,196,276,164,299,259,153,220,183,230,286,412,298,335,349,402,599,248,268,198,319,226,167,208,393,272,289,236,397,508,367,194,232,252,806,372,197,312,386,274,213,293,334,216,306,251,236,511,243,400,358,619,225,227,295,264,309,157,2347,201,224,242,214,233,394,251,384,533,317,321,192,742,233,197,274,227,166,274,376,298,263,378,243,253,413,299,212,525,449,280,295,231,331,360,449,301,221,264,233,389,403,337,453,207,227,221,164,419,205,217,206,394,194,664,232,245,297,262,244,413,201,225,174,218,332,301,269,259,360,238,177,639,304,285,242,1280,237,334,233,215,144,323,3482,235,183,549,324,448,546,173,151,143,254,265,351,342,303,143,359,218,225,352,360,327,209,482,374,162,352,203,617,214,266,859,248,320,237,286,732,468,604,194,443,289,478,420,480,207,185,273,155,340,232,728,476,301,187,236,235,227,319,282,376,323,500,266,269,432,489,214,395,430,278,319,305,287,279,241,272,297,215,225,250,206,247,165,291,309,370,295,294,254,217,211,295,473,225,249,192,551,504,294,355,206,307,527,227,491,273,287,306,444,321,196,281,200,383,369,269,313,184,291,198,382,709,193,488,280,520,453,264,214,402,346,441,287,456,253,244,355,486,481,219,261,326,292,293,424,247,384,219,297,642,356,349,466,211,387,277,259,278,258,269,178,311,505,222,258,143,255,492,282,595,209,366,403,421,606,285,498,427,345,211,186,266,634,363,217,278,286,297,328,168,401,162,352,316,410,552,559,224,415,161,406,228,153,301,275,314,475,399,184,300,336,413,264,440,375,211,212,308,191,373,268,203,359,213,365,282,300,284,237,272,239,322,179,292,306,349,435,471,284,339,323,308,558,187,411,339,277,177,303,253,179,174,297,154,263,271,356,177,419,208,481,212,322,179,263,199,351,229,256,302,260,268,173,225,175,149,237,163,273,236,145,405,432,346,353,259,233,233,360,442,271,823,321,658,308,454,391,259,294,175,415,328,305,297,267,160,365,187,364,146,249,656,146,587,891,425,367,244,647,233,329,287,252,219,398,213,455,304,270,191,168,264,225,309,274,226,308,347,400,210,360,331,214,440,211,430,256,423,231,294,214,228,345,336,875,332,304,487,278,298,246,530,209,168,500,884,430,207,140,328,365,536,404,520,149,166,300,282,334,461,367,367,285,154,274,408,391,707,375,171,302,364,389,254,229,444,534,203,611,318,207,286,156,294,297,793,265,265,262,228,386,535,250,349,316,261,257,337,332,222,291,317,224,147,309,211,219,191,193,440,192,211,414,773,173,322,524,375,375,425,301,809,377,211,236,274,481,281,170,520,313,269,202,377,277,201,867,393,318,423,503,351,216,371,293,484,228,314,501,290,192,891,386,252,429,223,388,608,294,315,260,404,308,221,422,171,293,185,281,545,437,416,388,324,305,295,386,330,492,189,242,446,456,296,311,251,361,191,284,267,428,505,732,386,134,132,292,322,377,131,421,311,373,245,447,327,472,423,229,181,453,320,131,153,208,620,648,456,511,668,204,215,138,176,227,254,153,239,120,457,123,277,167,199,126,130,223,289,420,471,470,473,351,419,299,205,156,348,236,224,297,373,492,131,387,249,241,331,352,239,567,798,563,1355,420,461,234,201,841,411,352,607,155,162,298,376,241,452,180,179,141,294,219,161,191,181,339,130,283,682,275,195,518,439,635,480,614,234,305,357,183,247,725,387,413,593,221,251,691,203,867,265,151,420,423,283,265,149,377,256,314,257,509,746,563,472,302,386,299,386,238,263,314,147,318,300,259,145,404,127,273,578,197,482,318,524,160,160,217,205,632,317,383,248,232,254,638,292,729,152,258,134,175,141,211,145,125,338,188,403,171,192,161,260,177,131,245,205,623,410,430,398,242,677,312,376,190,319,367,216,380,195,250,389,264,421,219,223,591,146,224,443,350,319,455,724,322,779,240,357,601,221,1662,370,137,150,226,309,125,343,341,139,134,207,422,219,220,410,515,288,408,433,535,509,248,311,442,725,213,203,220,294,346,425,353,145,314,649,152,278,409,335,777,214,182,412,302,260,387,515,286,158,320,247,398,189,249,345,277,243,224,181,265,156,333,255,662,235,247,302,384,321,305,235,224,944,397,313,441,246,235,729,167,196,232,241,226,311,506,543,219,301,210,317,185,258,291,340,297,373,174,406,232,305,648,407,287,287,145,138,537,335,286,124,434,170,254,267,217,207,335,188,295,379,262,213,304,439,341,154,265,190,352,506,185,454,451,229,114,200,159,185,145,828,196,390,440,249,392,264,229,256,811,162,1356,436,249,416,200,348,523,289,228,228,425,149,306,400,213,608,508,187,301,649,301,738,426,127,133,235,225,266,186,501,444,527,593,529,338,140,228,313,147,137,1384,495,399,269,158,629,438,219,163,309,222,421,171,344,222,497,772,221,222,428,196,189,162,164,230,240,130,610,307,347,142,159,285,156,346,491,185,123,116,151,125,511,156,476,134,167,276,682,296,246,415,195,142,131,298,252,330,425,320,317,387,349,133,550,189,184,773,170,279,261,1045,139,301,251,356,401,341,145,166,294,162,444,406,277,447,173,268,296,249,500,279,301,238,150,175,325,306,206,444,395,427,494,462,455,201,529,301,615,621,418,448,613,473,223,575,585,484,435,317,293,835,327,445,560,142,564,247,259,369,277,534,729,160,641,280,540,503,474,568,402,593,289,527,386,629,509,609,435,531,532,500,377,439,156,162,375,514,555,332,359,568,383,355,335,569,698,514,858,408,514,450,283,313,928,533,410,289,381,370,472,483,402,527,315,402,548,321,342,336,685,481,523,170,196,476,256,717,196,457,538,650,483,986,509,400,250,313,508,538,236,379,299,486,443,365,468,473,248,519,677,432,597,587,260,259,251,857,276,372,554,517,416,399,308,421,450,154,422,274,574,245,532,283,504,514,507,256,155,264,483,686,258,496,550,669,502,543,461,307,263,252,194,317,249,159,349,417,501,347,428,449,391,384,283,293,538,416,276,387,484,480,377,504,398,407,484,568,514,529,424,411,470,588,293,431,406,336,408,419,540,89,519,291,578,501,364,358,498,547,695,448,519,526,276,220,319,336,175,484,152,358,233,483,530,579,426,540,456,426,3295,437,162,321,483,359,509,174,604,511,227,308,339,536,554,441,318,162,335,280,258,360,258,389,518,214,224,248,315,183,612,366,494,878,455,274,569,577,464,162,474,566,456,239,468,631,502,322,494,412,399,663,455,283,570,421,465,325,469,479,514,356,596,433,574,453,767,363,488,426,244,345,260,474,597,625,330,304,196,573,517,379,636,512,375,603,540,299,579,247,436,814,180,394,461,547,250,578,503,285,584,433,338,497,427,495,748,371,542,447,342,489,528,579,492,544,428,202,232,401,274,600,162,257,201,495,511,180,571,622,579,312,674,381,491,765,500,264,258,578,511,614,287,478,320,499,253,609,298,317,460,439,428,502,181,456,1183,324,277,2393,285,180,571,563,616,259,641,220,689,422,435,609,423,419,708,440,379,355,461,380,284,480,412,404,625,263,4432,669,446,217,581,277,500,374,466,367,256,614,395,272,197,420,356,388,473,272,420,602,436,801,498,514,321,510,629,464,569,288,1044,550,481,339,245,850,332,756,434,336,365,241,440,393,264,727,809,700,886,511,686,336,659,729,365,940,694,262,563,307,625,543,446,368,271,327,436,585,423,630,328,698,762,297,415,897,707,756,691,464,1028,625,307,659,344,290,349,727,433,448,809,213,522,1349,393,697,544,483,798,459,810,256,233,278,532,689,383,658,375,352,730,504,283,465,328,898,357,646,476,487,296,447,569,233,420,798,380,672,292,474,391,621,303,215,570,804,409,340,328,357,2969,519,434,328,379,811,1050,545,913,402,464,508,334,646,629,182,367,525,629,266,839,364,340,1003,629,1003,397,622,411,448,723,923,529,278,531,382,218,517,645,617,304,213,608,268,671,806,420,712,863,475,455,369,251,399,625,1001,548,519,560,353,263,420,264,670,349,231,504,403,339,1234,298,420,369,738,315,304,835,338,516,500,374,863,511,578,961,500,361,355,284,467,550,715,401,231,531,377,290,287,641,636,438,815,335,316,808,393,273,494,732,337,581,635,485,383,368,349,197,891,478,357,315,322,629,438,550,346,330,806,567,409,335,792,1528,400,275,268,492,586,336,500,403,375,568,600,822,447,328,322,524,563,739,489,291,484,296,487,245,573,855,366,390,741,394,630,807,613,465,587,404,259,560,469,445,470,243,658,764,440,734,269,643,553,913,500,588,262,684,319,476,215,445,847,816,421,912,594,341,228,294,897,397,232,324,558,636,393,808,395,452,710,691,506,426,325,364,560,825,663,266,283,321,434,278,328,334,432,400,353,502,340,452,327,671,729,697,399,284,644,777,329,321,430,336,438,364,560,310,325,264,652,383,385,394,250,434,416,460,384,293,332,162],\"xaxis\":\"x\",\"yaxis\":\"y\",\"type\":\"histogram\"}],                        {\"template\":{\"data\":{\"histogram2dcontour\":[{\"type\":\"histogram2dcontour\",\"colorbar\":{\"outlinewidth\":0,\"ticks\":\"\"},\"colorscale\":[[0.0,\"#0d0887\"],[0.1111111111111111,\"#46039f\"],[0.2222222222222222,\"#7201a8\"],[0.3333333333333333,\"#9c179e\"],[0.4444444444444444,\"#bd3786\"],[0.5555555555555556,\"#d8576b\"],[0.6666666666666666,\"#ed7953\"],[0.7777777777777778,\"#fb9f3a\"],[0.8888888888888888,\"#fdca26\"],[1.0,\"#f0f921\"]]}],\"choropleth\":[{\"type\":\"choropleth\",\"colorbar\":{\"outlinewidth\":0,\"ticks\":\"\"}}],\"histogram2d\":[{\"type\":\"histogram2d\",\"colorbar\":{\"outlinewidth\":0,\"ticks\":\"\"},\"colorscale\":[[0.0,\"#0d0887\"],[0.1111111111111111,\"#46039f\"],[0.2222222222222222,\"#7201a8\"],[0.3333333333333333,\"#9c179e\"],[0.4444444444444444,\"#bd3786\"],[0.5555555555555556,\"#d8576b\"],[0.6666666666666666,\"#ed7953\"],[0.7777777777777778,\"#fb9f3a\"],[0.8888888888888888,\"#fdca26\"],[1.0,\"#f0f921\"]]}],\"heatmap\":[{\"type\":\"heatmap\",\"colorbar\":{\"outlinewidth\":0,\"ticks\":\"\"},\"colorscale\":[[0.0,\"#0d0887\"],[0.1111111111111111,\"#46039f\"],[0.2222222222222222,\"#7201a8\"],[0.3333333333333333,\"#9c179e\"],[0.4444444444444444,\"#bd3786\"],[0.5555555555555556,\"#d8576b\"],[0.6666666666666666,\"#ed7953\"],[0.7777777777777778,\"#fb9f3a\"],[0.8888888888888888,\"#fdca26\"],[1.0,\"#f0f921\"]]}],\"heatmapgl\":[{\"type\":\"heatmapgl\",\"colorbar\":{\"outlinewidth\":0,\"ticks\":\"\"},\"colorscale\":[[0.0,\"#0d0887\"],[0.1111111111111111,\"#46039f\"],[0.2222222222222222,\"#7201a8\"],[0.3333333333333333,\"#9c179e\"],[0.4444444444444444,\"#bd3786\"],[0.5555555555555556,\"#d8576b\"],[0.6666666666666666,\"#ed7953\"],[0.7777777777777778,\"#fb9f3a\"],[0.8888888888888888,\"#fdca26\"],[1.0,\"#f0f921\"]]}],\"contourcarpet\":[{\"type\":\"contourcarpet\",\"colorbar\":{\"outlinewidth\":0,\"ticks\":\"\"}}],\"contour\":[{\"type\":\"contour\",\"colorbar\":{\"outlinewidth\":0,\"ticks\":\"\"},\"colorscale\":[[0.0,\"#0d0887\"],[0.1111111111111111,\"#46039f\"],[0.2222222222222222,\"#7201a8\"],[0.3333333333333333,\"#9c179e\"],[0.4444444444444444,\"#bd3786\"],[0.5555555555555556,\"#d8576b\"],[0.6666666666666666,\"#ed7953\"],[0.7777777777777778,\"#fb9f3a\"],[0.8888888888888888,\"#fdca26\"],[1.0,\"#f0f921\"]]}],\"surface\":[{\"type\":\"surface\",\"colorbar\":{\"outlinewidth\":0,\"ticks\":\"\"},\"colorscale\":[[0.0,\"#0d0887\"],[0.1111111111111111,\"#46039f\"],[0.2222222222222222,\"#7201a8\"],[0.3333333333333333,\"#9c179e\"],[0.4444444444444444,\"#bd3786\"],[0.5555555555555556,\"#d8576b\"],[0.6666666666666666,\"#ed7953\"],[0.7777777777777778,\"#fb9f3a\"],[0.8888888888888888,\"#fdca26\"],[1.0,\"#f0f921\"]]}],\"mesh3d\":[{\"type\":\"mesh3d\",\"colorbar\":{\"outlinewidth\":0,\"ticks\":\"\"}}],\"scatter\":[{\"fillpattern\":{\"fillmode\":\"overlay\",\"size\":10,\"solidity\":0.2},\"type\":\"scatter\"}],\"parcoords\":[{\"type\":\"parcoords\",\"line\":{\"colorbar\":{\"outlinewidth\":0,\"ticks\":\"\"}}}],\"scatterpolargl\":[{\"type\":\"scatterpolargl\",\"marker\":{\"colorbar\":{\"outlinewidth\":0,\"ticks\":\"\"}}}],\"bar\":[{\"error_x\":{\"color\":\"#2a3f5f\"},\"error_y\":{\"color\":\"#2a3f5f\"},\"marker\":{\"line\":{\"color\":\"#E5ECF6\",\"width\":0.5},\"pattern\":{\"fillmode\":\"overlay\",\"size\":10,\"solidity\":0.2}},\"type\":\"bar\"}],\"scattergeo\":[{\"type\":\"scattergeo\",\"marker\":{\"colorbar\":{\"outlinewidth\":0,\"ticks\":\"\"}}}],\"scatterpolar\":[{\"type\":\"scatterpolar\",\"marker\":{\"colorbar\":{\"outlinewidth\":0,\"ticks\":\"\"}}}],\"histogram\":[{\"marker\":{\"pattern\":{\"fillmode\":\"overlay\",\"size\":10,\"solidity\":0.2}},\"type\":\"histogram\"}],\"scattergl\":[{\"type\":\"scattergl\",\"marker\":{\"colorbar\":{\"outlinewidth\":0,\"ticks\":\"\"}}}],\"scatter3d\":[{\"type\":\"scatter3d\",\"line\":{\"colorbar\":{\"outlinewidth\":0,\"ticks\":\"\"}},\"marker\":{\"colorbar\":{\"outlinewidth\":0,\"ticks\":\"\"}}}],\"scattermapbox\":[{\"type\":\"scattermapbox\",\"marker\":{\"colorbar\":{\"outlinewidth\":0,\"ticks\":\"\"}}}],\"scatterternary\":[{\"type\":\"scatterternary\",\"marker\":{\"colorbar\":{\"outlinewidth\":0,\"ticks\":\"\"}}}],\"scattercarpet\":[{\"type\":\"scattercarpet\",\"marker\":{\"colorbar\":{\"outlinewidth\":0,\"ticks\":\"\"}}}],\"carpet\":[{\"aaxis\":{\"endlinecolor\":\"#2a3f5f\",\"gridcolor\":\"white\",\"linecolor\":\"white\",\"minorgridcolor\":\"white\",\"startlinecolor\":\"#2a3f5f\"},\"baxis\":{\"endlinecolor\":\"#2a3f5f\",\"gridcolor\":\"white\",\"linecolor\":\"white\",\"minorgridcolor\":\"white\",\"startlinecolor\":\"#2a3f5f\"},\"type\":\"carpet\"}],\"table\":[{\"cells\":{\"fill\":{\"color\":\"#EBF0F8\"},\"line\":{\"color\":\"white\"}},\"header\":{\"fill\":{\"color\":\"#C8D4E3\"},\"line\":{\"color\":\"white\"}},\"type\":\"table\"}],\"barpolar\":[{\"marker\":{\"line\":{\"color\":\"#E5ECF6\",\"width\":0.5},\"pattern\":{\"fillmode\":\"overlay\",\"size\":10,\"solidity\":0.2}},\"type\":\"barpolar\"}],\"pie\":[{\"automargin\":true,\"type\":\"pie\"}]},\"layout\":{\"autotypenumbers\":\"strict\",\"colorway\":[\"#636efa\",\"#EF553B\",\"#00cc96\",\"#ab63fa\",\"#FFA15A\",\"#19d3f3\",\"#FF6692\",\"#B6E880\",\"#FF97FF\",\"#FECB52\"],\"font\":{\"color\":\"#2a3f5f\"},\"hovermode\":\"closest\",\"hoverlabel\":{\"align\":\"left\"},\"paper_bgcolor\":\"white\",\"plot_bgcolor\":\"#E5ECF6\",\"polar\":{\"bgcolor\":\"#E5ECF6\",\"angularaxis\":{\"gridcolor\":\"white\",\"linecolor\":\"white\",\"ticks\":\"\"},\"radialaxis\":{\"gridcolor\":\"white\",\"linecolor\":\"white\",\"ticks\":\"\"}},\"ternary\":{\"bgcolor\":\"#E5ECF6\",\"aaxis\":{\"gridcolor\":\"white\",\"linecolor\":\"white\",\"ticks\":\"\"},\"baxis\":{\"gridcolor\":\"white\",\"linecolor\":\"white\",\"ticks\":\"\"},\"caxis\":{\"gridcolor\":\"white\",\"linecolor\":\"white\",\"ticks\":\"\"}},\"coloraxis\":{\"colorbar\":{\"outlinewidth\":0,\"ticks\":\"\"}},\"colorscale\":{\"sequential\":[[0.0,\"#0d0887\"],[0.1111111111111111,\"#46039f\"],[0.2222222222222222,\"#7201a8\"],[0.3333333333333333,\"#9c179e\"],[0.4444444444444444,\"#bd3786\"],[0.5555555555555556,\"#d8576b\"],[0.6666666666666666,\"#ed7953\"],[0.7777777777777778,\"#fb9f3a\"],[0.8888888888888888,\"#fdca26\"],[1.0,\"#f0f921\"]],\"sequentialminus\":[[0.0,\"#0d0887\"],[0.1111111111111111,\"#46039f\"],[0.2222222222222222,\"#7201a8\"],[0.3333333333333333,\"#9c179e\"],[0.4444444444444444,\"#bd3786\"],[0.5555555555555556,\"#d8576b\"],[0.6666666666666666,\"#ed7953\"],[0.7777777777777778,\"#fb9f3a\"],[0.8888888888888888,\"#fdca26\"],[1.0,\"#f0f921\"]],\"diverging\":[[0,\"#8e0152\"],[0.1,\"#c51b7d\"],[0.2,\"#de77ae\"],[0.3,\"#f1b6da\"],[0.4,\"#fde0ef\"],[0.5,\"#f7f7f7\"],[0.6,\"#e6f5d0\"],[0.7,\"#b8e186\"],[0.8,\"#7fbc41\"],[0.9,\"#4d9221\"],[1,\"#276419\"]]},\"xaxis\":{\"gridcolor\":\"white\",\"linecolor\":\"white\",\"ticks\":\"\",\"title\":{\"standoff\":15},\"zerolinecolor\":\"white\",\"automargin\":true,\"zerolinewidth\":2},\"yaxis\":{\"gridcolor\":\"white\",\"linecolor\":\"white\",\"ticks\":\"\",\"title\":{\"standoff\":15},\"zerolinecolor\":\"white\",\"automargin\":true,\"zerolinewidth\":2},\"scene\":{\"xaxis\":{\"backgroundcolor\":\"#E5ECF6\",\"gridcolor\":\"white\",\"linecolor\":\"white\",\"showbackground\":true,\"ticks\":\"\",\"zerolinecolor\":\"white\",\"gridwidth\":2},\"yaxis\":{\"backgroundcolor\":\"#E5ECF6\",\"gridcolor\":\"white\",\"linecolor\":\"white\",\"showbackground\":true,\"ticks\":\"\",\"zerolinecolor\":\"white\",\"gridwidth\":2},\"zaxis\":{\"backgroundcolor\":\"#E5ECF6\",\"gridcolor\":\"white\",\"linecolor\":\"white\",\"showbackground\":true,\"ticks\":\"\",\"zerolinecolor\":\"white\",\"gridwidth\":2}},\"shapedefaults\":{\"line\":{\"color\":\"#2a3f5f\"}},\"annotationdefaults\":{\"arrowcolor\":\"#2a3f5f\",\"arrowhead\":0,\"arrowwidth\":1},\"geo\":{\"bgcolor\":\"white\",\"landcolor\":\"#E5ECF6\",\"subunitcolor\":\"white\",\"showland\":true,\"showlakes\":true,\"lakecolor\":\"white\"},\"title\":{\"x\":0.05},\"mapbox\":{\"style\":\"light\"}}},\"xaxis\":{\"anchor\":\"y\",\"domain\":[0.0,1.0],\"title\":{\"text\":\"Sentences with number of words\"}},\"yaxis\":{\"anchor\":\"x\",\"domain\":[0.0,1.0],\"title\":{\"text\":\"count\"}},\"legend\":{\"tracegroupgap\":0},\"margin\":{\"t\":60},\"barmode\":\"relative\",\"font\":{\"family\":\"Courier New, monospace\",\"size\":18,\"color\":\"#7f7f7f\"},\"title\":{\"text\":\"Sentences\"}},                        {\"responsive\": true}                    ).then(function(){\n",
              "                            \n",
              "var gd = document.getElementById('4e5161a4-bb81-42d2-b16d-4359c8b6925e');\n",
              "var x = new MutationObserver(function (mutations, observer) {{\n",
              "        var display = window.getComputedStyle(gd).display;\n",
              "        if (!display || display === 'none') {{\n",
              "            console.log([gd, 'removed!']);\n",
              "            Plotly.purge(gd);\n",
              "            observer.disconnect();\n",
              "        }}\n",
              "}});\n",
              "\n",
              "// Listen for the removal of the full notebook cells\n",
              "var notebookContainer = gd.closest('#notebook-container');\n",
              "if (notebookContainer) {{\n",
              "    x.observe(notebookContainer, {childList: true});\n",
              "}}\n",
              "\n",
              "// Listen for the clearing of the current output cell\n",
              "var outputEl = gd.closest('.output');\n",
              "if (outputEl) {{\n",
              "    x.observe(outputEl, {childList: true});\n",
              "}}\n",
              "\n",
              "                        })                };                            </script>        </div>\n",
              "</body>\n",
              "</html>"
            ]
          },
          "metadata": {}
        }
      ]
    },
    {
      "cell_type": "code",
      "source": [
        "fig = px.histogram(df, x=df['labels'] ,nbins=50)\n",
        "fig.update_layout(\n",
        "    title=\"Sentences\",\n",
        "    xaxis_title=\"labels\",\n",
        "    font=dict(\n",
        "        family=\"Courier New, monospace\",\n",
        "        size=18,\n",
        "        color=\"#7f7f7f\"\n",
        "    )\n",
        ")\n",
        "fig.show()"
      ],
      "metadata": {
        "colab": {
          "base_uri": "https://localhost:8080/",
          "height": 542
        },
        "id": "jO72txjr261Q",
        "outputId": "aca9ad3c-84e1-4ad6-d2c9-54cf44116aff"
      },
      "execution_count": null,
      "outputs": [
        {
          "output_type": "display_data",
          "data": {
            "text/html": [
              "<html>\n",
              "<head><meta charset=\"utf-8\" /></head>\n",
              "<body>\n",
              "    <div>            <script src=\"https://cdnjs.cloudflare.com/ajax/libs/mathjax/2.7.5/MathJax.js?config=TeX-AMS-MML_SVG\"></script><script type=\"text/javascript\">if (window.MathJax && window.MathJax.Hub && window.MathJax.Hub.Config) {window.MathJax.Hub.Config({SVG: {font: \"STIX-Web\"}});}</script>                <script type=\"text/javascript\">window.PlotlyConfig = {MathJaxConfig: 'local'};</script>\n",
              "        <script charset=\"utf-8\" src=\"https://cdn.plot.ly/plotly-2.24.1.min.js\"></script>                <div id=\"bbd23e2b-5457-4a4b-8602-b92ee788aae7\" class=\"plotly-graph-div\" style=\"height:525px; width:100%;\"></div>            <script type=\"text/javascript\">                                    window.PLOTLYENV=window.PLOTLYENV || {};                                    if (document.getElementById(\"bbd23e2b-5457-4a4b-8602-b92ee788aae7\")) {                    Plotly.newPlot(                        \"bbd23e2b-5457-4a4b-8602-b92ee788aae7\",                        [{\"alignmentgroup\":\"True\",\"bingroup\":\"x\",\"hovertemplate\":\"labels=%{x}\\u003cbr\\u003ecount=%{y}\\u003cextra\\u003e\\u003c\\u002fextra\\u003e\",\"legendgroup\":\"\",\"marker\":{\"color\":\"#636efa\",\"pattern\":{\"shape\":\"\"}},\"name\":\"\",\"nbinsx\":50,\"offsetgroup\":\"\",\"orientation\":\"v\",\"showlegend\":false,\"x\":[\"entertainment\",\"entertainment\",\"entertainment\",\"entertainment\",\"entertainment\",\"entertainment\",\"entertainment\",\"entertainment\",\"entertainment\",\"entertainment\",\"entertainment\",\"entertainment\",\"entertainment\",\"entertainment\",\"entertainment\",\"entertainment\",\"entertainment\",\"entertainment\",\"entertainment\",\"entertainment\",\"entertainment\",\"entertainment\",\"entertainment\",\"entertainment\",\"entertainment\",\"entertainment\",\"entertainment\",\"entertainment\",\"entertainment\",\"entertainment\",\"entertainment\",\"entertainment\",\"entertainment\",\"entertainment\",\"entertainment\",\"entertainment\",\"entertainment\",\"entertainment\",\"entertainment\",\"entertainment\",\"entertainment\",\"entertainment\",\"entertainment\",\"entertainment\",\"entertainment\",\"entertainment\",\"entertainment\",\"entertainment\",\"entertainment\",\"entertainment\",\"entertainment\",\"entertainment\",\"entertainment\",\"entertainment\",\"entertainment\",\"entertainment\",\"entertainment\",\"entertainment\",\"entertainment\",\"entertainment\",\"entertainment\",\"entertainment\",\"entertainment\",\"entertainment\",\"entertainment\",\"entertainment\",\"entertainment\",\"entertainment\",\"entertainment\",\"entertainment\",\"entertainment\",\"entertainment\",\"entertainment\",\"entertainment\",\"entertainment\",\"entertainment\",\"entertainment\",\"entertainment\",\"entertainment\",\"entertainment\",\"entertainment\",\"entertainment\",\"entertainment\",\"entertainment\",\"entertainment\",\"entertainment\",\"entertainment\",\"entertainment\",\"entertainment\",\"entertainment\",\"entertainment\",\"entertainment\",\"entertainment\",\"entertainment\",\"entertainment\",\"entertainment\",\"entertainment\",\"entertainment\",\"entertainment\",\"entertainment\",\"entertainment\",\"entertainment\",\"entertainment\",\"entertainment\",\"entertainment\",\"entertainment\",\"entertainment\",\"entertainment\",\"entertainment\",\"entertainment\",\"entertainment\",\"entertainment\",\"entertainment\",\"entertainment\",\"entertainment\",\"entertainment\",\"entertainment\",\"entertainment\",\"entertainment\",\"entertainment\",\"entertainment\",\"entertainment\",\"entertainment\",\"entertainment\",\"entertainment\",\"entertainment\",\"entertainment\",\"entertainment\",\"entertainment\",\"entertainment\",\"entertainment\",\"entertainment\",\"entertainment\",\"entertainment\",\"entertainment\",\"entertainment\",\"entertainment\",\"entertainment\",\"entertainment\",\"entertainment\",\"entertainment\",\"entertainment\",\"entertainment\",\"entertainment\",\"entertainment\",\"entertainment\",\"entertainment\",\"entertainment\",\"entertainment\",\"entertainment\",\"entertainment\",\"entertainment\",\"entertainment\",\"entertainment\",\"entertainment\",\"entertainment\",\"entertainment\",\"entertainment\",\"entertainment\",\"entertainment\",\"entertainment\",\"entertainment\",\"entertainment\",\"entertainment\",\"entertainment\",\"entertainment\",\"entertainment\",\"entertainment\",\"entertainment\",\"entertainment\",\"entertainment\",\"entertainment\",\"entertainment\",\"entertainment\",\"entertainment\",\"entertainment\",\"entertainment\",\"entertainment\",\"entertainment\",\"entertainment\",\"entertainment\",\"entertainment\",\"entertainment\",\"entertainment\",\"entertainment\",\"entertainment\",\"entertainment\",\"entertainment\",\"entertainment\",\"entertainment\",\"entertainment\",\"entertainment\",\"entertainment\",\"entertainment\",\"entertainment\",\"entertainment\",\"entertainment\",\"entertainment\",\"entertainment\",\"entertainment\",\"entertainment\",\"entertainment\",\"entertainment\",\"entertainment\",\"entertainment\",\"entertainment\",\"entertainment\",\"entertainment\",\"entertainment\",\"entertainment\",\"entertainment\",\"entertainment\",\"entertainment\",\"entertainment\",\"entertainment\",\"entertainment\",\"entertainment\",\"entertainment\",\"entertainment\",\"entertainment\",\"entertainment\",\"entertainment\",\"entertainment\",\"entertainment\",\"entertainment\",\"entertainment\",\"entertainment\",\"entertainment\",\"entertainment\",\"entertainment\",\"entertainment\",\"entertainment\",\"entertainment\",\"entertainment\",\"entertainment\",\"entertainment\",\"entertainment\",\"entertainment\",\"entertainment\",\"entertainment\",\"entertainment\",\"entertainment\",\"entertainment\",\"entertainment\",\"entertainment\",\"entertainment\",\"entertainment\",\"entertainment\",\"entertainment\",\"entertainment\",\"entertainment\",\"entertainment\",\"entertainment\",\"entertainment\",\"entertainment\",\"entertainment\",\"entertainment\",\"entertainment\",\"entertainment\",\"entertainment\",\"entertainment\",\"entertainment\",\"entertainment\",\"entertainment\",\"entertainment\",\"entertainment\",\"entertainment\",\"entertainment\",\"entertainment\",\"entertainment\",\"entertainment\",\"entertainment\",\"entertainment\",\"entertainment\",\"entertainment\",\"entertainment\",\"entertainment\",\"entertainment\",\"entertainment\",\"entertainment\",\"entertainment\",\"entertainment\",\"entertainment\",\"entertainment\",\"entertainment\",\"entertainment\",\"entertainment\",\"entertainment\",\"entertainment\",\"entertainment\",\"entertainment\",\"entertainment\",\"entertainment\",\"entertainment\",\"entertainment\",\"entertainment\",\"entertainment\",\"entertainment\",\"entertainment\",\"entertainment\",\"entertainment\",\"entertainment\",\"entertainment\",\"entertainment\",\"entertainment\",\"entertainment\",\"entertainment\",\"entertainment\",\"entertainment\",\"entertainment\",\"entertainment\",\"entertainment\",\"entertainment\",\"entertainment\",\"entertainment\",\"entertainment\",\"entertainment\",\"entertainment\",\"entertainment\",\"entertainment\",\"entertainment\",\"entertainment\",\"entertainment\",\"entertainment\",\"entertainment\",\"entertainment\",\"entertainment\",\"entertainment\",\"entertainment\",\"entertainment\",\"entertainment\",\"entertainment\",\"entertainment\",\"entertainment\",\"entertainment\",\"entertainment\",\"entertainment\",\"entertainment\",\"entertainment\",\"entertainment\",\"entertainment\",\"entertainment\",\"entertainment\",\"entertainment\",\"entertainment\",\"entertainment\",\"entertainment\",\"entertainment\",\"entertainment\",\"entertainment\",\"entertainment\",\"entertainment\",\"entertainment\",\"entertainment\",\"entertainment\",\"entertainment\",\"entertainment\",\"entertainment\",\"entertainment\",\"entertainment\",\"entertainment\",\"entertainment\",\"entertainment\",\"entertainment\",\"entertainment\",\"entertainment\",\"entertainment\",\"entertainment\",\"entertainment\",\"entertainment\",\"entertainment\",\"entertainment\",\"entertainment\",\"entertainment\",\"entertainment\",\"entertainment\",\"entertainment\",\"entertainment\",\"entertainment\",\"entertainment\",\"entertainment\",\"entertainment\",\"entertainment\",\"entertainment\",\"entertainment\",\"entertainment\",\"business\",\"business\",\"business\",\"business\",\"business\",\"business\",\"business\",\"business\",\"business\",\"business\",\"business\",\"business\",\"business\",\"business\",\"business\",\"business\",\"business\",\"business\",\"business\",\"business\",\"business\",\"business\",\"business\",\"business\",\"business\",\"business\",\"business\",\"business\",\"business\",\"business\",\"business\",\"business\",\"business\",\"business\",\"business\",\"business\",\"business\",\"business\",\"business\",\"business\",\"business\",\"business\",\"business\",\"business\",\"business\",\"business\",\"business\",\"business\",\"business\",\"business\",\"business\",\"business\",\"business\",\"business\",\"business\",\"business\",\"business\",\"business\",\"business\",\"business\",\"business\",\"business\",\"business\",\"business\",\"business\",\"business\",\"business\",\"business\",\"business\",\"business\",\"business\",\"business\",\"business\",\"business\",\"business\",\"business\",\"business\",\"business\",\"business\",\"business\",\"business\",\"business\",\"business\",\"business\",\"business\",\"business\",\"business\",\"business\",\"business\",\"business\",\"business\",\"business\",\"business\",\"business\",\"business\",\"business\",\"business\",\"business\",\"business\",\"business\",\"business\",\"business\",\"business\",\"business\",\"business\",\"business\",\"business\",\"business\",\"business\",\"business\",\"business\",\"business\",\"business\",\"business\",\"business\",\"business\",\"business\",\"business\",\"business\",\"business\",\"business\",\"business\",\"business\",\"business\",\"business\",\"business\",\"business\",\"business\",\"business\",\"business\",\"business\",\"business\",\"business\",\"business\",\"business\",\"business\",\"business\",\"business\",\"business\",\"business\",\"business\",\"business\",\"business\",\"business\",\"business\",\"business\",\"business\",\"business\",\"business\",\"business\",\"business\",\"business\",\"business\",\"business\",\"business\",\"business\",\"business\",\"business\",\"business\",\"business\",\"business\",\"business\",\"business\",\"business\",\"business\",\"business\",\"business\",\"business\",\"business\",\"business\",\"business\",\"business\",\"business\",\"business\",\"business\",\"business\",\"business\",\"business\",\"business\",\"business\",\"business\",\"business\",\"business\",\"business\",\"business\",\"business\",\"business\",\"business\",\"business\",\"business\",\"business\",\"business\",\"business\",\"business\",\"business\",\"business\",\"business\",\"business\",\"business\",\"business\",\"business\",\"business\",\"business\",\"business\",\"business\",\"business\",\"business\",\"business\",\"business\",\"business\",\"business\",\"business\",\"business\",\"business\",\"business\",\"business\",\"business\",\"business\",\"business\",\"business\",\"business\",\"business\",\"business\",\"business\",\"business\",\"business\",\"business\",\"business\",\"business\",\"business\",\"business\",\"business\",\"business\",\"business\",\"business\",\"business\",\"business\",\"business\",\"business\",\"business\",\"business\",\"business\",\"business\",\"business\",\"business\",\"business\",\"business\",\"business\",\"business\",\"business\",\"business\",\"business\",\"business\",\"business\",\"business\",\"business\",\"business\",\"business\",\"business\",\"business\",\"business\",\"business\",\"business\",\"business\",\"business\",\"business\",\"business\",\"business\",\"business\",\"business\",\"business\",\"business\",\"business\",\"business\",\"business\",\"business\",\"business\",\"business\",\"business\",\"business\",\"business\",\"business\",\"business\",\"business\",\"business\",\"business\",\"business\",\"business\",\"business\",\"business\",\"business\",\"business\",\"business\",\"business\",\"business\",\"business\",\"business\",\"business\",\"business\",\"business\",\"business\",\"business\",\"business\",\"business\",\"business\",\"business\",\"business\",\"business\",\"business\",\"business\",\"business\",\"business\",\"business\",\"business\",\"business\",\"business\",\"business\",\"business\",\"business\",\"business\",\"business\",\"business\",\"business\",\"business\",\"business\",\"business\",\"business\",\"business\",\"business\",\"business\",\"business\",\"business\",\"business\",\"business\",\"business\",\"business\",\"business\",\"business\",\"business\",\"business\",\"business\",\"business\",\"business\",\"business\",\"business\",\"business\",\"business\",\"business\",\"business\",\"business\",\"business\",\"business\",\"business\",\"business\",\"business\",\"business\",\"business\",\"business\",\"business\",\"business\",\"business\",\"business\",\"business\",\"business\",\"business\",\"business\",\"business\",\"business\",\"business\",\"business\",\"business\",\"business\",\"business\",\"business\",\"business\",\"business\",\"business\",\"business\",\"business\",\"business\",\"business\",\"business\",\"business\",\"business\",\"business\",\"business\",\"business\",\"business\",\"business\",\"business\",\"business\",\"business\",\"business\",\"business\",\"business\",\"business\",\"business\",\"business\",\"business\",\"business\",\"business\",\"business\",\"business\",\"business\",\"business\",\"business\",\"business\",\"business\",\"business\",\"business\",\"business\",\"business\",\"business\",\"business\",\"business\",\"business\",\"business\",\"business\",\"business\",\"business\",\"business\",\"business\",\"business\",\"business\",\"business\",\"business\",\"business\",\"business\",\"business\",\"business\",\"business\",\"business\",\"business\",\"business\",\"business\",\"business\",\"business\",\"business\",\"business\",\"business\",\"business\",\"business\",\"business\",\"business\",\"business\",\"business\",\"business\",\"business\",\"business\",\"business\",\"business\",\"business\",\"business\",\"business\",\"business\",\"business\",\"business\",\"business\",\"business\",\"business\",\"business\",\"business\",\"business\",\"business\",\"business\",\"business\",\"business\",\"business\",\"business\",\"business\",\"business\",\"business\",\"business\",\"business\",\"business\",\"business\",\"business\",\"business\",\"business\",\"business\",\"business\",\"business\",\"business\",\"business\",\"business\",\"business\",\"business\",\"business\",\"business\",\"business\",\"business\",\"business\",\"business\",\"business\",\"business\",\"business\",\"business\",\"business\",\"business\",\"business\",\"business\",\"business\",\"business\",\"business\",\"business\",\"business\",\"business\",\"business\",\"business\",\"business\",\"sport\",\"sport\",\"sport\",\"sport\",\"sport\",\"sport\",\"sport\",\"sport\",\"sport\",\"sport\",\"sport\",\"sport\",\"sport\",\"sport\",\"sport\",\"sport\",\"sport\",\"sport\",\"sport\",\"sport\",\"sport\",\"sport\",\"sport\",\"sport\",\"sport\",\"sport\",\"sport\",\"sport\",\"sport\",\"sport\",\"sport\",\"sport\",\"sport\",\"sport\",\"sport\",\"sport\",\"sport\",\"sport\",\"sport\",\"sport\",\"sport\",\"sport\",\"sport\",\"sport\",\"sport\",\"sport\",\"sport\",\"sport\",\"sport\",\"sport\",\"sport\",\"sport\",\"sport\",\"sport\",\"sport\",\"sport\",\"sport\",\"sport\",\"sport\",\"sport\",\"sport\",\"sport\",\"sport\",\"sport\",\"sport\",\"sport\",\"sport\",\"sport\",\"sport\",\"sport\",\"sport\",\"sport\",\"sport\",\"sport\",\"sport\",\"sport\",\"sport\",\"sport\",\"sport\",\"sport\",\"sport\",\"sport\",\"sport\",\"sport\",\"sport\",\"sport\",\"sport\",\"sport\",\"sport\",\"sport\",\"sport\",\"sport\",\"sport\",\"sport\",\"sport\",\"sport\",\"sport\",\"sport\",\"sport\",\"sport\",\"sport\",\"sport\",\"sport\",\"sport\",\"sport\",\"sport\",\"sport\",\"sport\",\"sport\",\"sport\",\"sport\",\"sport\",\"sport\",\"sport\",\"sport\",\"sport\",\"sport\",\"sport\",\"sport\",\"sport\",\"sport\",\"sport\",\"sport\",\"sport\",\"sport\",\"sport\",\"sport\",\"sport\",\"sport\",\"sport\",\"sport\",\"sport\",\"sport\",\"sport\",\"sport\",\"sport\",\"sport\",\"sport\",\"sport\",\"sport\",\"sport\",\"sport\",\"sport\",\"sport\",\"sport\",\"sport\",\"sport\",\"sport\",\"sport\",\"sport\",\"sport\",\"sport\",\"sport\",\"sport\",\"sport\",\"sport\",\"sport\",\"sport\",\"sport\",\"sport\",\"sport\",\"sport\",\"sport\",\"sport\",\"sport\",\"sport\",\"sport\",\"sport\",\"sport\",\"sport\",\"sport\",\"sport\",\"sport\",\"sport\",\"sport\",\"sport\",\"sport\",\"sport\",\"sport\",\"sport\",\"sport\",\"sport\",\"sport\",\"sport\",\"sport\",\"sport\",\"sport\",\"sport\",\"sport\",\"sport\",\"sport\",\"sport\",\"sport\",\"sport\",\"sport\",\"sport\",\"sport\",\"sport\",\"sport\",\"sport\",\"sport\",\"sport\",\"sport\",\"sport\",\"sport\",\"sport\",\"sport\",\"sport\",\"sport\",\"sport\",\"sport\",\"sport\",\"sport\",\"sport\",\"sport\",\"sport\",\"sport\",\"sport\",\"sport\",\"sport\",\"sport\",\"sport\",\"sport\",\"sport\",\"sport\",\"sport\",\"sport\",\"sport\",\"sport\",\"sport\",\"sport\",\"sport\",\"sport\",\"sport\",\"sport\",\"sport\",\"sport\",\"sport\",\"sport\",\"sport\",\"sport\",\"sport\",\"sport\",\"sport\",\"sport\",\"sport\",\"sport\",\"sport\",\"sport\",\"sport\",\"sport\",\"sport\",\"sport\",\"sport\",\"sport\",\"sport\",\"sport\",\"sport\",\"sport\",\"sport\",\"sport\",\"sport\",\"sport\",\"sport\",\"sport\",\"sport\",\"sport\",\"sport\",\"sport\",\"sport\",\"sport\",\"sport\",\"sport\",\"sport\",\"sport\",\"sport\",\"sport\",\"sport\",\"sport\",\"sport\",\"sport\",\"sport\",\"sport\",\"sport\",\"sport\",\"sport\",\"sport\",\"sport\",\"sport\",\"sport\",\"sport\",\"sport\",\"sport\",\"sport\",\"sport\",\"sport\",\"sport\",\"sport\",\"sport\",\"sport\",\"sport\",\"sport\",\"sport\",\"sport\",\"sport\",\"sport\",\"sport\",\"sport\",\"sport\",\"sport\",\"sport\",\"sport\",\"sport\",\"sport\",\"sport\",\"sport\",\"sport\",\"sport\",\"sport\",\"sport\",\"sport\",\"sport\",\"sport\",\"sport\",\"sport\",\"sport\",\"sport\",\"sport\",\"sport\",\"sport\",\"sport\",\"sport\",\"sport\",\"sport\",\"sport\",\"sport\",\"sport\",\"sport\",\"sport\",\"sport\",\"sport\",\"sport\",\"sport\",\"sport\",\"sport\",\"sport\",\"sport\",\"sport\",\"sport\",\"sport\",\"sport\",\"sport\",\"sport\",\"sport\",\"sport\",\"sport\",\"sport\",\"sport\",\"sport\",\"sport\",\"sport\",\"sport\",\"sport\",\"sport\",\"sport\",\"sport\",\"sport\",\"sport\",\"sport\",\"sport\",\"sport\",\"sport\",\"sport\",\"sport\",\"sport\",\"sport\",\"sport\",\"sport\",\"sport\",\"sport\",\"sport\",\"sport\",\"sport\",\"sport\",\"sport\",\"sport\",\"sport\",\"sport\",\"sport\",\"sport\",\"sport\",\"sport\",\"sport\",\"sport\",\"sport\",\"sport\",\"sport\",\"sport\",\"sport\",\"sport\",\"sport\",\"sport\",\"sport\",\"sport\",\"sport\",\"sport\",\"sport\",\"sport\",\"sport\",\"sport\",\"sport\",\"sport\",\"sport\",\"sport\",\"sport\",\"sport\",\"sport\",\"sport\",\"sport\",\"sport\",\"sport\",\"sport\",\"sport\",\"sport\",\"sport\",\"sport\",\"sport\",\"sport\",\"sport\",\"sport\",\"sport\",\"sport\",\"sport\",\"sport\",\"sport\",\"sport\",\"sport\",\"sport\",\"sport\",\"sport\",\"sport\",\"sport\",\"sport\",\"sport\",\"sport\",\"sport\",\"sport\",\"sport\",\"sport\",\"sport\",\"sport\",\"sport\",\"sport\",\"sport\",\"sport\",\"sport\",\"sport\",\"sport\",\"sport\",\"sport\",\"sport\",\"sport\",\"sport\",\"sport\",\"sport\",\"sport\",\"sport\",\"sport\",\"sport\",\"sport\",\"sport\",\"sport\",\"sport\",\"sport\",\"sport\",\"sport\",\"sport\",\"sport\",\"sport\",\"sport\",\"sport\",\"sport\",\"sport\",\"sport\",\"sport\",\"sport\",\"sport\",\"sport\",\"sport\",\"sport\",\"sport\",\"sport\",\"sport\",\"sport\",\"sport\",\"sport\",\"sport\",\"sport\",\"sport\",\"sport\",\"sport\",\"sport\",\"sport\",\"sport\",\"sport\",\"sport\",\"sport\",\"sport\",\"sport\",\"sport\",\"sport\",\"politics\",\"politics\",\"politics\",\"politics\",\"politics\",\"politics\",\"politics\",\"politics\",\"politics\",\"politics\",\"politics\",\"politics\",\"politics\",\"politics\",\"politics\",\"politics\",\"politics\",\"politics\",\"politics\",\"politics\",\"politics\",\"politics\",\"politics\",\"politics\",\"politics\",\"politics\",\"politics\",\"politics\",\"politics\",\"politics\",\"politics\",\"politics\",\"politics\",\"politics\",\"politics\",\"politics\",\"politics\",\"politics\",\"politics\",\"politics\",\"politics\",\"politics\",\"politics\",\"politics\",\"politics\",\"politics\",\"politics\",\"politics\",\"politics\",\"politics\",\"politics\",\"politics\",\"politics\",\"politics\",\"politics\",\"politics\",\"politics\",\"politics\",\"politics\",\"politics\",\"politics\",\"politics\",\"politics\",\"politics\",\"politics\",\"politics\",\"politics\",\"politics\",\"politics\",\"politics\",\"politics\",\"politics\",\"politics\",\"politics\",\"politics\",\"politics\",\"politics\",\"politics\",\"politics\",\"politics\",\"politics\",\"politics\",\"politics\",\"politics\",\"politics\",\"politics\",\"politics\",\"politics\",\"politics\",\"politics\",\"politics\",\"politics\",\"politics\",\"politics\",\"politics\",\"politics\",\"politics\",\"politics\",\"politics\",\"politics\",\"politics\",\"politics\",\"politics\",\"politics\",\"politics\",\"politics\",\"politics\",\"politics\",\"politics\",\"politics\",\"politics\",\"politics\",\"politics\",\"politics\",\"politics\",\"politics\",\"politics\",\"politics\",\"politics\",\"politics\",\"politics\",\"politics\",\"politics\",\"politics\",\"politics\",\"politics\",\"politics\",\"politics\",\"politics\",\"politics\",\"politics\",\"politics\",\"politics\",\"politics\",\"politics\",\"politics\",\"politics\",\"politics\",\"politics\",\"politics\",\"politics\",\"politics\",\"politics\",\"politics\",\"politics\",\"politics\",\"politics\",\"politics\",\"politics\",\"politics\",\"politics\",\"politics\",\"politics\",\"politics\",\"politics\",\"politics\",\"politics\",\"politics\",\"politics\",\"politics\",\"politics\",\"politics\",\"politics\",\"politics\",\"politics\",\"politics\",\"politics\",\"politics\",\"politics\",\"politics\",\"politics\",\"politics\",\"politics\",\"politics\",\"politics\",\"politics\",\"politics\",\"politics\",\"politics\",\"politics\",\"politics\",\"politics\",\"politics\",\"politics\",\"politics\",\"politics\",\"politics\",\"politics\",\"politics\",\"politics\",\"politics\",\"politics\",\"politics\",\"politics\",\"politics\",\"politics\",\"politics\",\"politics\",\"politics\",\"politics\",\"politics\",\"politics\",\"politics\",\"politics\",\"politics\",\"politics\",\"politics\",\"politics\",\"politics\",\"politics\",\"politics\",\"politics\",\"politics\",\"politics\",\"politics\",\"politics\",\"politics\",\"politics\",\"politics\",\"politics\",\"politics\",\"politics\",\"politics\",\"politics\",\"politics\",\"politics\",\"politics\",\"politics\",\"politics\",\"politics\",\"politics\",\"politics\",\"politics\",\"politics\",\"politics\",\"politics\",\"politics\",\"politics\",\"politics\",\"politics\",\"politics\",\"politics\",\"politics\",\"politics\",\"politics\",\"politics\",\"politics\",\"politics\",\"politics\",\"politics\",\"politics\",\"politics\",\"politics\",\"politics\",\"politics\",\"politics\",\"politics\",\"politics\",\"politics\",\"politics\",\"politics\",\"politics\",\"politics\",\"politics\",\"politics\",\"politics\",\"politics\",\"politics\",\"politics\",\"politics\",\"politics\",\"politics\",\"politics\",\"politics\",\"politics\",\"politics\",\"politics\",\"politics\",\"politics\",\"politics\",\"politics\",\"politics\",\"politics\",\"politics\",\"politics\",\"politics\",\"politics\",\"politics\",\"politics\",\"politics\",\"politics\",\"politics\",\"politics\",\"politics\",\"politics\",\"politics\",\"politics\",\"politics\",\"politics\",\"politics\",\"politics\",\"politics\",\"politics\",\"politics\",\"politics\",\"politics\",\"politics\",\"politics\",\"politics\",\"politics\",\"politics\",\"politics\",\"politics\",\"politics\",\"politics\",\"politics\",\"politics\",\"politics\",\"politics\",\"politics\",\"politics\",\"politics\",\"politics\",\"politics\",\"politics\",\"politics\",\"politics\",\"politics\",\"politics\",\"politics\",\"politics\",\"politics\",\"politics\",\"politics\",\"politics\",\"politics\",\"politics\",\"politics\",\"politics\",\"politics\",\"politics\",\"politics\",\"politics\",\"politics\",\"politics\",\"politics\",\"politics\",\"politics\",\"politics\",\"politics\",\"politics\",\"politics\",\"politics\",\"politics\",\"politics\",\"politics\",\"politics\",\"politics\",\"politics\",\"politics\",\"politics\",\"politics\",\"politics\",\"politics\",\"politics\",\"politics\",\"politics\",\"politics\",\"politics\",\"politics\",\"politics\",\"politics\",\"politics\",\"politics\",\"politics\",\"politics\",\"politics\",\"politics\",\"politics\",\"politics\",\"politics\",\"politics\",\"politics\",\"politics\",\"politics\",\"politics\",\"politics\",\"politics\",\"politics\",\"politics\",\"politics\",\"politics\",\"politics\",\"politics\",\"politics\",\"politics\",\"politics\",\"politics\",\"politics\",\"politics\",\"politics\",\"politics\",\"politics\",\"politics\",\"politics\",\"politics\",\"politics\",\"politics\",\"politics\",\"politics\",\"politics\",\"politics\",\"politics\",\"politics\",\"politics\",\"politics\",\"politics\",\"tech\",\"tech\",\"tech\",\"tech\",\"tech\",\"tech\",\"tech\",\"tech\",\"tech\",\"tech\",\"tech\",\"tech\",\"tech\",\"tech\",\"tech\",\"tech\",\"tech\",\"tech\",\"tech\",\"tech\",\"tech\",\"tech\",\"tech\",\"tech\",\"tech\",\"tech\",\"tech\",\"tech\",\"tech\",\"tech\",\"tech\",\"tech\",\"tech\",\"tech\",\"tech\",\"tech\",\"tech\",\"tech\",\"tech\",\"tech\",\"tech\",\"tech\",\"tech\",\"tech\",\"tech\",\"tech\",\"tech\",\"tech\",\"tech\",\"tech\",\"tech\",\"tech\",\"tech\",\"tech\",\"tech\",\"tech\",\"tech\",\"tech\",\"tech\",\"tech\",\"tech\",\"tech\",\"tech\",\"tech\",\"tech\",\"tech\",\"tech\",\"tech\",\"tech\",\"tech\",\"tech\",\"tech\",\"tech\",\"tech\",\"tech\",\"tech\",\"tech\",\"tech\",\"tech\",\"tech\",\"tech\",\"tech\",\"tech\",\"tech\",\"tech\",\"tech\",\"tech\",\"tech\",\"tech\",\"tech\",\"tech\",\"tech\",\"tech\",\"tech\",\"tech\",\"tech\",\"tech\",\"tech\",\"tech\",\"tech\",\"tech\",\"tech\",\"tech\",\"tech\",\"tech\",\"tech\",\"tech\",\"tech\",\"tech\",\"tech\",\"tech\",\"tech\",\"tech\",\"tech\",\"tech\",\"tech\",\"tech\",\"tech\",\"tech\",\"tech\",\"tech\",\"tech\",\"tech\",\"tech\",\"tech\",\"tech\",\"tech\",\"tech\",\"tech\",\"tech\",\"tech\",\"tech\",\"tech\",\"tech\",\"tech\",\"tech\",\"tech\",\"tech\",\"tech\",\"tech\",\"tech\",\"tech\",\"tech\",\"tech\",\"tech\",\"tech\",\"tech\",\"tech\",\"tech\",\"tech\",\"tech\",\"tech\",\"tech\",\"tech\",\"tech\",\"tech\",\"tech\",\"tech\",\"tech\",\"tech\",\"tech\",\"tech\",\"tech\",\"tech\",\"tech\",\"tech\",\"tech\",\"tech\",\"tech\",\"tech\",\"tech\",\"tech\",\"tech\",\"tech\",\"tech\",\"tech\",\"tech\",\"tech\",\"tech\",\"tech\",\"tech\",\"tech\",\"tech\",\"tech\",\"tech\",\"tech\",\"tech\",\"tech\",\"tech\",\"tech\",\"tech\",\"tech\",\"tech\",\"tech\",\"tech\",\"tech\",\"tech\",\"tech\",\"tech\",\"tech\",\"tech\",\"tech\",\"tech\",\"tech\",\"tech\",\"tech\",\"tech\",\"tech\",\"tech\",\"tech\",\"tech\",\"tech\",\"tech\",\"tech\",\"tech\",\"tech\",\"tech\",\"tech\",\"tech\",\"tech\",\"tech\",\"tech\",\"tech\",\"tech\",\"tech\",\"tech\",\"tech\",\"tech\",\"tech\",\"tech\",\"tech\",\"tech\",\"tech\",\"tech\",\"tech\",\"tech\",\"tech\",\"tech\",\"tech\",\"tech\",\"tech\",\"tech\",\"tech\",\"tech\",\"tech\",\"tech\",\"tech\",\"tech\",\"tech\",\"tech\",\"tech\",\"tech\",\"tech\",\"tech\",\"tech\",\"tech\",\"tech\",\"tech\",\"tech\",\"tech\",\"tech\",\"tech\",\"tech\",\"tech\",\"tech\",\"tech\",\"tech\",\"tech\",\"tech\",\"tech\",\"tech\",\"tech\",\"tech\",\"tech\",\"tech\",\"tech\",\"tech\",\"tech\",\"tech\",\"tech\",\"tech\",\"tech\",\"tech\",\"tech\",\"tech\",\"tech\",\"tech\",\"tech\",\"tech\",\"tech\",\"tech\",\"tech\",\"tech\",\"tech\",\"tech\",\"tech\",\"tech\",\"tech\",\"tech\",\"tech\",\"tech\",\"tech\",\"tech\",\"tech\",\"tech\",\"tech\",\"tech\",\"tech\",\"tech\",\"tech\",\"tech\",\"tech\",\"tech\",\"tech\",\"tech\",\"tech\",\"tech\",\"tech\",\"tech\",\"tech\",\"tech\",\"tech\",\"tech\",\"tech\",\"tech\",\"tech\",\"tech\",\"tech\",\"tech\",\"tech\",\"tech\",\"tech\",\"tech\",\"tech\",\"tech\",\"tech\",\"tech\",\"tech\",\"tech\",\"tech\",\"tech\",\"tech\",\"tech\",\"tech\",\"tech\",\"tech\",\"tech\",\"tech\",\"tech\",\"tech\",\"tech\",\"tech\",\"tech\",\"tech\",\"tech\",\"tech\",\"tech\",\"tech\",\"tech\",\"tech\",\"tech\",\"tech\",\"tech\",\"tech\",\"tech\",\"tech\",\"tech\",\"tech\",\"tech\",\"tech\",\"tech\",\"tech\",\"tech\",\"tech\",\"tech\",\"tech\",\"tech\",\"tech\",\"tech\",\"tech\",\"tech\",\"tech\",\"tech\",\"tech\",\"tech\",\"tech\",\"tech\",\"tech\",\"tech\",\"tech\",\"tech\",\"tech\",\"tech\",\"tech\",\"tech\",\"tech\",\"tech\",\"tech\",\"tech\",\"tech\",\"tech\"],\"xaxis\":\"x\",\"yaxis\":\"y\",\"type\":\"histogram\"}],                        {\"template\":{\"data\":{\"histogram2dcontour\":[{\"type\":\"histogram2dcontour\",\"colorbar\":{\"outlinewidth\":0,\"ticks\":\"\"},\"colorscale\":[[0.0,\"#0d0887\"],[0.1111111111111111,\"#46039f\"],[0.2222222222222222,\"#7201a8\"],[0.3333333333333333,\"#9c179e\"],[0.4444444444444444,\"#bd3786\"],[0.5555555555555556,\"#d8576b\"],[0.6666666666666666,\"#ed7953\"],[0.7777777777777778,\"#fb9f3a\"],[0.8888888888888888,\"#fdca26\"],[1.0,\"#f0f921\"]]}],\"choropleth\":[{\"type\":\"choropleth\",\"colorbar\":{\"outlinewidth\":0,\"ticks\":\"\"}}],\"histogram2d\":[{\"type\":\"histogram2d\",\"colorbar\":{\"outlinewidth\":0,\"ticks\":\"\"},\"colorscale\":[[0.0,\"#0d0887\"],[0.1111111111111111,\"#46039f\"],[0.2222222222222222,\"#7201a8\"],[0.3333333333333333,\"#9c179e\"],[0.4444444444444444,\"#bd3786\"],[0.5555555555555556,\"#d8576b\"],[0.6666666666666666,\"#ed7953\"],[0.7777777777777778,\"#fb9f3a\"],[0.8888888888888888,\"#fdca26\"],[1.0,\"#f0f921\"]]}],\"heatmap\":[{\"type\":\"heatmap\",\"colorbar\":{\"outlinewidth\":0,\"ticks\":\"\"},\"colorscale\":[[0.0,\"#0d0887\"],[0.1111111111111111,\"#46039f\"],[0.2222222222222222,\"#7201a8\"],[0.3333333333333333,\"#9c179e\"],[0.4444444444444444,\"#bd3786\"],[0.5555555555555556,\"#d8576b\"],[0.6666666666666666,\"#ed7953\"],[0.7777777777777778,\"#fb9f3a\"],[0.8888888888888888,\"#fdca26\"],[1.0,\"#f0f921\"]]}],\"heatmapgl\":[{\"type\":\"heatmapgl\",\"colorbar\":{\"outlinewidth\":0,\"ticks\":\"\"},\"colorscale\":[[0.0,\"#0d0887\"],[0.1111111111111111,\"#46039f\"],[0.2222222222222222,\"#7201a8\"],[0.3333333333333333,\"#9c179e\"],[0.4444444444444444,\"#bd3786\"],[0.5555555555555556,\"#d8576b\"],[0.6666666666666666,\"#ed7953\"],[0.7777777777777778,\"#fb9f3a\"],[0.8888888888888888,\"#fdca26\"],[1.0,\"#f0f921\"]]}],\"contourcarpet\":[{\"type\":\"contourcarpet\",\"colorbar\":{\"outlinewidth\":0,\"ticks\":\"\"}}],\"contour\":[{\"type\":\"contour\",\"colorbar\":{\"outlinewidth\":0,\"ticks\":\"\"},\"colorscale\":[[0.0,\"#0d0887\"],[0.1111111111111111,\"#46039f\"],[0.2222222222222222,\"#7201a8\"],[0.3333333333333333,\"#9c179e\"],[0.4444444444444444,\"#bd3786\"],[0.5555555555555556,\"#d8576b\"],[0.6666666666666666,\"#ed7953\"],[0.7777777777777778,\"#fb9f3a\"],[0.8888888888888888,\"#fdca26\"],[1.0,\"#f0f921\"]]}],\"surface\":[{\"type\":\"surface\",\"colorbar\":{\"outlinewidth\":0,\"ticks\":\"\"},\"colorscale\":[[0.0,\"#0d0887\"],[0.1111111111111111,\"#46039f\"],[0.2222222222222222,\"#7201a8\"],[0.3333333333333333,\"#9c179e\"],[0.4444444444444444,\"#bd3786\"],[0.5555555555555556,\"#d8576b\"],[0.6666666666666666,\"#ed7953\"],[0.7777777777777778,\"#fb9f3a\"],[0.8888888888888888,\"#fdca26\"],[1.0,\"#f0f921\"]]}],\"mesh3d\":[{\"type\":\"mesh3d\",\"colorbar\":{\"outlinewidth\":0,\"ticks\":\"\"}}],\"scatter\":[{\"fillpattern\":{\"fillmode\":\"overlay\",\"size\":10,\"solidity\":0.2},\"type\":\"scatter\"}],\"parcoords\":[{\"type\":\"parcoords\",\"line\":{\"colorbar\":{\"outlinewidth\":0,\"ticks\":\"\"}}}],\"scatterpolargl\":[{\"type\":\"scatterpolargl\",\"marker\":{\"colorbar\":{\"outlinewidth\":0,\"ticks\":\"\"}}}],\"bar\":[{\"error_x\":{\"color\":\"#2a3f5f\"},\"error_y\":{\"color\":\"#2a3f5f\"},\"marker\":{\"line\":{\"color\":\"#E5ECF6\",\"width\":0.5},\"pattern\":{\"fillmode\":\"overlay\",\"size\":10,\"solidity\":0.2}},\"type\":\"bar\"}],\"scattergeo\":[{\"type\":\"scattergeo\",\"marker\":{\"colorbar\":{\"outlinewidth\":0,\"ticks\":\"\"}}}],\"scatterpolar\":[{\"type\":\"scatterpolar\",\"marker\":{\"colorbar\":{\"outlinewidth\":0,\"ticks\":\"\"}}}],\"histogram\":[{\"marker\":{\"pattern\":{\"fillmode\":\"overlay\",\"size\":10,\"solidity\":0.2}},\"type\":\"histogram\"}],\"scattergl\":[{\"type\":\"scattergl\",\"marker\":{\"colorbar\":{\"outlinewidth\":0,\"ticks\":\"\"}}}],\"scatter3d\":[{\"type\":\"scatter3d\",\"line\":{\"colorbar\":{\"outlinewidth\":0,\"ticks\":\"\"}},\"marker\":{\"colorbar\":{\"outlinewidth\":0,\"ticks\":\"\"}}}],\"scattermapbox\":[{\"type\":\"scattermapbox\",\"marker\":{\"colorbar\":{\"outlinewidth\":0,\"ticks\":\"\"}}}],\"scatterternary\":[{\"type\":\"scatterternary\",\"marker\":{\"colorbar\":{\"outlinewidth\":0,\"ticks\":\"\"}}}],\"scattercarpet\":[{\"type\":\"scattercarpet\",\"marker\":{\"colorbar\":{\"outlinewidth\":0,\"ticks\":\"\"}}}],\"carpet\":[{\"aaxis\":{\"endlinecolor\":\"#2a3f5f\",\"gridcolor\":\"white\",\"linecolor\":\"white\",\"minorgridcolor\":\"white\",\"startlinecolor\":\"#2a3f5f\"},\"baxis\":{\"endlinecolor\":\"#2a3f5f\",\"gridcolor\":\"white\",\"linecolor\":\"white\",\"minorgridcolor\":\"white\",\"startlinecolor\":\"#2a3f5f\"},\"type\":\"carpet\"}],\"table\":[{\"cells\":{\"fill\":{\"color\":\"#EBF0F8\"},\"line\":{\"color\":\"white\"}},\"header\":{\"fill\":{\"color\":\"#C8D4E3\"},\"line\":{\"color\":\"white\"}},\"type\":\"table\"}],\"barpolar\":[{\"marker\":{\"line\":{\"color\":\"#E5ECF6\",\"width\":0.5},\"pattern\":{\"fillmode\":\"overlay\",\"size\":10,\"solidity\":0.2}},\"type\":\"barpolar\"}],\"pie\":[{\"automargin\":true,\"type\":\"pie\"}]},\"layout\":{\"autotypenumbers\":\"strict\",\"colorway\":[\"#636efa\",\"#EF553B\",\"#00cc96\",\"#ab63fa\",\"#FFA15A\",\"#19d3f3\",\"#FF6692\",\"#B6E880\",\"#FF97FF\",\"#FECB52\"],\"font\":{\"color\":\"#2a3f5f\"},\"hovermode\":\"closest\",\"hoverlabel\":{\"align\":\"left\"},\"paper_bgcolor\":\"white\",\"plot_bgcolor\":\"#E5ECF6\",\"polar\":{\"bgcolor\":\"#E5ECF6\",\"angularaxis\":{\"gridcolor\":\"white\",\"linecolor\":\"white\",\"ticks\":\"\"},\"radialaxis\":{\"gridcolor\":\"white\",\"linecolor\":\"white\",\"ticks\":\"\"}},\"ternary\":{\"bgcolor\":\"#E5ECF6\",\"aaxis\":{\"gridcolor\":\"white\",\"linecolor\":\"white\",\"ticks\":\"\"},\"baxis\":{\"gridcolor\":\"white\",\"linecolor\":\"white\",\"ticks\":\"\"},\"caxis\":{\"gridcolor\":\"white\",\"linecolor\":\"white\",\"ticks\":\"\"}},\"coloraxis\":{\"colorbar\":{\"outlinewidth\":0,\"ticks\":\"\"}},\"colorscale\":{\"sequential\":[[0.0,\"#0d0887\"],[0.1111111111111111,\"#46039f\"],[0.2222222222222222,\"#7201a8\"],[0.3333333333333333,\"#9c179e\"],[0.4444444444444444,\"#bd3786\"],[0.5555555555555556,\"#d8576b\"],[0.6666666666666666,\"#ed7953\"],[0.7777777777777778,\"#fb9f3a\"],[0.8888888888888888,\"#fdca26\"],[1.0,\"#f0f921\"]],\"sequentialminus\":[[0.0,\"#0d0887\"],[0.1111111111111111,\"#46039f\"],[0.2222222222222222,\"#7201a8\"],[0.3333333333333333,\"#9c179e\"],[0.4444444444444444,\"#bd3786\"],[0.5555555555555556,\"#d8576b\"],[0.6666666666666666,\"#ed7953\"],[0.7777777777777778,\"#fb9f3a\"],[0.8888888888888888,\"#fdca26\"],[1.0,\"#f0f921\"]],\"diverging\":[[0,\"#8e0152\"],[0.1,\"#c51b7d\"],[0.2,\"#de77ae\"],[0.3,\"#f1b6da\"],[0.4,\"#fde0ef\"],[0.5,\"#f7f7f7\"],[0.6,\"#e6f5d0\"],[0.7,\"#b8e186\"],[0.8,\"#7fbc41\"],[0.9,\"#4d9221\"],[1,\"#276419\"]]},\"xaxis\":{\"gridcolor\":\"white\",\"linecolor\":\"white\",\"ticks\":\"\",\"title\":{\"standoff\":15},\"zerolinecolor\":\"white\",\"automargin\":true,\"zerolinewidth\":2},\"yaxis\":{\"gridcolor\":\"white\",\"linecolor\":\"white\",\"ticks\":\"\",\"title\":{\"standoff\":15},\"zerolinecolor\":\"white\",\"automargin\":true,\"zerolinewidth\":2},\"scene\":{\"xaxis\":{\"backgroundcolor\":\"#E5ECF6\",\"gridcolor\":\"white\",\"linecolor\":\"white\",\"showbackground\":true,\"ticks\":\"\",\"zerolinecolor\":\"white\",\"gridwidth\":2},\"yaxis\":{\"backgroundcolor\":\"#E5ECF6\",\"gridcolor\":\"white\",\"linecolor\":\"white\",\"showbackground\":true,\"ticks\":\"\",\"zerolinecolor\":\"white\",\"gridwidth\":2},\"zaxis\":{\"backgroundcolor\":\"#E5ECF6\",\"gridcolor\":\"white\",\"linecolor\":\"white\",\"showbackground\":true,\"ticks\":\"\",\"zerolinecolor\":\"white\",\"gridwidth\":2}},\"shapedefaults\":{\"line\":{\"color\":\"#2a3f5f\"}},\"annotationdefaults\":{\"arrowcolor\":\"#2a3f5f\",\"arrowhead\":0,\"arrowwidth\":1},\"geo\":{\"bgcolor\":\"white\",\"landcolor\":\"#E5ECF6\",\"subunitcolor\":\"white\",\"showland\":true,\"showlakes\":true,\"lakecolor\":\"white\"},\"title\":{\"x\":0.05},\"mapbox\":{\"style\":\"light\"}}},\"xaxis\":{\"anchor\":\"y\",\"domain\":[0.0,1.0],\"title\":{\"text\":\"labels\"}},\"yaxis\":{\"anchor\":\"x\",\"domain\":[0.0,1.0],\"title\":{\"text\":\"count\"}},\"legend\":{\"tracegroupgap\":0},\"margin\":{\"t\":60},\"barmode\":\"relative\",\"font\":{\"family\":\"Courier New, monospace\",\"size\":18,\"color\":\"#7f7f7f\"},\"title\":{\"text\":\"Sentences\"}},                        {\"responsive\": true}                    ).then(function(){\n",
              "                            \n",
              "var gd = document.getElementById('bbd23e2b-5457-4a4b-8602-b92ee788aae7');\n",
              "var x = new MutationObserver(function (mutations, observer) {{\n",
              "        var display = window.getComputedStyle(gd).display;\n",
              "        if (!display || display === 'none') {{\n",
              "            console.log([gd, 'removed!']);\n",
              "            Plotly.purge(gd);\n",
              "            observer.disconnect();\n",
              "        }}\n",
              "}});\n",
              "\n",
              "// Listen for the removal of the full notebook cells\n",
              "var notebookContainer = gd.closest('#notebook-container');\n",
              "if (notebookContainer) {{\n",
              "    x.observe(notebookContainer, {childList: true});\n",
              "}}\n",
              "\n",
              "// Listen for the clearing of the current output cell\n",
              "var outputEl = gd.closest('.output');\n",
              "if (outputEl) {{\n",
              "    x.observe(outputEl, {childList: true});\n",
              "}}\n",
              "\n",
              "                        })                };                            </script>        </div>\n",
              "</body>\n",
              "</html>"
            ]
          },
          "metadata": {}
        }
      ]
    },
    {
      "cell_type": "markdown",
      "source": [
        "**Data preprocessing**"
      ],
      "metadata": {
        "id": "n6xTZlZg3VhN"
      }
    },
    {
      "cell_type": "code",
      "source": [
        "max_seq=450"
      ],
      "metadata": {
        "id": "yTGsXDrxFBl9"
      },
      "execution_count": null,
      "outputs": []
    },
    {
      "cell_type": "code",
      "source": [
        "df=df[df['data'].apply(lambda x: x.split()).str.len().values<=max_seq]"
      ],
      "metadata": {
        "id": "eAobhnVvFNnK"
      },
      "execution_count": null,
      "outputs": []
    },
    {
      "cell_type": "code",
      "source": [
        "import nltk\n",
        "import re\n",
        "from nltk.corpus import stopwords\n",
        "nltk.download('stopwords')"
      ],
      "metadata": {
        "colab": {
          "base_uri": "https://localhost:8080/"
        },
        "id": "VW-5OYRJ3m7i",
        "outputId": "1b62a59a-8c51-4a6a-c63c-f8a2db82d545"
      },
      "execution_count": null,
      "outputs": [
        {
          "output_type": "stream",
          "name": "stderr",
          "text": [
            "[nltk_data] Downloading package stopwords to /root/nltk_data...\n",
            "[nltk_data]   Unzipping corpora/stopwords.zip.\n"
          ]
        },
        {
          "output_type": "execute_result",
          "data": {
            "text/plain": [
              "True"
            ]
          },
          "metadata": {},
          "execution_count": 15
        }
      ]
    },
    {
      "cell_type": "code",
      "source": [
        "print(stopwords.words('english'))\n",
        "stopWords=stopwords.words('english')"
      ],
      "metadata": {
        "colab": {
          "base_uri": "https://localhost:8080/"
        },
        "id": "hCcsi6g85-aE",
        "outputId": "80e7d452-ec2e-4731-ee6c-619b44683fac"
      },
      "execution_count": null,
      "outputs": [
        {
          "output_type": "stream",
          "name": "stdout",
          "text": [
            "['i', 'me', 'my', 'myself', 'we', 'our', 'ours', 'ourselves', 'you', \"you're\", \"you've\", \"you'll\", \"you'd\", 'your', 'yours', 'yourself', 'yourselves', 'he', 'him', 'his', 'himself', 'she', \"she's\", 'her', 'hers', 'herself', 'it', \"it's\", 'its', 'itself', 'they', 'them', 'their', 'theirs', 'themselves', 'what', 'which', 'who', 'whom', 'this', 'that', \"that'll\", 'these', 'those', 'am', 'is', 'are', 'was', 'were', 'be', 'been', 'being', 'have', 'has', 'had', 'having', 'do', 'does', 'did', 'doing', 'a', 'an', 'the', 'and', 'but', 'if', 'or', 'because', 'as', 'until', 'while', 'of', 'at', 'by', 'for', 'with', 'about', 'against', 'between', 'into', 'through', 'during', 'before', 'after', 'above', 'below', 'to', 'from', 'up', 'down', 'in', 'out', 'on', 'off', 'over', 'under', 'again', 'further', 'then', 'once', 'here', 'there', 'when', 'where', 'why', 'how', 'all', 'any', 'both', 'each', 'few', 'more', 'most', 'other', 'some', 'such', 'no', 'nor', 'not', 'only', 'own', 'same', 'so', 'than', 'too', 'very', 's', 't', 'can', 'will', 'just', 'don', \"don't\", 'should', \"should've\", 'now', 'd', 'll', 'm', 'o', 're', 've', 'y', 'ain', 'aren', \"aren't\", 'couldn', \"couldn't\", 'didn', \"didn't\", 'doesn', \"doesn't\", 'hadn', \"hadn't\", 'hasn', \"hasn't\", 'haven', \"haven't\", 'isn', \"isn't\", 'ma', 'mightn', \"mightn't\", 'mustn', \"mustn't\", 'needn', \"needn't\", 'shan', \"shan't\", 'shouldn', \"shouldn't\", 'wasn', \"wasn't\", 'weren', \"weren't\", 'won', \"won't\", 'wouldn', \"wouldn't\"]\n"
          ]
        }
      ]
    },
    {
      "cell_type": "code",
      "source": [
        "def remove(sentence,stopwords):\n",
        "  newSentence=\"\"\n",
        "  for word in sentence.split():\n",
        "    if(word not in stopwords):\n",
        "      newSentence+=word+\" \"\n",
        "  return newSentence"
      ],
      "metadata": {
        "id": "q3loHX8QAuVR"
      },
      "execution_count": null,
      "outputs": []
    },
    {
      "cell_type": "code",
      "source": [
        "#df['data']=df['data'].apply(lambda x: re.sub(\"[^0-9a-z\\s]\",'',x.lower())).apply(lambda sentence: \" \".join([word for word in sentence.split() if word not in stopWords]))\n",
        "df['data']=df['data'].apply(lambda x: re.sub(\"[^0-9a-z\\s]\",'',x.lower())).apply(lambda sentence: \" \".join([word for word in sentence.split()]))\n",
        "df['encode']=df['labels'].astype('category').cat.codes.astype('int32')"
      ],
      "metadata": {
        "id": "XSICFByO8hQM"
      },
      "execution_count": null,
      "outputs": []
    },
    {
      "cell_type": "code",
      "source": [
        "df.head()"
      ],
      "metadata": {
        "colab": {
          "base_uri": "https://localhost:8080/",
          "height": 206
        },
        "id": "DQTb49af3Y_b",
        "outputId": "11e34014-cbfd-441c-b790-4467e4f707aa"
      },
      "execution_count": null,
      "outputs": [
        {
          "output_type": "execute_result",
          "data": {
            "text/plain": [
              "                                                data         labels  encode\n",
              "0  musicians to tackle us red tape musicians grou...  entertainment       1\n",
              "2  rocker doherty in onstage fight rock singer pe...  entertainment       1\n",
              "3  snicket tops us box office chart the film adap...  entertainment       1\n",
              "4  oceans twelve raids box office oceans twelve t...  entertainment       1\n",
              "5  landmark movies of 2004 hailed us film profess...  entertainment       1"
            ],
            "text/html": [
              "\n",
              "  <div id=\"df-d91187a0-ea21-4207-8576-7052aa5a77c2\" class=\"colab-df-container\">\n",
              "    <div>\n",
              "<style scoped>\n",
              "    .dataframe tbody tr th:only-of-type {\n",
              "        vertical-align: middle;\n",
              "    }\n",
              "\n",
              "    .dataframe tbody tr th {\n",
              "        vertical-align: top;\n",
              "    }\n",
              "\n",
              "    .dataframe thead th {\n",
              "        text-align: right;\n",
              "    }\n",
              "</style>\n",
              "<table border=\"1\" class=\"dataframe\">\n",
              "  <thead>\n",
              "    <tr style=\"text-align: right;\">\n",
              "      <th></th>\n",
              "      <th>data</th>\n",
              "      <th>labels</th>\n",
              "      <th>encode</th>\n",
              "    </tr>\n",
              "  </thead>\n",
              "  <tbody>\n",
              "    <tr>\n",
              "      <th>0</th>\n",
              "      <td>musicians to tackle us red tape musicians grou...</td>\n",
              "      <td>entertainment</td>\n",
              "      <td>1</td>\n",
              "    </tr>\n",
              "    <tr>\n",
              "      <th>2</th>\n",
              "      <td>rocker doherty in onstage fight rock singer pe...</td>\n",
              "      <td>entertainment</td>\n",
              "      <td>1</td>\n",
              "    </tr>\n",
              "    <tr>\n",
              "      <th>3</th>\n",
              "      <td>snicket tops us box office chart the film adap...</td>\n",
              "      <td>entertainment</td>\n",
              "      <td>1</td>\n",
              "    </tr>\n",
              "    <tr>\n",
              "      <th>4</th>\n",
              "      <td>oceans twelve raids box office oceans twelve t...</td>\n",
              "      <td>entertainment</td>\n",
              "      <td>1</td>\n",
              "    </tr>\n",
              "    <tr>\n",
              "      <th>5</th>\n",
              "      <td>landmark movies of 2004 hailed us film profess...</td>\n",
              "      <td>entertainment</td>\n",
              "      <td>1</td>\n",
              "    </tr>\n",
              "  </tbody>\n",
              "</table>\n",
              "</div>\n",
              "    <div class=\"colab-df-buttons\">\n",
              "\n",
              "  <div class=\"colab-df-container\">\n",
              "    <button class=\"colab-df-convert\" onclick=\"convertToInteractive('df-d91187a0-ea21-4207-8576-7052aa5a77c2')\"\n",
              "            title=\"Convert this dataframe to an interactive table.\"\n",
              "            style=\"display:none;\">\n",
              "\n",
              "  <svg xmlns=\"http://www.w3.org/2000/svg\" height=\"24px\" viewBox=\"0 -960 960 960\">\n",
              "    <path d=\"M120-120v-720h720v720H120Zm60-500h600v-160H180v160Zm220 220h160v-160H400v160Zm0 220h160v-160H400v160ZM180-400h160v-160H180v160Zm440 0h160v-160H620v160ZM180-180h160v-160H180v160Zm440 0h160v-160H620v160Z\"/>\n",
              "  </svg>\n",
              "    </button>\n",
              "\n",
              "  <style>\n",
              "    .colab-df-container {\n",
              "      display:flex;\n",
              "      gap: 12px;\n",
              "    }\n",
              "\n",
              "    .colab-df-convert {\n",
              "      background-color: #E8F0FE;\n",
              "      border: none;\n",
              "      border-radius: 50%;\n",
              "      cursor: pointer;\n",
              "      display: none;\n",
              "      fill: #1967D2;\n",
              "      height: 32px;\n",
              "      padding: 0 0 0 0;\n",
              "      width: 32px;\n",
              "    }\n",
              "\n",
              "    .colab-df-convert:hover {\n",
              "      background-color: #E2EBFA;\n",
              "      box-shadow: 0px 1px 2px rgba(60, 64, 67, 0.3), 0px 1px 3px 1px rgba(60, 64, 67, 0.15);\n",
              "      fill: #174EA6;\n",
              "    }\n",
              "\n",
              "    .colab-df-buttons div {\n",
              "      margin-bottom: 4px;\n",
              "    }\n",
              "\n",
              "    [theme=dark] .colab-df-convert {\n",
              "      background-color: #3B4455;\n",
              "      fill: #D2E3FC;\n",
              "    }\n",
              "\n",
              "    [theme=dark] .colab-df-convert:hover {\n",
              "      background-color: #434B5C;\n",
              "      box-shadow: 0px 1px 3px 1px rgba(0, 0, 0, 0.15);\n",
              "      filter: drop-shadow(0px 1px 2px rgba(0, 0, 0, 0.3));\n",
              "      fill: #FFFFFF;\n",
              "    }\n",
              "  </style>\n",
              "\n",
              "    <script>\n",
              "      const buttonEl =\n",
              "        document.querySelector('#df-d91187a0-ea21-4207-8576-7052aa5a77c2 button.colab-df-convert');\n",
              "      buttonEl.style.display =\n",
              "        google.colab.kernel.accessAllowed ? 'block' : 'none';\n",
              "\n",
              "      async function convertToInteractive(key) {\n",
              "        const element = document.querySelector('#df-d91187a0-ea21-4207-8576-7052aa5a77c2');\n",
              "        const dataTable =\n",
              "          await google.colab.kernel.invokeFunction('convertToInteractive',\n",
              "                                                    [key], {});\n",
              "        if (!dataTable) return;\n",
              "\n",
              "        const docLinkHtml = 'Like what you see? Visit the ' +\n",
              "          '<a target=\"_blank\" href=https://colab.research.google.com/notebooks/data_table.ipynb>data table notebook</a>'\n",
              "          + ' to learn more about interactive tables.';\n",
              "        element.innerHTML = '';\n",
              "        dataTable['output_type'] = 'display_data';\n",
              "        await google.colab.output.renderOutput(dataTable, element);\n",
              "        const docLink = document.createElement('div');\n",
              "        docLink.innerHTML = docLinkHtml;\n",
              "        element.appendChild(docLink);\n",
              "      }\n",
              "    </script>\n",
              "  </div>\n",
              "\n",
              "\n",
              "<div id=\"df-ccf82986-9884-421c-bc8e-14b6f480b0db\">\n",
              "  <button class=\"colab-df-quickchart\" onclick=\"quickchart('df-ccf82986-9884-421c-bc8e-14b6f480b0db')\"\n",
              "            title=\"Suggest charts\"\n",
              "            style=\"display:none;\">\n",
              "\n",
              "<svg xmlns=\"http://www.w3.org/2000/svg\" height=\"24px\"viewBox=\"0 0 24 24\"\n",
              "     width=\"24px\">\n",
              "    <g>\n",
              "        <path d=\"M19 3H5c-1.1 0-2 .9-2 2v14c0 1.1.9 2 2 2h14c1.1 0 2-.9 2-2V5c0-1.1-.9-2-2-2zM9 17H7v-7h2v7zm4 0h-2V7h2v10zm4 0h-2v-4h2v4z\"/>\n",
              "    </g>\n",
              "</svg>\n",
              "  </button>\n",
              "\n",
              "<style>\n",
              "  .colab-df-quickchart {\n",
              "      --bg-color: #E8F0FE;\n",
              "      --fill-color: #1967D2;\n",
              "      --hover-bg-color: #E2EBFA;\n",
              "      --hover-fill-color: #174EA6;\n",
              "      --disabled-fill-color: #AAA;\n",
              "      --disabled-bg-color: #DDD;\n",
              "  }\n",
              "\n",
              "  [theme=dark] .colab-df-quickchart {\n",
              "      --bg-color: #3B4455;\n",
              "      --fill-color: #D2E3FC;\n",
              "      --hover-bg-color: #434B5C;\n",
              "      --hover-fill-color: #FFFFFF;\n",
              "      --disabled-bg-color: #3B4455;\n",
              "      --disabled-fill-color: #666;\n",
              "  }\n",
              "\n",
              "  .colab-df-quickchart {\n",
              "    background-color: var(--bg-color);\n",
              "    border: none;\n",
              "    border-radius: 50%;\n",
              "    cursor: pointer;\n",
              "    display: none;\n",
              "    fill: var(--fill-color);\n",
              "    height: 32px;\n",
              "    padding: 0;\n",
              "    width: 32px;\n",
              "  }\n",
              "\n",
              "  .colab-df-quickchart:hover {\n",
              "    background-color: var(--hover-bg-color);\n",
              "    box-shadow: 0 1px 2px rgba(60, 64, 67, 0.3), 0 1px 3px 1px rgba(60, 64, 67, 0.15);\n",
              "    fill: var(--button-hover-fill-color);\n",
              "  }\n",
              "\n",
              "  .colab-df-quickchart-complete:disabled,\n",
              "  .colab-df-quickchart-complete:disabled:hover {\n",
              "    background-color: var(--disabled-bg-color);\n",
              "    fill: var(--disabled-fill-color);\n",
              "    box-shadow: none;\n",
              "  }\n",
              "\n",
              "  .colab-df-spinner {\n",
              "    border: 2px solid var(--fill-color);\n",
              "    border-color: transparent;\n",
              "    border-bottom-color: var(--fill-color);\n",
              "    animation:\n",
              "      spin 1s steps(1) infinite;\n",
              "  }\n",
              "\n",
              "  @keyframes spin {\n",
              "    0% {\n",
              "      border-color: transparent;\n",
              "      border-bottom-color: var(--fill-color);\n",
              "      border-left-color: var(--fill-color);\n",
              "    }\n",
              "    20% {\n",
              "      border-color: transparent;\n",
              "      border-left-color: var(--fill-color);\n",
              "      border-top-color: var(--fill-color);\n",
              "    }\n",
              "    30% {\n",
              "      border-color: transparent;\n",
              "      border-left-color: var(--fill-color);\n",
              "      border-top-color: var(--fill-color);\n",
              "      border-right-color: var(--fill-color);\n",
              "    }\n",
              "    40% {\n",
              "      border-color: transparent;\n",
              "      border-right-color: var(--fill-color);\n",
              "      border-top-color: var(--fill-color);\n",
              "    }\n",
              "    60% {\n",
              "      border-color: transparent;\n",
              "      border-right-color: var(--fill-color);\n",
              "    }\n",
              "    80% {\n",
              "      border-color: transparent;\n",
              "      border-right-color: var(--fill-color);\n",
              "      border-bottom-color: var(--fill-color);\n",
              "    }\n",
              "    90% {\n",
              "      border-color: transparent;\n",
              "      border-bottom-color: var(--fill-color);\n",
              "    }\n",
              "  }\n",
              "</style>\n",
              "\n",
              "  <script>\n",
              "    async function quickchart(key) {\n",
              "      const quickchartButtonEl =\n",
              "        document.querySelector('#' + key + ' button');\n",
              "      quickchartButtonEl.disabled = true;  // To prevent multiple clicks.\n",
              "      quickchartButtonEl.classList.add('colab-df-spinner');\n",
              "      try {\n",
              "        const charts = await google.colab.kernel.invokeFunction(\n",
              "            'suggestCharts', [key], {});\n",
              "      } catch (error) {\n",
              "        console.error('Error during call to suggestCharts:', error);\n",
              "      }\n",
              "      quickchartButtonEl.classList.remove('colab-df-spinner');\n",
              "      quickchartButtonEl.classList.add('colab-df-quickchart-complete');\n",
              "    }\n",
              "    (() => {\n",
              "      let quickchartButtonEl =\n",
              "        document.querySelector('#df-ccf82986-9884-421c-bc8e-14b6f480b0db button');\n",
              "      quickchartButtonEl.style.display =\n",
              "        google.colab.kernel.accessAllowed ? 'block' : 'none';\n",
              "    })();\n",
              "  </script>\n",
              "</div>\n",
              "\n",
              "    </div>\n",
              "  </div>\n"
            ],
            "application/vnd.google.colaboratory.intrinsic+json": {
              "type": "dataframe",
              "variable_name": "df",
              "summary": "{\n  \"name\": \"df\",\n  \"rows\": 1609,\n  \"fields\": [\n    {\n      \"column\": \"data\",\n      \"properties\": {\n        \"dtype\": \"string\",\n        \"num_unique_values\": 1533,\n        \"samples\": [\n          \"taylor poised for scotland return simon taylor has been named in the scotland squad for saturdays six nations clash with italy the 25yearold number eight made a scoring return for edinburgh at the weekend his first game in a year for the capital side taylor suffered knee ligament damage playing against ireland in dublin in the 2004 six nations championship simon is one of scotlands truly world class players so it is a huge bonus said teammate chris paterson he brings a whole new dimension to us especially in defence and his ability to slow the opposition ball down could be key against italy if he is involved taylor has turned out for english side saracens in recent weeks during a shortterm loan to improve his fitness edinburgh were not in action during the first two weeks of this seasons six nations so taylor played the last 20 minutes of saracens win over northampton and then 40 minutes in a friendly against south african super 12 side the cats scotland coach matt williams is due to name his matchday 22 on thursday both scotland and italy have lost their opening two six nations games and just like last seasons encounter which italy won this weekends game could turn out to be a battle to avoid the wooden spoon m blair edinburgh a craig glasgow c cusiter borders s danielli borders m di rollo edinburgh a henderson glasgow b hinshelwood worcester r lamont glasgow s lamont glasgow d parks glasgow c paterson edinburgh g ross leeds h southwell edinburgh s webster edinburgh r beattie northampton g bulloch glasgow capt b douglas borders j dunbar leeds i fullarton saracens s grimes newcastle n hines edinburgh a hogg edinburgh g kerr leeds n lloyd saracens s murray edinburgh j petrie glasgow r russell london irish c smith edinburgh t smith northampton s taylor edinburgh j white sale\",\n          \"early elvis recordings go on sale some of elvis presleys earliest recordings including takes of all shook up are going under the hammer on sunday at a los angeles auction the six unedited reeltoreel tapes which were owned by the engineer who recorded them are valued at up to 50000 xc2xa329000 highlights of the two hourlong collection will get their public debut at bonhams auction house on saturday the rca tapes date from september 1956 to september 1957 the premasters include a take of jailhouse rock religious songs material for his first christmas album and banter between presley members of his band and engineer thorne nogar weve had them for a lot of years and i think the people should enjoy them nogars son stephen 57 said and frankly we could use the money nogar who died in 1994 aged 72 always used to make two tapes of sessions as a backup in case rca producers wanted to make late changes to songs he called them his asssaver tapes his son said the quality is said to be noticeably crisper than that of a new vinyl record because the family does not own the copyright to the music the tapes can only be sold for personal enjoyment and they cannot be copied for commercial gain\",\n          \"lacroix label bought by us firm luxury goods group lvmh has sold its lossmaking christian lacroix clothing label to a us investment group the parisbased firm has been shedding noncore businesses and focusing on its most profitable brands including moet chandon champagne and louis vuitton lvmh said the french designers haute couture and readytowear labels had been purchased by the falic group for an unspecified sum the falic group bought two cosmetics labels from lvmh in 2003 the sale of the lacroix label comes as many fashion houses are struggling to make money from their expensive haute couture ranges the floridabased falic group which also runs a chain of 90 duty free stores in the us said it planned to expand the brand by opening new stores mr lacroix said he planned to stay at the label he founded in 1987 although exact details are still to be confirmed\"\n        ],\n        \"semantic_type\": \"\",\n        \"description\": \"\"\n      }\n    },\n    {\n      \"column\": \"labels\",\n      \"properties\": {\n        \"dtype\": \"category\",\n        \"num_unique_values\": 5,\n        \"samples\": [\n          \"business\",\n          \"tech\",\n          \"sport\"\n        ],\n        \"semantic_type\": \"\",\n        \"description\": \"\"\n      }\n    },\n    {\n      \"column\": \"encode\",\n      \"properties\": {\n        \"dtype\": \"int32\",\n        \"num_unique_values\": 5,\n        \"samples\": [\n          0,\n          4,\n          3\n        ],\n        \"semantic_type\": \"\",\n        \"description\": \"\"\n      }\n    }\n  ]\n}"
            }
          },
          "metadata": {},
          "execution_count": 19
        }
      ]
    },
    {
      "cell_type": "code",
      "source": [
        "len(df)"
      ],
      "metadata": {
        "colab": {
          "base_uri": "https://localhost:8080/"
        },
        "id": "pPTHO7M6FmuQ",
        "outputId": "4d064752-dccb-45c8-e315-2f7e7b9dcd9d"
      },
      "execution_count": null,
      "outputs": [
        {
          "output_type": "execute_result",
          "data": {
            "text/plain": [
              "1609"
            ]
          },
          "metadata": {},
          "execution_count": 20
        }
      ]
    },
    {
      "cell_type": "code",
      "source": [
        "#!pip install transformers==4.37.*"
      ],
      "metadata": {
        "id": "r6hS0xk2MaWU"
      },
      "execution_count": null,
      "outputs": []
    },
    {
      "cell_type": "code",
      "source": [
        "from transformers import BertTokenizerFast,TFBertModel\n",
        "\n",
        "tokenizer = BertTokenizerFast.from_pretrained('bert-base-uncased')\n",
        "bert_model = TFBertModel.from_pretrained('bert-base-uncased')"
      ],
      "metadata": {
        "colab": {
          "base_uri": "https://localhost:8080/",
          "height": 284,
          "referenced_widgets": [
            "a4e052dea1ef46c4bf8cc928f4c81b21",
            "ef31edc9d42140e9af5b995b12f415eb",
            "31f6b3cc84e94616845ad769fa1b7f67",
            "959bdb25f4ce4f23acee0345f0d43a18",
            "fe76afde354840c987ec3467f1cee818",
            "de6845b2281d4d47910d3c7b38a702a1",
            "f6622249545043b7b433550a53f19867",
            "05a78a6861b54a55ae136b511b4e1d77",
            "f352d56c451d453590005130c951002a",
            "bf0ebf796384481cbb919d0dc7be90f1",
            "eacbdc1c2afa4a0a96c76973e211481d",
            "03dc329df9124d15bcdaabb43c914682",
            "59e67b8247e5494687aa73582c4a9e8a",
            "d6369d368518450d92e4dc6f6db2db64",
            "1124cca6efae4cc6a256ef689abfc8fe",
            "4ebbf37483194803b56e930057ddf608",
            "a823f01988c64e48ae4a65beab0d6d0a",
            "a9977ba9a1944ca0a57c7b34597c710f",
            "da0f6a172a01489194be93bdc3389b0e",
            "b9eeae2381e249cea9853f709cdb9110",
            "6a72a6e4f20e4b9fb04346b666a7c799",
            "5b531609f1c74899bdf11e45d47c6db2",
            "e21557cfa80a48f7b78248e3b5d85b95",
            "6923bc4a01894d428c56e38d00d04249",
            "05b27ef80974463e84435b9a7aa25e82",
            "63b639681c3840608cbe93fda02b836e",
            "2cf052972374407f8212a57882759498",
            "95b4a1a2aab6425b87e409fedb9efb93",
            "34ef4eff697d4b7899938d5aee5159ab",
            "9831716bcf3f492a8e32af9d0d589c21",
            "3110e66099d1445ba8cff1ae965da357",
            "4743a5c3c91c4312a95deb724f28bde5",
            "e3ed0f6d2dfa4196a6c099e0d26a5c4a",
            "e2523ed245a2431a9840372349189f03",
            "56e1ce1038d948129999a712b2dc876c",
            "2a5f57277f34417e95e3467af8b80cba",
            "f1c1f80bbcf04c8bb5646eb87306381a",
            "90b7176b7aba41bda747fbbfb6586426",
            "b26b593ffe4b4a1b97fc6f713d5cbb3c",
            "2fa8d62a60a640d782cae6982741d9ac",
            "be69f4dd8db24552bc11b09354f88cc0",
            "5744c958716e4def8101f0b5b6b8d34d",
            "24c306cbd88b4873b124cf2464e7e3a3",
            "5fa7a621be6d47a9bd6a6f7d0140aed2",
            "ea5e3f176b17416fa3b8e0ba3640ff0e",
            "303f04747e984bf89c18df534bbdead6",
            "604e5df541e945bab5a61f42c5e47645",
            "30520520edd4403db9dea4fd181b2cb9",
            "da981e284cfb4be59f971ee997941b0b",
            "4cbbb4072d424af59811715b88fbfe2d",
            "3316188678ce4d09958d5226b108d91a",
            "eac2d28e6a864548a7f73a36e926bb7b",
            "07247d310f8347abb141427e7224d63c",
            "2f2555d636e642688940134baface27f",
            "7b78dc68f38d4cbbad7f05b4406be0e2"
          ]
        },
        "id": "4RdtjDsl9eUD",
        "outputId": "36e9f2c5-83f2-46df-8432-c4930e0ad56e"
      },
      "execution_count": null,
      "outputs": [
        {
          "output_type": "display_data",
          "data": {
            "text/plain": [
              "tokenizer_config.json:   0%|          | 0.00/48.0 [00:00<?, ?B/s]"
            ],
            "application/vnd.jupyter.widget-view+json": {
              "version_major": 2,
              "version_minor": 0,
              "model_id": "a4e052dea1ef46c4bf8cc928f4c81b21"
            }
          },
          "metadata": {}
        },
        {
          "output_type": "display_data",
          "data": {
            "text/plain": [
              "vocab.txt:   0%|          | 0.00/232k [00:00<?, ?B/s]"
            ],
            "application/vnd.jupyter.widget-view+json": {
              "version_major": 2,
              "version_minor": 0,
              "model_id": "03dc329df9124d15bcdaabb43c914682"
            }
          },
          "metadata": {}
        },
        {
          "output_type": "display_data",
          "data": {
            "text/plain": [
              "tokenizer.json:   0%|          | 0.00/466k [00:00<?, ?B/s]"
            ],
            "application/vnd.jupyter.widget-view+json": {
              "version_major": 2,
              "version_minor": 0,
              "model_id": "e21557cfa80a48f7b78248e3b5d85b95"
            }
          },
          "metadata": {}
        },
        {
          "output_type": "display_data",
          "data": {
            "text/plain": [
              "config.json:   0%|          | 0.00/570 [00:00<?, ?B/s]"
            ],
            "application/vnd.jupyter.widget-view+json": {
              "version_major": 2,
              "version_minor": 0,
              "model_id": "e2523ed245a2431a9840372349189f03"
            }
          },
          "metadata": {}
        },
        {
          "output_type": "display_data",
          "data": {
            "text/plain": [
              "model.safetensors:   0%|          | 0.00/440M [00:00<?, ?B/s]"
            ],
            "application/vnd.jupyter.widget-view+json": {
              "version_major": 2,
              "version_minor": 0,
              "model_id": "ea5e3f176b17416fa3b8e0ba3640ff0e"
            }
          },
          "metadata": {}
        },
        {
          "output_type": "stream",
          "name": "stderr",
          "text": [
            "Some weights of the PyTorch model were not used when initializing the TF 2.0 model TFBertModel: ['cls.predictions.transform.dense.bias', 'cls.seq_relationship.bias', 'cls.predictions.transform.dense.weight', 'cls.predictions.transform.LayerNorm.weight', 'cls.predictions.transform.LayerNorm.bias', 'cls.predictions.bias', 'cls.seq_relationship.weight']\n",
            "- This IS expected if you are initializing TFBertModel from a PyTorch model trained on another task or with another architecture (e.g. initializing a TFBertForSequenceClassification model from a BertForPreTraining model).\n",
            "- This IS NOT expected if you are initializing TFBertModel from a PyTorch model that you expect to be exactly identical (e.g. initializing a TFBertForSequenceClassification model from a BertForSequenceClassification model).\n",
            "All the weights of TFBertModel were initialized from the PyTorch model.\n",
            "If your task is similar to the task the model of the checkpoint was trained on, you can already use TFBertModel for predictions without further training.\n"
          ]
        }
      ]
    },
    {
      "cell_type": "code",
      "source": [
        "bert_model.config_class"
      ],
      "metadata": {
        "colab": {
          "base_uri": "https://localhost:8080/",
          "height": 256
        },
        "id": "x9DJLqqkNqhE",
        "outputId": "d1b09368-6e9b-4152-fd11-8dd7b9a65a79"
      },
      "execution_count": null,
      "outputs": [
        {
          "output_type": "execute_result",
          "data": {
            "text/plain": [
              "transformers.models.bert.configuration_bert.BertConfig"
            ],
            "text/html": [
              "<div style=\"max-width:800px; border: 1px solid var(--colab-border-color);\"><style>\n",
              "      pre.function-repr-contents {\n",
              "        overflow-x: auto;\n",
              "        padding: 8px 12px;\n",
              "        max-height: 500px;\n",
              "      }\n",
              "\n",
              "      pre.function-repr-contents.function-repr-contents-collapsed {\n",
              "        cursor: pointer;\n",
              "        max-height: 100px;\n",
              "      }\n",
              "    </style>\n",
              "    <pre style=\"white-space: initial; background:\n",
              "         var(--colab-secondary-surface-color); padding: 8px 12px;\n",
              "         border-bottom: 1px solid var(--colab-border-color);\"><b>transformers.models.bert.configuration_bert.BertConfig</b><br/>def __init__(vocab_size=30522, hidden_size=768, num_hidden_layers=12, num_attention_heads=12, intermediate_size=3072, hidden_act=&#x27;gelu&#x27;, hidden_dropout_prob=0.1, attention_probs_dropout_prob=0.1, max_position_embeddings=512, type_vocab_size=2, initializer_range=0.02, layer_norm_eps=1e-12, pad_token_id=0, position_embedding_type=&#x27;absolute&#x27;, use_cache=True, classifier_dropout=None, **kwargs)</pre><pre class=\"function-repr-contents function-repr-contents-collapsed\" style=\"\"><a class=\"filepath\" style=\"display:none\" href=\"#\">/usr/local/lib/python3.10/dist-packages/transformers/models/bert/configuration_bert.py</a>This is the configuration class to store the configuration of a [`BertModel`] or a [`TFBertModel`]. It is used to\n",
              "instantiate a BERT model according to the specified arguments, defining the model architecture. Instantiating a\n",
              "configuration with the defaults will yield a similar configuration to that of the BERT\n",
              "[google-bert/bert-base-uncased](https://huggingface.co/google-bert/bert-base-uncased) architecture.\n",
              "\n",
              "Configuration objects inherit from [`PretrainedConfig`] and can be used to control the model outputs. Read the\n",
              "documentation from [`PretrainedConfig`] for more information.\n",
              "\n",
              "\n",
              "Args:\n",
              "    vocab_size (`int`, *optional*, defaults to 30522):\n",
              "        Vocabulary size of the BERT model. Defines the number of different tokens that can be represented by the\n",
              "        `inputs_ids` passed when calling [`BertModel`] or [`TFBertModel`].\n",
              "    hidden_size (`int`, *optional*, defaults to 768):\n",
              "        Dimensionality of the encoder layers and the pooler layer.\n",
              "    num_hidden_layers (`int`, *optional*, defaults to 12):\n",
              "        Number of hidden layers in the Transformer encoder.\n",
              "    num_attention_heads (`int`, *optional*, defaults to 12):\n",
              "        Number of attention heads for each attention layer in the Transformer encoder.\n",
              "    intermediate_size (`int`, *optional*, defaults to 3072):\n",
              "        Dimensionality of the &quot;intermediate&quot; (often named feed-forward) layer in the Transformer encoder.\n",
              "    hidden_act (`str` or `Callable`, *optional*, defaults to `&quot;gelu&quot;`):\n",
              "        The non-linear activation function (function or string) in the encoder and pooler. If string, `&quot;gelu&quot;`,\n",
              "        `&quot;relu&quot;`, `&quot;silu&quot;` and `&quot;gelu_new&quot;` are supported.\n",
              "    hidden_dropout_prob (`float`, *optional*, defaults to 0.1):\n",
              "        The dropout probability for all fully connected layers in the embeddings, encoder, and pooler.\n",
              "    attention_probs_dropout_prob (`float`, *optional*, defaults to 0.1):\n",
              "        The dropout ratio for the attention probabilities.\n",
              "    max_position_embeddings (`int`, *optional*, defaults to 512):\n",
              "        The maximum sequence length that this model might ever be used with. Typically set this to something large\n",
              "        just in case (e.g., 512 or 1024 or 2048).\n",
              "    type_vocab_size (`int`, *optional*, defaults to 2):\n",
              "        The vocabulary size of the `token_type_ids` passed when calling [`BertModel`] or [`TFBertModel`].\n",
              "    initializer_range (`float`, *optional*, defaults to 0.02):\n",
              "        The standard deviation of the truncated_normal_initializer for initializing all weight matrices.\n",
              "    layer_norm_eps (`float`, *optional*, defaults to 1e-12):\n",
              "        The epsilon used by the layer normalization layers.\n",
              "    position_embedding_type (`str`, *optional*, defaults to `&quot;absolute&quot;`):\n",
              "        Type of position embedding. Choose one of `&quot;absolute&quot;`, `&quot;relative_key&quot;`, `&quot;relative_key_query&quot;`. For\n",
              "        positional embeddings use `&quot;absolute&quot;`. For more information on `&quot;relative_key&quot;`, please refer to\n",
              "        [Self-Attention with Relative Position Representations (Shaw et al.)](https://arxiv.org/abs/1803.02155).\n",
              "        For more information on `&quot;relative_key_query&quot;`, please refer to *Method 4* in [Improve Transformer Models\n",
              "        with Better Relative Position Embeddings (Huang et al.)](https://arxiv.org/abs/2009.13658).\n",
              "    is_decoder (`bool`, *optional*, defaults to `False`):\n",
              "        Whether the model is used as a decoder or not. If `False`, the model is used as an encoder.\n",
              "    use_cache (`bool`, *optional*, defaults to `True`):\n",
              "        Whether or not the model should return the last key/values attentions (not used by all models). Only\n",
              "        relevant if `config.is_decoder=True`.\n",
              "    classifier_dropout (`float`, *optional*):\n",
              "        The dropout ratio for the classification head.\n",
              "\n",
              "Examples:\n",
              "\n",
              "```python\n",
              "&gt;&gt;&gt; from transformers import BertConfig, BertModel\n",
              "\n",
              "&gt;&gt;&gt; # Initializing a BERT google-bert/bert-base-uncased style configuration\n",
              "&gt;&gt;&gt; configuration = BertConfig()\n",
              "\n",
              "&gt;&gt;&gt; # Initializing a model (with random weights) from the google-bert/bert-base-uncased style configuration\n",
              "&gt;&gt;&gt; model = BertModel(configuration)\n",
              "\n",
              "&gt;&gt;&gt; # Accessing the model configuration\n",
              "&gt;&gt;&gt; configuration = model.config\n",
              "```</pre>\n",
              "      <script>\n",
              "      if (google.colab.kernel.accessAllowed && google.colab.files && google.colab.files.view) {\n",
              "        for (const element of document.querySelectorAll('.filepath')) {\n",
              "          element.style.display = 'block'\n",
              "          element.onclick = (event) => {\n",
              "            event.preventDefault();\n",
              "            event.stopPropagation();\n",
              "            google.colab.files.view(element.textContent, 29);\n",
              "          };\n",
              "        }\n",
              "      }\n",
              "      for (const element of document.querySelectorAll('.function-repr-contents')) {\n",
              "        element.onclick = (event) => {\n",
              "          event.preventDefault();\n",
              "          event.stopPropagation();\n",
              "          element.classList.toggle('function-repr-contents-collapsed');\n",
              "        };\n",
              "      }\n",
              "      </script>\n",
              "      </div>"
            ]
          },
          "metadata": {},
          "execution_count": 23
        }
      ]
    },
    {
      "cell_type": "code",
      "source": [
        "data_tokens=tokenizer.batch_encode_plus(df['data'].tolist(), padding=True,return_tensors = 'np')"
      ],
      "metadata": {
        "id": "Ni2ntRrV90MY",
        "colab": {
          "base_uri": "https://localhost:8080/"
        },
        "outputId": "b791da2a-009f-43de-b967-a92bb1ec16b9"
      },
      "execution_count": null,
      "outputs": [
        {
          "output_type": "stream",
          "name": "stderr",
          "text": [
            "Token indices sequence length is longer than the specified maximum sequence length for this model (588 > 512). Running this sequence through the model will result in indexing errors\n"
          ]
        }
      ]
    },
    {
      "cell_type": "code",
      "source": [
        "max_seq=data_tokens[\"input_ids\"].shape[1]"
      ],
      "metadata": {
        "id": "oKhRLPhYEj1i"
      },
      "execution_count": null,
      "outputs": []
    },
    {
      "cell_type": "code",
      "source": [
        "labels=df['encode'].values"
      ],
      "metadata": {
        "id": "5QFQnqxSF79R"
      },
      "execution_count": null,
      "outputs": []
    },
    {
      "cell_type": "code",
      "source": [
        "labels.shape"
      ],
      "metadata": {
        "colab": {
          "base_uri": "https://localhost:8080/"
        },
        "id": "pwgGSmJ1GG7B",
        "outputId": "844a6d69-3fb1-4929-f269-812a713f151e"
      },
      "execution_count": null,
      "outputs": [
        {
          "output_type": "execute_result",
          "data": {
            "text/plain": [
              "(1609,)"
            ]
          },
          "metadata": {},
          "execution_count": 27
        }
      ]
    },
    {
      "cell_type": "code",
      "source": [
        "np.arange(labels.shape[0])"
      ],
      "metadata": {
        "colab": {
          "base_uri": "https://localhost:8080/"
        },
        "id": "WmIPpglhGP7k",
        "outputId": "3f6aec06-6b69-4936-c0fa-3b3799cced97"
      },
      "execution_count": null,
      "outputs": [
        {
          "output_type": "execute_result",
          "data": {
            "text/plain": [
              "array([   0,    1,    2, ..., 1606, 1607, 1608])"
            ]
          },
          "metadata": {},
          "execution_count": 28
        }
      ]
    },
    {
      "cell_type": "code",
      "source": [
        "xIdxTrain,xIdxTest,_,_=train_test_split(np.arange(labels.shape[0]), np.arange(labels.shape[0]), test_size=0.15, random_state=42)"
      ],
      "metadata": {
        "id": "uYdEAtwoGaTZ"
      },
      "execution_count": null,
      "outputs": []
    },
    {
      "cell_type": "code",
      "source": [
        "xIdxTrain,xIdxval,_,_=train_test_split(xIdxTrain,xIdxTrain, test_size=0.1, random_state=42)"
      ],
      "metadata": {
        "id": "TZ_LOKRXR59C"
      },
      "execution_count": null,
      "outputs": []
    },
    {
      "cell_type": "code",
      "source": [
        "x_train_input=data_tokens['input_ids'][xIdxTrain]\n",
        "x_train_attention=data_tokens['attention_mask'][xIdxTrain]\n",
        "x_train_type=data_tokens['token_type_ids'][xIdxTrain]\n",
        "y_train=labels[xIdxTrain]\n",
        "x_val_input=data_tokens['input_ids'][xIdxval]\n",
        "x_val_attention=data_tokens['attention_mask'][xIdxval]\n",
        "x_val_type=data_tokens['token_type_ids'][xIdxval]\n",
        "y_val=labels[xIdxval]\n",
        "x_test_input=data_tokens['input_ids'][xIdxTest]\n",
        "x_test_attention=data_tokens['attention_mask'][xIdxTest]\n",
        "x_test_type=data_tokens['token_type_ids'][xIdxTest]\n",
        "y_test=labels[xIdxTest]"
      ],
      "metadata": {
        "id": "UP1-7yykGtyK"
      },
      "execution_count": null,
      "outputs": []
    },
    {
      "cell_type": "code",
      "source": [
        "print(\"x_train_input.shape= \",x_train_input.shape)\n",
        "print(x_train_attention.shape)\n",
        "print(x_train_type.shape)\n",
        "print(y_train.shape)\n",
        "print(x_test_input.shape)\n",
        "print(x_test_attention.shape)\n",
        "print(x_test_type.shape)\n",
        "print(y_test.shape)"
      ],
      "metadata": {
        "colab": {
          "base_uri": "https://localhost:8080/"
        },
        "id": "b_cqitaAG_Ey",
        "outputId": "d7942aea-7f0e-411e-e3e3-9158778949c3"
      },
      "execution_count": null,
      "outputs": [
        {
          "output_type": "stream",
          "name": "stdout",
          "text": [
            "x_train_input.shape=  (1230, 588)\n",
            "(1230, 588)\n",
            "(1230, 588)\n",
            "(1230,)\n",
            "(242, 588)\n",
            "(242, 588)\n",
            "(242, 588)\n",
            "(242,)\n"
          ]
        }
      ]
    },
    {
      "cell_type": "code",
      "source": [
        "xx=tokenizer(df['data'].tolist()[0], padding=True,return_tensors = 'np')"
      ],
      "metadata": {
        "id": "DJWI2p2XkVn6"
      },
      "execution_count": null,
      "outputs": []
    },
    {
      "cell_type": "code",
      "source": [
        "def bert_layer(inputs):\n",
        "    inputT, inputA,inputS=inputs\n",
        "    output=bert_model(input_ids=inputT,attention_mask = inputA,token_type_ids=inputS,return_dict =True)\n",
        "    return output[\"last_hidden_state\"]"
      ],
      "metadata": {
        "id": "3q-EmDQZnN9V"
      },
      "execution_count": null,
      "outputs": []
    },
    {
      "cell_type": "code",
      "source": [
        "inputT=layers.Input(shape=(max_seq,),dtype = 'int32')\n",
        "inputA=layers.Input(shape=(max_seq,),dtype = 'int32')\n",
        "inputS=layers.Input(shape=(max_seq,),dtype = 'int32')\n",
        "bert_output =layers.Lambda(bert_layer,output_shape=(max_seq, 768))([inputT, inputA,inputS])\n",
        "print(bert_output)\n",
        "embedding = layers.Dropout(0.3)(bert_output)\n",
        "avg=layers.GlobalAveragePooling1D()(embedding)\n",
        "print(avg)\n",
        "dense=layers.Dense(256)(avg)\n",
        "batch=layers.BatchNormalization()(dense)\n",
        "act=layers.Activation('relu')(batch)\n",
        "dense1=layers.Dense(5)(act)\n",
        "batch1=layers.BatchNormalization()(dense1)\n",
        "output=layers.Activation('softmax')(batch1)\n",
        "bertAVG=keras.Model([inputT,inputA,inputS],output)\n",
        "print(bertAVG.layers[3])\n",
        "bertAVG.layers[3].trainable=False\n",
        "print(bertAVG.layers[3].trainable)\n",
        "bertAVG.summary()\n",
        "bertAVG.compile(optimizer='adam', loss=keras.losses.SparseCategoricalCrossentropy(from_logits=True), metrics=['accuracy'])"
      ],
      "metadata": {
        "colab": {
          "base_uri": "https://localhost:8080/",
          "height": 732
        },
        "id": "LI97FJESH-la",
        "outputId": "7a3a54f2-28b1-421b-8462-26df121aeee1"
      },
      "execution_count": null,
      "outputs": [
        {
          "output_type": "stream",
          "name": "stdout",
          "text": [
            "<KerasTensor shape=(None, 588, 768), dtype=float32, sparse=False, name=keras_tensor_3>\n",
            "<KerasTensor shape=(None, 768), dtype=float32, sparse=False, name=keras_tensor_5>\n",
            "<Lambda name=lambda, built=True>\n",
            "False\n"
          ]
        },
        {
          "output_type": "display_data",
          "data": {
            "text/plain": [
              "\u001b[1mModel: \"functional\"\u001b[0m\n"
            ],
            "text/html": [
              "<pre style=\"white-space:pre;overflow-x:auto;line-height:normal;font-family:Menlo,'DejaVu Sans Mono',consolas,'Courier New',monospace\"><span style=\"font-weight: bold\">Model: \"functional\"</span>\n",
              "</pre>\n"
            ]
          },
          "metadata": {}
        },
        {
          "output_type": "display_data",
          "data": {
            "text/plain": [
              "┏━━━━━━━━━━━━━━━━━━━━━━━━━━━┳━━━━━━━━━━━━━━━━━━━━━━━━┳━━━━━━━━━━━━━━━━┳━━━━━━━━━━━━━━━━━━━━━━━━┓\n",
              "┃\u001b[1m \u001b[0m\u001b[1mLayer (type)             \u001b[0m\u001b[1m \u001b[0m┃\u001b[1m \u001b[0m\u001b[1mOutput Shape          \u001b[0m\u001b[1m \u001b[0m┃\u001b[1m \u001b[0m\u001b[1m       Param #\u001b[0m\u001b[1m \u001b[0m┃\u001b[1m \u001b[0m\u001b[1mConnected to          \u001b[0m\u001b[1m \u001b[0m┃\n",
              "┡━━━━━━━━━━━━━━━━━━━━━━━━━━━╇━━━━━━━━━━━━━━━━━━━━━━━━╇━━━━━━━━━━━━━━━━╇━━━━━━━━━━━━━━━━━━━━━━━━┩\n",
              "│ input_layer (\u001b[38;5;33mInputLayer\u001b[0m)  │ (\u001b[38;5;45mNone\u001b[0m, \u001b[38;5;34m588\u001b[0m)            │              \u001b[38;5;34m0\u001b[0m │ -                      │\n",
              "├───────────────────────────┼────────────────────────┼────────────────┼────────────────────────┤\n",
              "│ input_layer_1             │ (\u001b[38;5;45mNone\u001b[0m, \u001b[38;5;34m588\u001b[0m)            │              \u001b[38;5;34m0\u001b[0m │ -                      │\n",
              "│ (\u001b[38;5;33mInputLayer\u001b[0m)              │                        │                │                        │\n",
              "├───────────────────────────┼────────────────────────┼────────────────┼────────────────────────┤\n",
              "│ input_layer_2             │ (\u001b[38;5;45mNone\u001b[0m, \u001b[38;5;34m588\u001b[0m)            │              \u001b[38;5;34m0\u001b[0m │ -                      │\n",
              "│ (\u001b[38;5;33mInputLayer\u001b[0m)              │                        │                │                        │\n",
              "├───────────────────────────┼────────────────────────┼────────────────┼────────────────────────┤\n",
              "│ lambda (\u001b[38;5;33mLambda\u001b[0m)           │ (\u001b[38;5;45mNone\u001b[0m, \u001b[38;5;34m588\u001b[0m, \u001b[38;5;34m768\u001b[0m)       │              \u001b[38;5;34m0\u001b[0m │ input_layer[\u001b[38;5;34m0\u001b[0m][\u001b[38;5;34m0\u001b[0m],     │\n",
              "│                           │                        │                │ input_layer_1[\u001b[38;5;34m0\u001b[0m][\u001b[38;5;34m0\u001b[0m],   │\n",
              "│                           │                        │                │ input_layer_2[\u001b[38;5;34m0\u001b[0m][\u001b[38;5;34m0\u001b[0m]    │\n",
              "├───────────────────────────┼────────────────────────┼────────────────┼────────────────────────┤\n",
              "│ dropout (\u001b[38;5;33mDropout\u001b[0m)         │ (\u001b[38;5;45mNone\u001b[0m, \u001b[38;5;34m588\u001b[0m, \u001b[38;5;34m768\u001b[0m)       │              \u001b[38;5;34m0\u001b[0m │ lambda[\u001b[38;5;34m0\u001b[0m][\u001b[38;5;34m0\u001b[0m]           │\n",
              "├───────────────────────────┼────────────────────────┼────────────────┼────────────────────────┤\n",
              "│ global_average_pooling1d  │ (\u001b[38;5;45mNone\u001b[0m, \u001b[38;5;34m768\u001b[0m)            │              \u001b[38;5;34m0\u001b[0m │ dropout[\u001b[38;5;34m0\u001b[0m][\u001b[38;5;34m0\u001b[0m]          │\n",
              "│ (\u001b[38;5;33mGlobalAveragePooling1D\u001b[0m)  │                        │                │                        │\n",
              "├───────────────────────────┼────────────────────────┼────────────────┼────────────────────────┤\n",
              "│ dense (\u001b[38;5;33mDense\u001b[0m)             │ (\u001b[38;5;45mNone\u001b[0m, \u001b[38;5;34m256\u001b[0m)            │        \u001b[38;5;34m196,864\u001b[0m │ global_average_poolin… │\n",
              "├───────────────────────────┼────────────────────────┼────────────────┼────────────────────────┤\n",
              "│ batch_normalization       │ (\u001b[38;5;45mNone\u001b[0m, \u001b[38;5;34m256\u001b[0m)            │          \u001b[38;5;34m1,024\u001b[0m │ dense[\u001b[38;5;34m0\u001b[0m][\u001b[38;5;34m0\u001b[0m]            │\n",
              "│ (\u001b[38;5;33mBatchNormalization\u001b[0m)      │                        │                │                        │\n",
              "├───────────────────────────┼────────────────────────┼────────────────┼────────────────────────┤\n",
              "│ activation (\u001b[38;5;33mActivation\u001b[0m)   │ (\u001b[38;5;45mNone\u001b[0m, \u001b[38;5;34m256\u001b[0m)            │              \u001b[38;5;34m0\u001b[0m │ batch_normalization[\u001b[38;5;34m0\u001b[0m… │\n",
              "├───────────────────────────┼────────────────────────┼────────────────┼────────────────────────┤\n",
              "│ dense_1 (\u001b[38;5;33mDense\u001b[0m)           │ (\u001b[38;5;45mNone\u001b[0m, \u001b[38;5;34m5\u001b[0m)              │          \u001b[38;5;34m1,285\u001b[0m │ activation[\u001b[38;5;34m0\u001b[0m][\u001b[38;5;34m0\u001b[0m]       │\n",
              "├───────────────────────────┼────────────────────────┼────────────────┼────────────────────────┤\n",
              "│ batch_normalization_1     │ (\u001b[38;5;45mNone\u001b[0m, \u001b[38;5;34m5\u001b[0m)              │             \u001b[38;5;34m20\u001b[0m │ dense_1[\u001b[38;5;34m0\u001b[0m][\u001b[38;5;34m0\u001b[0m]          │\n",
              "│ (\u001b[38;5;33mBatchNormalization\u001b[0m)      │                        │                │                        │\n",
              "├───────────────────────────┼────────────────────────┼────────────────┼────────────────────────┤\n",
              "│ activation_1 (\u001b[38;5;33mActivation\u001b[0m) │ (\u001b[38;5;45mNone\u001b[0m, \u001b[38;5;34m5\u001b[0m)              │              \u001b[38;5;34m0\u001b[0m │ batch_normalization_1… │\n",
              "└───────────────────────────┴────────────────────────┴────────────────┴────────────────────────┘\n"
            ],
            "text/html": [
              "<pre style=\"white-space:pre;overflow-x:auto;line-height:normal;font-family:Menlo,'DejaVu Sans Mono',consolas,'Courier New',monospace\">┏━━━━━━━━━━━━━━━━━━━━━━━━━━━┳━━━━━━━━━━━━━━━━━━━━━━━━┳━━━━━━━━━━━━━━━━┳━━━━━━━━━━━━━━━━━━━━━━━━┓\n",
              "┃<span style=\"font-weight: bold\"> Layer (type)              </span>┃<span style=\"font-weight: bold\"> Output Shape           </span>┃<span style=\"font-weight: bold\">        Param # </span>┃<span style=\"font-weight: bold\"> Connected to           </span>┃\n",
              "┡━━━━━━━━━━━━━━━━━━━━━━━━━━━╇━━━━━━━━━━━━━━━━━━━━━━━━╇━━━━━━━━━━━━━━━━╇━━━━━━━━━━━━━━━━━━━━━━━━┩\n",
              "│ input_layer (<span style=\"color: #0087ff; text-decoration-color: #0087ff\">InputLayer</span>)  │ (<span style=\"color: #00d7ff; text-decoration-color: #00d7ff\">None</span>, <span style=\"color: #00af00; text-decoration-color: #00af00\">588</span>)            │              <span style=\"color: #00af00; text-decoration-color: #00af00\">0</span> │ -                      │\n",
              "├───────────────────────────┼────────────────────────┼────────────────┼────────────────────────┤\n",
              "│ input_layer_1             │ (<span style=\"color: #00d7ff; text-decoration-color: #00d7ff\">None</span>, <span style=\"color: #00af00; text-decoration-color: #00af00\">588</span>)            │              <span style=\"color: #00af00; text-decoration-color: #00af00\">0</span> │ -                      │\n",
              "│ (<span style=\"color: #0087ff; text-decoration-color: #0087ff\">InputLayer</span>)              │                        │                │                        │\n",
              "├───────────────────────────┼────────────────────────┼────────────────┼────────────────────────┤\n",
              "│ input_layer_2             │ (<span style=\"color: #00d7ff; text-decoration-color: #00d7ff\">None</span>, <span style=\"color: #00af00; text-decoration-color: #00af00\">588</span>)            │              <span style=\"color: #00af00; text-decoration-color: #00af00\">0</span> │ -                      │\n",
              "│ (<span style=\"color: #0087ff; text-decoration-color: #0087ff\">InputLayer</span>)              │                        │                │                        │\n",
              "├───────────────────────────┼────────────────────────┼────────────────┼────────────────────────┤\n",
              "│ lambda (<span style=\"color: #0087ff; text-decoration-color: #0087ff\">Lambda</span>)           │ (<span style=\"color: #00d7ff; text-decoration-color: #00d7ff\">None</span>, <span style=\"color: #00af00; text-decoration-color: #00af00\">588</span>, <span style=\"color: #00af00; text-decoration-color: #00af00\">768</span>)       │              <span style=\"color: #00af00; text-decoration-color: #00af00\">0</span> │ input_layer[<span style=\"color: #00af00; text-decoration-color: #00af00\">0</span>][<span style=\"color: #00af00; text-decoration-color: #00af00\">0</span>],     │\n",
              "│                           │                        │                │ input_layer_1[<span style=\"color: #00af00; text-decoration-color: #00af00\">0</span>][<span style=\"color: #00af00; text-decoration-color: #00af00\">0</span>],   │\n",
              "│                           │                        │                │ input_layer_2[<span style=\"color: #00af00; text-decoration-color: #00af00\">0</span>][<span style=\"color: #00af00; text-decoration-color: #00af00\">0</span>]    │\n",
              "├───────────────────────────┼────────────────────────┼────────────────┼────────────────────────┤\n",
              "│ dropout (<span style=\"color: #0087ff; text-decoration-color: #0087ff\">Dropout</span>)         │ (<span style=\"color: #00d7ff; text-decoration-color: #00d7ff\">None</span>, <span style=\"color: #00af00; text-decoration-color: #00af00\">588</span>, <span style=\"color: #00af00; text-decoration-color: #00af00\">768</span>)       │              <span style=\"color: #00af00; text-decoration-color: #00af00\">0</span> │ lambda[<span style=\"color: #00af00; text-decoration-color: #00af00\">0</span>][<span style=\"color: #00af00; text-decoration-color: #00af00\">0</span>]           │\n",
              "├───────────────────────────┼────────────────────────┼────────────────┼────────────────────────┤\n",
              "│ global_average_pooling1d  │ (<span style=\"color: #00d7ff; text-decoration-color: #00d7ff\">None</span>, <span style=\"color: #00af00; text-decoration-color: #00af00\">768</span>)            │              <span style=\"color: #00af00; text-decoration-color: #00af00\">0</span> │ dropout[<span style=\"color: #00af00; text-decoration-color: #00af00\">0</span>][<span style=\"color: #00af00; text-decoration-color: #00af00\">0</span>]          │\n",
              "│ (<span style=\"color: #0087ff; text-decoration-color: #0087ff\">GlobalAveragePooling1D</span>)  │                        │                │                        │\n",
              "├───────────────────────────┼────────────────────────┼────────────────┼────────────────────────┤\n",
              "│ dense (<span style=\"color: #0087ff; text-decoration-color: #0087ff\">Dense</span>)             │ (<span style=\"color: #00d7ff; text-decoration-color: #00d7ff\">None</span>, <span style=\"color: #00af00; text-decoration-color: #00af00\">256</span>)            │        <span style=\"color: #00af00; text-decoration-color: #00af00\">196,864</span> │ global_average_poolin… │\n",
              "├───────────────────────────┼────────────────────────┼────────────────┼────────────────────────┤\n",
              "│ batch_normalization       │ (<span style=\"color: #00d7ff; text-decoration-color: #00d7ff\">None</span>, <span style=\"color: #00af00; text-decoration-color: #00af00\">256</span>)            │          <span style=\"color: #00af00; text-decoration-color: #00af00\">1,024</span> │ dense[<span style=\"color: #00af00; text-decoration-color: #00af00\">0</span>][<span style=\"color: #00af00; text-decoration-color: #00af00\">0</span>]            │\n",
              "│ (<span style=\"color: #0087ff; text-decoration-color: #0087ff\">BatchNormalization</span>)      │                        │                │                        │\n",
              "├───────────────────────────┼────────────────────────┼────────────────┼────────────────────────┤\n",
              "│ activation (<span style=\"color: #0087ff; text-decoration-color: #0087ff\">Activation</span>)   │ (<span style=\"color: #00d7ff; text-decoration-color: #00d7ff\">None</span>, <span style=\"color: #00af00; text-decoration-color: #00af00\">256</span>)            │              <span style=\"color: #00af00; text-decoration-color: #00af00\">0</span> │ batch_normalization[<span style=\"color: #00af00; text-decoration-color: #00af00\">0</span>… │\n",
              "├───────────────────────────┼────────────────────────┼────────────────┼────────────────────────┤\n",
              "│ dense_1 (<span style=\"color: #0087ff; text-decoration-color: #0087ff\">Dense</span>)           │ (<span style=\"color: #00d7ff; text-decoration-color: #00d7ff\">None</span>, <span style=\"color: #00af00; text-decoration-color: #00af00\">5</span>)              │          <span style=\"color: #00af00; text-decoration-color: #00af00\">1,285</span> │ activation[<span style=\"color: #00af00; text-decoration-color: #00af00\">0</span>][<span style=\"color: #00af00; text-decoration-color: #00af00\">0</span>]       │\n",
              "├───────────────────────────┼────────────────────────┼────────────────┼────────────────────────┤\n",
              "│ batch_normalization_1     │ (<span style=\"color: #00d7ff; text-decoration-color: #00d7ff\">None</span>, <span style=\"color: #00af00; text-decoration-color: #00af00\">5</span>)              │             <span style=\"color: #00af00; text-decoration-color: #00af00\">20</span> │ dense_1[<span style=\"color: #00af00; text-decoration-color: #00af00\">0</span>][<span style=\"color: #00af00; text-decoration-color: #00af00\">0</span>]          │\n",
              "│ (<span style=\"color: #0087ff; text-decoration-color: #0087ff\">BatchNormalization</span>)      │                        │                │                        │\n",
              "├───────────────────────────┼────────────────────────┼────────────────┼────────────────────────┤\n",
              "│ activation_1 (<span style=\"color: #0087ff; text-decoration-color: #0087ff\">Activation</span>) │ (<span style=\"color: #00d7ff; text-decoration-color: #00d7ff\">None</span>, <span style=\"color: #00af00; text-decoration-color: #00af00\">5</span>)              │              <span style=\"color: #00af00; text-decoration-color: #00af00\">0</span> │ batch_normalization_1… │\n",
              "└───────────────────────────┴────────────────────────┴────────────────┴────────────────────────┘\n",
              "</pre>\n"
            ]
          },
          "metadata": {}
        },
        {
          "output_type": "display_data",
          "data": {
            "text/plain": [
              "\u001b[1m Total params: \u001b[0m\u001b[38;5;34m199,193\u001b[0m (778.10 KB)\n"
            ],
            "text/html": [
              "<pre style=\"white-space:pre;overflow-x:auto;line-height:normal;font-family:Menlo,'DejaVu Sans Mono',consolas,'Courier New',monospace\"><span style=\"font-weight: bold\"> Total params: </span><span style=\"color: #00af00; text-decoration-color: #00af00\">199,193</span> (778.10 KB)\n",
              "</pre>\n"
            ]
          },
          "metadata": {}
        },
        {
          "output_type": "display_data",
          "data": {
            "text/plain": [
              "\u001b[1m Trainable params: \u001b[0m\u001b[38;5;34m198,671\u001b[0m (776.06 KB)\n"
            ],
            "text/html": [
              "<pre style=\"white-space:pre;overflow-x:auto;line-height:normal;font-family:Menlo,'DejaVu Sans Mono',consolas,'Courier New',monospace\"><span style=\"font-weight: bold\"> Trainable params: </span><span style=\"color: #00af00; text-decoration-color: #00af00\">198,671</span> (776.06 KB)\n",
              "</pre>\n"
            ]
          },
          "metadata": {}
        },
        {
          "output_type": "display_data",
          "data": {
            "text/plain": [
              "\u001b[1m Non-trainable params: \u001b[0m\u001b[38;5;34m522\u001b[0m (2.04 KB)\n"
            ],
            "text/html": [
              "<pre style=\"white-space:pre;overflow-x:auto;line-height:normal;font-family:Menlo,'DejaVu Sans Mono',consolas,'Courier New',monospace\"><span style=\"font-weight: bold\"> Non-trainable params: </span><span style=\"color: #00af00; text-decoration-color: #00af00\">522</span> (2.04 KB)\n",
              "</pre>\n"
            ]
          },
          "metadata": {}
        }
      ]
    },
    {
      "cell_type": "code",
      "source": [
        "bertAVG.fit([x_train_input,x_train_attention,x_train_type], y_train, epochs=20, batch_size=128  ,\n",
        "          validation_data=([x_val_input,x_val_attention,x_val_type],y_val ) ,  verbose = 1)"
      ],
      "metadata": {
        "colab": {
          "base_uri": "https://localhost:8080/"
        },
        "id": "Bo6anvoQRPKI",
        "outputId": "42c5998f-c361-4616-fe73-6c893cd6df98"
      },
      "execution_count": null,
      "outputs": [
        {
          "output_type": "stream",
          "name": "stdout",
          "text": [
            "Epoch 1/20\n",
            "\u001b[1m10/10\u001b[0m \u001b[32m━━━━━━━━━━━━━━━━━━━━\u001b[0m\u001b[37m\u001b[0m \u001b[1m129s\u001b[0m 9s/step - accuracy: 0.6294 - loss: 1.1177 - val_accuracy: 0.8029 - val_loss: 1.0366\n",
            "Epoch 2/20\n",
            "\u001b[1m10/10\u001b[0m \u001b[32m━━━━━━━━━━━━━━━━━━━━\u001b[0m\u001b[37m\u001b[0m \u001b[1m86s\u001b[0m 5s/step - accuracy: 0.9661 - loss: 0.4602 - val_accuracy: 0.9051 - val_loss: 0.9345\n",
            "Epoch 3/20\n",
            "\u001b[1m10/10\u001b[0m \u001b[32m━━━━━━━━━━━━━━━━━━━━\u001b[0m\u001b[37m\u001b[0m \u001b[1m48s\u001b[0m 5s/step - accuracy: 0.9686 - loss: 0.4262 - val_accuracy: 0.9197 - val_loss: 0.9424\n",
            "Epoch 4/20\n",
            "\u001b[1m10/10\u001b[0m \u001b[32m━━━━━━━━━━━━━━━━━━━━\u001b[0m\u001b[37m\u001b[0m \u001b[1m85s\u001b[0m 5s/step - accuracy: 0.9793 - loss: 0.4009 - val_accuracy: 0.9197 - val_loss: 0.9643\n",
            "Epoch 5/20\n",
            "\u001b[1m10/10\u001b[0m \u001b[32m━━━━━━━━━━━━━━━━━━━━\u001b[0m\u001b[37m\u001b[0m \u001b[1m81s\u001b[0m 5s/step - accuracy: 0.9870 - loss: 0.3809 - val_accuracy: 0.9197 - val_loss: 0.9746\n",
            "Epoch 6/20\n",
            "\u001b[1m10/10\u001b[0m \u001b[32m━━━━━━━━━━━━━━━━━━━━\u001b[0m\u001b[37m\u001b[0m \u001b[1m48s\u001b[0m 5s/step - accuracy: 0.9872 - loss: 0.3638 - val_accuracy: 0.9270 - val_loss: 0.9820\n",
            "Epoch 7/20\n",
            "\u001b[1m10/10\u001b[0m \u001b[32m━━━━━━━━━━━━━━━━━━━━\u001b[0m\u001b[37m\u001b[0m \u001b[1m84s\u001b[0m 5s/step - accuracy: 0.9896 - loss: 0.3493 - val_accuracy: 0.9270 - val_loss: 0.9921\n",
            "Epoch 8/20\n",
            "\u001b[1m10/10\u001b[0m \u001b[32m━━━━━━━━━━━━━━━━━━━━\u001b[0m\u001b[37m\u001b[0m \u001b[1m48s\u001b[0m 5s/step - accuracy: 0.9939 - loss: 0.3350 - val_accuracy: 0.9270 - val_loss: 0.9992\n",
            "Epoch 9/20\n",
            "\u001b[1m10/10\u001b[0m \u001b[32m━━━━━━━━━━━━━━━━━━━━\u001b[0m\u001b[37m\u001b[0m \u001b[1m85s\u001b[0m 5s/step - accuracy: 0.9934 - loss: 0.3231 - val_accuracy: 0.9270 - val_loss: 1.0021\n",
            "Epoch 10/20\n",
            "\u001b[1m10/10\u001b[0m \u001b[32m━━━━━━━━━━━━━━━━━━━━\u001b[0m\u001b[37m\u001b[0m \u001b[1m81s\u001b[0m 5s/step - accuracy: 0.9978 - loss: 0.3113 - val_accuracy: 0.9416 - val_loss: 1.0031\n",
            "Epoch 11/20\n",
            "\u001b[1m10/10\u001b[0m \u001b[32m━━━━━━━━━━━━━━━━━━━━\u001b[0m\u001b[37m\u001b[0m \u001b[1m82s\u001b[0m 5s/step - accuracy: 0.9989 - loss: 0.3004 - val_accuracy: 0.9416 - val_loss: 1.0007\n",
            "Epoch 12/20\n",
            "\u001b[1m10/10\u001b[0m \u001b[32m━━━━━━━━━━━━━━━━━━━━\u001b[0m\u001b[37m\u001b[0m \u001b[1m82s\u001b[0m 5s/step - accuracy: 0.9989 - loss: 0.2900 - val_accuracy: 0.9416 - val_loss: 0.9957\n",
            "Epoch 13/20\n",
            "\u001b[1m10/10\u001b[0m \u001b[32m━━━━━━━━━━━━━━━━━━━━\u001b[0m\u001b[37m\u001b[0m \u001b[1m82s\u001b[0m 5s/step - accuracy: 1.0000 - loss: 0.2807 - val_accuracy: 0.9416 - val_loss: 0.9862\n",
            "Epoch 14/20\n",
            "\u001b[1m10/10\u001b[0m \u001b[32m━━━━━━━━━━━━━━━━━━━━\u001b[0m\u001b[37m\u001b[0m \u001b[1m48s\u001b[0m 5s/step - accuracy: 1.0000 - loss: 0.2721 - val_accuracy: 0.9416 - val_loss: 0.9774\n",
            "Epoch 15/20\n",
            "\u001b[1m10/10\u001b[0m \u001b[32m━━━━━━━━━━━━━━━━━━━━\u001b[0m\u001b[37m\u001b[0m \u001b[1m84s\u001b[0m 5s/step - accuracy: 1.0000 - loss: 0.2629 - val_accuracy: 0.9343 - val_loss: 0.9684\n",
            "Epoch 16/20\n",
            "\u001b[1m10/10\u001b[0m \u001b[32m━━━━━━━━━━━━━━━━━━━━\u001b[0m\u001b[37m\u001b[0m \u001b[1m81s\u001b[0m 5s/step - accuracy: 1.0000 - loss: 0.2557 - val_accuracy: 0.9270 - val_loss: 0.9558\n",
            "Epoch 17/20\n",
            "\u001b[1m10/10\u001b[0m \u001b[32m━━━━━━━━━━━━━━━━━━━━\u001b[0m\u001b[37m\u001b[0m \u001b[1m82s\u001b[0m 5s/step - accuracy: 1.0000 - loss: 0.2485 - val_accuracy: 0.9343 - val_loss: 0.9393\n",
            "Epoch 18/20\n",
            "\u001b[1m10/10\u001b[0m \u001b[32m━━━━━━━━━━━━━━━━━━━━\u001b[0m\u001b[37m\u001b[0m \u001b[1m82s\u001b[0m 5s/step - accuracy: 1.0000 - loss: 0.2412 - val_accuracy: 0.9343 - val_loss: 0.9221\n",
            "Epoch 19/20\n",
            "\u001b[1m10/10\u001b[0m \u001b[32m━━━━━━━━━━━━━━━━━━━━\u001b[0m\u001b[37m\u001b[0m \u001b[1m48s\u001b[0m 5s/step - accuracy: 1.0000 - loss: 0.2345 - val_accuracy: 0.9343 - val_loss: 0.9033\n",
            "Epoch 20/20\n",
            "\u001b[1m10/10\u001b[0m \u001b[32m━━━━━━━━━━━━━━━━━━━━\u001b[0m\u001b[37m\u001b[0m \u001b[1m84s\u001b[0m 5s/step - accuracy: 1.0000 - loss: 0.2283 - val_accuracy: 0.9343 - val_loss: 0.8848\n"
          ]
        },
        {
          "output_type": "execute_result",
          "data": {
            "text/plain": [
              "<keras.src.callbacks.history.History at 0x7ef1ec557fd0>"
            ]
          },
          "metadata": {},
          "execution_count": 36
        }
      ]
    },
    {
      "cell_type": "code",
      "source": [
        "bertAVG.save('bertAVGclassification.keras')"
      ],
      "metadata": {
        "id": "-isnMMLAdkoZ"
      },
      "execution_count": null,
      "outputs": []
    },
    {
      "cell_type": "code",
      "source": [
        "y_predict=bertAVG.predict([x_test_input,x_test_attention,x_test_type])\n",
        "y_predict=np.argmax(y_predict,axis=-1)\n",
        "print(classification_report(y_test,y_predict))"
      ],
      "metadata": {
        "colab": {
          "base_uri": "https://localhost:8080/"
        },
        "id": "YApRzRYLqUgZ",
        "outputId": "926ce59b-1b78-41bb-bb82-292c16ca83ba"
      },
      "execution_count": null,
      "outputs": [
        {
          "output_type": "stream",
          "name": "stdout",
          "text": [
            "\u001b[1m8/8\u001b[0m \u001b[32m━━━━━━━━━━━━━━━━━━━━\u001b[0m\u001b[37m\u001b[0m \u001b[1m27s\u001b[0m 2s/step\n",
            "              precision    recall  f1-score   support\n",
            "\n",
            "           0       0.97      0.94      0.95        77\n",
            "           1       1.00      1.00      1.00        51\n",
            "           2       0.87      1.00      0.93        34\n",
            "           3       1.00      1.00      1.00        54\n",
            "           4       1.00      0.92      0.96        26\n",
            "\n",
            "    accuracy                           0.97       242\n",
            "   macro avg       0.97      0.97      0.97       242\n",
            "weighted avg       0.97      0.97      0.97       242\n",
            "\n"
          ]
        }
      ]
    },
    {
      "cell_type": "code",
      "source": [
        "inputT=layers.Input(shape=(max_seq,),dtype = 'int32')\n",
        "inputA=layers.Input(shape=(max_seq,),dtype = 'int32')\n",
        "inputS=layers.Input(shape=(max_seq,),dtype = 'int32')\n",
        "bert_output =layers.Lambda(bert_layer,output_shape=(max_seq, 768))([inputT, inputA,inputS])\n",
        "print(bert_output)\n",
        "embedding = layers.Dropout(0.3)(bert_output)\n",
        "maxx=layers.GlobalMaxPooling1D()(embedding)\n",
        "print(maxx)\n",
        "dense=layers.Dense(256)(maxx)\n",
        "batch=layers.BatchNormalization()(dense)\n",
        "act=layers.Activation('relu')(batch)\n",
        "dense1=layers.Dense(5)(act)\n",
        "batch1=layers.BatchNormalization()(dense1)\n",
        "output=layers.Activation('softmax')(batch1)\n",
        "bertMAX=keras.Model([inputT,inputA,inputS],output)\n",
        "print(bertMAX.layers[3])\n",
        "bertMAX.layers[3].trainable=False\n",
        "print(bertMAX.layers[3].trainable)\n",
        "bertMAX.summary()\n",
        "bertMAX.compile(optimizer='adam', loss=keras.losses.SparseCategoricalCrossentropy(from_logits=True), metrics=['accuracy'])"
      ],
      "metadata": {
        "colab": {
          "base_uri": "https://localhost:8080/",
          "height": 749
        },
        "id": "-dLKp6qjsJPx",
        "outputId": "53b853d7-ee73-4e62-fef4-b2b7bfe48204"
      },
      "execution_count": null,
      "outputs": [
        {
          "output_type": "stream",
          "name": "stdout",
          "text": [
            "<KerasTensor shape=(None, 588, 768), dtype=float32, sparse=False, name=keras_tensor_15>\n",
            "<KerasTensor shape=(None, 768), dtype=float32, sparse=False, name=keras_tensor_17>\n",
            "<Lambda name=lambda_1, built=True>\n",
            "False\n"
          ]
        },
        {
          "output_type": "display_data",
          "data": {
            "text/plain": [
              "\u001b[1mModel: \"functional_1\"\u001b[0m\n"
            ],
            "text/html": [
              "<pre style=\"white-space:pre;overflow-x:auto;line-height:normal;font-family:Menlo,'DejaVu Sans Mono',consolas,'Courier New',monospace\"><span style=\"font-weight: bold\">Model: \"functional_1\"</span>\n",
              "</pre>\n"
            ]
          },
          "metadata": {}
        },
        {
          "output_type": "display_data",
          "data": {
            "text/plain": [
              "┏━━━━━━━━━━━━━━━━━━━━━━━━━━━┳━━━━━━━━━━━━━━━━━━━━━━━━┳━━━━━━━━━━━━━━━━┳━━━━━━━━━━━━━━━━━━━━━━━━┓\n",
              "┃\u001b[1m \u001b[0m\u001b[1mLayer (type)             \u001b[0m\u001b[1m \u001b[0m┃\u001b[1m \u001b[0m\u001b[1mOutput Shape          \u001b[0m\u001b[1m \u001b[0m┃\u001b[1m \u001b[0m\u001b[1m       Param #\u001b[0m\u001b[1m \u001b[0m┃\u001b[1m \u001b[0m\u001b[1mConnected to          \u001b[0m\u001b[1m \u001b[0m┃\n",
              "┡━━━━━━━━━━━━━━━━━━━━━━━━━━━╇━━━━━━━━━━━━━━━━━━━━━━━━╇━━━━━━━━━━━━━━━━╇━━━━━━━━━━━━━━━━━━━━━━━━┩\n",
              "│ input_layer_3             │ (\u001b[38;5;45mNone\u001b[0m, \u001b[38;5;34m588\u001b[0m)            │              \u001b[38;5;34m0\u001b[0m │ -                      │\n",
              "│ (\u001b[38;5;33mInputLayer\u001b[0m)              │                        │                │                        │\n",
              "├───────────────────────────┼────────────────────────┼────────────────┼────────────────────────┤\n",
              "│ input_layer_4             │ (\u001b[38;5;45mNone\u001b[0m, \u001b[38;5;34m588\u001b[0m)            │              \u001b[38;5;34m0\u001b[0m │ -                      │\n",
              "│ (\u001b[38;5;33mInputLayer\u001b[0m)              │                        │                │                        │\n",
              "├───────────────────────────┼────────────────────────┼────────────────┼────────────────────────┤\n",
              "│ input_layer_5             │ (\u001b[38;5;45mNone\u001b[0m, \u001b[38;5;34m588\u001b[0m)            │              \u001b[38;5;34m0\u001b[0m │ -                      │\n",
              "│ (\u001b[38;5;33mInputLayer\u001b[0m)              │                        │                │                        │\n",
              "├───────────────────────────┼────────────────────────┼────────────────┼────────────────────────┤\n",
              "│ lambda_1 (\u001b[38;5;33mLambda\u001b[0m)         │ (\u001b[38;5;45mNone\u001b[0m, \u001b[38;5;34m588\u001b[0m, \u001b[38;5;34m768\u001b[0m)       │              \u001b[38;5;34m0\u001b[0m │ input_layer_3[\u001b[38;5;34m0\u001b[0m][\u001b[38;5;34m0\u001b[0m],   │\n",
              "│                           │                        │                │ input_layer_4[\u001b[38;5;34m0\u001b[0m][\u001b[38;5;34m0\u001b[0m],   │\n",
              "│                           │                        │                │ input_layer_5[\u001b[38;5;34m0\u001b[0m][\u001b[38;5;34m0\u001b[0m]    │\n",
              "├───────────────────────────┼────────────────────────┼────────────────┼────────────────────────┤\n",
              "│ dropout_1 (\u001b[38;5;33mDropout\u001b[0m)       │ (\u001b[38;5;45mNone\u001b[0m, \u001b[38;5;34m588\u001b[0m, \u001b[38;5;34m768\u001b[0m)       │              \u001b[38;5;34m0\u001b[0m │ lambda_1[\u001b[38;5;34m0\u001b[0m][\u001b[38;5;34m0\u001b[0m]         │\n",
              "├───────────────────────────┼────────────────────────┼────────────────┼────────────────────────┤\n",
              "│ global_max_pooling1d      │ (\u001b[38;5;45mNone\u001b[0m, \u001b[38;5;34m768\u001b[0m)            │              \u001b[38;5;34m0\u001b[0m │ dropout_1[\u001b[38;5;34m0\u001b[0m][\u001b[38;5;34m0\u001b[0m]        │\n",
              "│ (\u001b[38;5;33mGlobalMaxPooling1D\u001b[0m)      │                        │                │                        │\n",
              "├───────────────────────────┼────────────────────────┼────────────────┼────────────────────────┤\n",
              "│ dense_2 (\u001b[38;5;33mDense\u001b[0m)           │ (\u001b[38;5;45mNone\u001b[0m, \u001b[38;5;34m256\u001b[0m)            │        \u001b[38;5;34m196,864\u001b[0m │ global_max_pooling1d[\u001b[38;5;34m…\u001b[0m │\n",
              "├───────────────────────────┼────────────────────────┼────────────────┼────────────────────────┤\n",
              "│ batch_normalization_2     │ (\u001b[38;5;45mNone\u001b[0m, \u001b[38;5;34m256\u001b[0m)            │          \u001b[38;5;34m1,024\u001b[0m │ dense_2[\u001b[38;5;34m0\u001b[0m][\u001b[38;5;34m0\u001b[0m]          │\n",
              "│ (\u001b[38;5;33mBatchNormalization\u001b[0m)      │                        │                │                        │\n",
              "├───────────────────────────┼────────────────────────┼────────────────┼────────────────────────┤\n",
              "│ activation_2 (\u001b[38;5;33mActivation\u001b[0m) │ (\u001b[38;5;45mNone\u001b[0m, \u001b[38;5;34m256\u001b[0m)            │              \u001b[38;5;34m0\u001b[0m │ batch_normalization_2… │\n",
              "├───────────────────────────┼────────────────────────┼────────────────┼────────────────────────┤\n",
              "│ dense_3 (\u001b[38;5;33mDense\u001b[0m)           │ (\u001b[38;5;45mNone\u001b[0m, \u001b[38;5;34m5\u001b[0m)              │          \u001b[38;5;34m1,285\u001b[0m │ activation_2[\u001b[38;5;34m0\u001b[0m][\u001b[38;5;34m0\u001b[0m]     │\n",
              "├───────────────────────────┼────────────────────────┼────────────────┼────────────────────────┤\n",
              "│ batch_normalization_3     │ (\u001b[38;5;45mNone\u001b[0m, \u001b[38;5;34m5\u001b[0m)              │             \u001b[38;5;34m20\u001b[0m │ dense_3[\u001b[38;5;34m0\u001b[0m][\u001b[38;5;34m0\u001b[0m]          │\n",
              "│ (\u001b[38;5;33mBatchNormalization\u001b[0m)      │                        │                │                        │\n",
              "├───────────────────────────┼────────────────────────┼────────────────┼────────────────────────┤\n",
              "│ activation_3 (\u001b[38;5;33mActivation\u001b[0m) │ (\u001b[38;5;45mNone\u001b[0m, \u001b[38;5;34m5\u001b[0m)              │              \u001b[38;5;34m0\u001b[0m │ batch_normalization_3… │\n",
              "└───────────────────────────┴────────────────────────┴────────────────┴────────────────────────┘\n"
            ],
            "text/html": [
              "<pre style=\"white-space:pre;overflow-x:auto;line-height:normal;font-family:Menlo,'DejaVu Sans Mono',consolas,'Courier New',monospace\">┏━━━━━━━━━━━━━━━━━━━━━━━━━━━┳━━━━━━━━━━━━━━━━━━━━━━━━┳━━━━━━━━━━━━━━━━┳━━━━━━━━━━━━━━━━━━━━━━━━┓\n",
              "┃<span style=\"font-weight: bold\"> Layer (type)              </span>┃<span style=\"font-weight: bold\"> Output Shape           </span>┃<span style=\"font-weight: bold\">        Param # </span>┃<span style=\"font-weight: bold\"> Connected to           </span>┃\n",
              "┡━━━━━━━━━━━━━━━━━━━━━━━━━━━╇━━━━━━━━━━━━━━━━━━━━━━━━╇━━━━━━━━━━━━━━━━╇━━━━━━━━━━━━━━━━━━━━━━━━┩\n",
              "│ input_layer_3             │ (<span style=\"color: #00d7ff; text-decoration-color: #00d7ff\">None</span>, <span style=\"color: #00af00; text-decoration-color: #00af00\">588</span>)            │              <span style=\"color: #00af00; text-decoration-color: #00af00\">0</span> │ -                      │\n",
              "│ (<span style=\"color: #0087ff; text-decoration-color: #0087ff\">InputLayer</span>)              │                        │                │                        │\n",
              "├───────────────────────────┼────────────────────────┼────────────────┼────────────────────────┤\n",
              "│ input_layer_4             │ (<span style=\"color: #00d7ff; text-decoration-color: #00d7ff\">None</span>, <span style=\"color: #00af00; text-decoration-color: #00af00\">588</span>)            │              <span style=\"color: #00af00; text-decoration-color: #00af00\">0</span> │ -                      │\n",
              "│ (<span style=\"color: #0087ff; text-decoration-color: #0087ff\">InputLayer</span>)              │                        │                │                        │\n",
              "├───────────────────────────┼────────────────────────┼────────────────┼────────────────────────┤\n",
              "│ input_layer_5             │ (<span style=\"color: #00d7ff; text-decoration-color: #00d7ff\">None</span>, <span style=\"color: #00af00; text-decoration-color: #00af00\">588</span>)            │              <span style=\"color: #00af00; text-decoration-color: #00af00\">0</span> │ -                      │\n",
              "│ (<span style=\"color: #0087ff; text-decoration-color: #0087ff\">InputLayer</span>)              │                        │                │                        │\n",
              "├───────────────────────────┼────────────────────────┼────────────────┼────────────────────────┤\n",
              "│ lambda_1 (<span style=\"color: #0087ff; text-decoration-color: #0087ff\">Lambda</span>)         │ (<span style=\"color: #00d7ff; text-decoration-color: #00d7ff\">None</span>, <span style=\"color: #00af00; text-decoration-color: #00af00\">588</span>, <span style=\"color: #00af00; text-decoration-color: #00af00\">768</span>)       │              <span style=\"color: #00af00; text-decoration-color: #00af00\">0</span> │ input_layer_3[<span style=\"color: #00af00; text-decoration-color: #00af00\">0</span>][<span style=\"color: #00af00; text-decoration-color: #00af00\">0</span>],   │\n",
              "│                           │                        │                │ input_layer_4[<span style=\"color: #00af00; text-decoration-color: #00af00\">0</span>][<span style=\"color: #00af00; text-decoration-color: #00af00\">0</span>],   │\n",
              "│                           │                        │                │ input_layer_5[<span style=\"color: #00af00; text-decoration-color: #00af00\">0</span>][<span style=\"color: #00af00; text-decoration-color: #00af00\">0</span>]    │\n",
              "├───────────────────────────┼────────────────────────┼────────────────┼────────────────────────┤\n",
              "│ dropout_1 (<span style=\"color: #0087ff; text-decoration-color: #0087ff\">Dropout</span>)       │ (<span style=\"color: #00d7ff; text-decoration-color: #00d7ff\">None</span>, <span style=\"color: #00af00; text-decoration-color: #00af00\">588</span>, <span style=\"color: #00af00; text-decoration-color: #00af00\">768</span>)       │              <span style=\"color: #00af00; text-decoration-color: #00af00\">0</span> │ lambda_1[<span style=\"color: #00af00; text-decoration-color: #00af00\">0</span>][<span style=\"color: #00af00; text-decoration-color: #00af00\">0</span>]         │\n",
              "├───────────────────────────┼────────────────────────┼────────────────┼────────────────────────┤\n",
              "│ global_max_pooling1d      │ (<span style=\"color: #00d7ff; text-decoration-color: #00d7ff\">None</span>, <span style=\"color: #00af00; text-decoration-color: #00af00\">768</span>)            │              <span style=\"color: #00af00; text-decoration-color: #00af00\">0</span> │ dropout_1[<span style=\"color: #00af00; text-decoration-color: #00af00\">0</span>][<span style=\"color: #00af00; text-decoration-color: #00af00\">0</span>]        │\n",
              "│ (<span style=\"color: #0087ff; text-decoration-color: #0087ff\">GlobalMaxPooling1D</span>)      │                        │                │                        │\n",
              "├───────────────────────────┼────────────────────────┼────────────────┼────────────────────────┤\n",
              "│ dense_2 (<span style=\"color: #0087ff; text-decoration-color: #0087ff\">Dense</span>)           │ (<span style=\"color: #00d7ff; text-decoration-color: #00d7ff\">None</span>, <span style=\"color: #00af00; text-decoration-color: #00af00\">256</span>)            │        <span style=\"color: #00af00; text-decoration-color: #00af00\">196,864</span> │ global_max_pooling1d[<span style=\"color: #00af00; text-decoration-color: #00af00\">…</span> │\n",
              "├───────────────────────────┼────────────────────────┼────────────────┼────────────────────────┤\n",
              "│ batch_normalization_2     │ (<span style=\"color: #00d7ff; text-decoration-color: #00d7ff\">None</span>, <span style=\"color: #00af00; text-decoration-color: #00af00\">256</span>)            │          <span style=\"color: #00af00; text-decoration-color: #00af00\">1,024</span> │ dense_2[<span style=\"color: #00af00; text-decoration-color: #00af00\">0</span>][<span style=\"color: #00af00; text-decoration-color: #00af00\">0</span>]          │\n",
              "│ (<span style=\"color: #0087ff; text-decoration-color: #0087ff\">BatchNormalization</span>)      │                        │                │                        │\n",
              "├───────────────────────────┼────────────────────────┼────────────────┼────────────────────────┤\n",
              "│ activation_2 (<span style=\"color: #0087ff; text-decoration-color: #0087ff\">Activation</span>) │ (<span style=\"color: #00d7ff; text-decoration-color: #00d7ff\">None</span>, <span style=\"color: #00af00; text-decoration-color: #00af00\">256</span>)            │              <span style=\"color: #00af00; text-decoration-color: #00af00\">0</span> │ batch_normalization_2… │\n",
              "├───────────────────────────┼────────────────────────┼────────────────┼────────────────────────┤\n",
              "│ dense_3 (<span style=\"color: #0087ff; text-decoration-color: #0087ff\">Dense</span>)           │ (<span style=\"color: #00d7ff; text-decoration-color: #00d7ff\">None</span>, <span style=\"color: #00af00; text-decoration-color: #00af00\">5</span>)              │          <span style=\"color: #00af00; text-decoration-color: #00af00\">1,285</span> │ activation_2[<span style=\"color: #00af00; text-decoration-color: #00af00\">0</span>][<span style=\"color: #00af00; text-decoration-color: #00af00\">0</span>]     │\n",
              "├───────────────────────────┼────────────────────────┼────────────────┼────────────────────────┤\n",
              "│ batch_normalization_3     │ (<span style=\"color: #00d7ff; text-decoration-color: #00d7ff\">None</span>, <span style=\"color: #00af00; text-decoration-color: #00af00\">5</span>)              │             <span style=\"color: #00af00; text-decoration-color: #00af00\">20</span> │ dense_3[<span style=\"color: #00af00; text-decoration-color: #00af00\">0</span>][<span style=\"color: #00af00; text-decoration-color: #00af00\">0</span>]          │\n",
              "│ (<span style=\"color: #0087ff; text-decoration-color: #0087ff\">BatchNormalization</span>)      │                        │                │                        │\n",
              "├───────────────────────────┼────────────────────────┼────────────────┼────────────────────────┤\n",
              "│ activation_3 (<span style=\"color: #0087ff; text-decoration-color: #0087ff\">Activation</span>) │ (<span style=\"color: #00d7ff; text-decoration-color: #00d7ff\">None</span>, <span style=\"color: #00af00; text-decoration-color: #00af00\">5</span>)              │              <span style=\"color: #00af00; text-decoration-color: #00af00\">0</span> │ batch_normalization_3… │\n",
              "└───────────────────────────┴────────────────────────┴────────────────┴────────────────────────┘\n",
              "</pre>\n"
            ]
          },
          "metadata": {}
        },
        {
          "output_type": "display_data",
          "data": {
            "text/plain": [
              "\u001b[1m Total params: \u001b[0m\u001b[38;5;34m199,193\u001b[0m (778.10 KB)\n"
            ],
            "text/html": [
              "<pre style=\"white-space:pre;overflow-x:auto;line-height:normal;font-family:Menlo,'DejaVu Sans Mono',consolas,'Courier New',monospace\"><span style=\"font-weight: bold\"> Total params: </span><span style=\"color: #00af00; text-decoration-color: #00af00\">199,193</span> (778.10 KB)\n",
              "</pre>\n"
            ]
          },
          "metadata": {}
        },
        {
          "output_type": "display_data",
          "data": {
            "text/plain": [
              "\u001b[1m Trainable params: \u001b[0m\u001b[38;5;34m198,671\u001b[0m (776.06 KB)\n"
            ],
            "text/html": [
              "<pre style=\"white-space:pre;overflow-x:auto;line-height:normal;font-family:Menlo,'DejaVu Sans Mono',consolas,'Courier New',monospace\"><span style=\"font-weight: bold\"> Trainable params: </span><span style=\"color: #00af00; text-decoration-color: #00af00\">198,671</span> (776.06 KB)\n",
              "</pre>\n"
            ]
          },
          "metadata": {}
        },
        {
          "output_type": "display_data",
          "data": {
            "text/plain": [
              "\u001b[1m Non-trainable params: \u001b[0m\u001b[38;5;34m522\u001b[0m (2.04 KB)\n"
            ],
            "text/html": [
              "<pre style=\"white-space:pre;overflow-x:auto;line-height:normal;font-family:Menlo,'DejaVu Sans Mono',consolas,'Courier New',monospace\"><span style=\"font-weight: bold\"> Non-trainable params: </span><span style=\"color: #00af00; text-decoration-color: #00af00\">522</span> (2.04 KB)\n",
              "</pre>\n"
            ]
          },
          "metadata": {}
        }
      ]
    },
    {
      "cell_type": "code",
      "source": [
        "bertMAX.fit([x_train_input,x_train_attention,x_train_type], y_train, epochs=20, batch_size=128  ,\n",
        "          validation_data=([x_val_input,x_val_attention,x_val_type],y_val ) ,  verbose = 1)"
      ],
      "metadata": {
        "colab": {
          "base_uri": "https://localhost:8080/"
        },
        "id": "PJSQuinTsMhi",
        "outputId": "aaa14b68-8085-445e-9d7c-d1955e69993b"
      },
      "execution_count": null,
      "outputs": [
        {
          "output_type": "stream",
          "name": "stdout",
          "text": [
            "Epoch 1/20\n",
            "\u001b[1m10/10\u001b[0m \u001b[32m━━━━━━━━━━━━━━━━━━━━\u001b[0m\u001b[37m\u001b[0m \u001b[1m95s\u001b[0m 8s/step - accuracy: 0.5309 - loss: 1.3149 - val_accuracy: 0.2263 - val_loss: 4.7103\n",
            "Epoch 2/20\n",
            "\u001b[1m10/10\u001b[0m \u001b[32m━━━━━━━━━━━━━━━━━━━━\u001b[0m\u001b[37m\u001b[0m \u001b[1m51s\u001b[0m 5s/step - accuracy: 0.9391 - loss: 0.5463 - val_accuracy: 0.4672 - val_loss: 1.2570\n",
            "Epoch 3/20\n",
            "\u001b[1m10/10\u001b[0m \u001b[32m━━━━━━━━━━━━━━━━━━━━\u001b[0m\u001b[37m\u001b[0m \u001b[1m82s\u001b[0m 5s/step - accuracy: 0.9691 - loss: 0.4749 - val_accuracy: 0.8102 - val_loss: 0.7410\n",
            "Epoch 4/20\n",
            "\u001b[1m10/10\u001b[0m \u001b[32m━━━━━━━━━━━━━━━━━━━━\u001b[0m\u001b[37m\u001b[0m \u001b[1m82s\u001b[0m 5s/step - accuracy: 0.9787 - loss: 0.4412 - val_accuracy: 0.6204 - val_loss: 0.9872\n",
            "Epoch 5/20\n",
            "\u001b[1m10/10\u001b[0m \u001b[32m━━━━━━━━━━━━━━━━━━━━\u001b[0m\u001b[37m\u001b[0m \u001b[1m82s\u001b[0m 5s/step - accuracy: 0.9883 - loss: 0.4174 - val_accuracy: 0.6861 - val_loss: 0.9934\n",
            "Epoch 6/20\n",
            "\u001b[1m10/10\u001b[0m \u001b[32m━━━━━━━━━━━━━━━━━━━━\u001b[0m\u001b[37m\u001b[0m \u001b[1m82s\u001b[0m 5s/step - accuracy: 0.9861 - loss: 0.3973 - val_accuracy: 0.8686 - val_loss: 0.7821\n",
            "Epoch 7/20\n",
            "\u001b[1m10/10\u001b[0m \u001b[32m━━━━━━━━━━━━━━━━━━━━\u001b[0m\u001b[37m\u001b[0m \u001b[1m82s\u001b[0m 5s/step - accuracy: 0.9918 - loss: 0.3785 - val_accuracy: 0.9416 - val_loss: 0.6934\n",
            "Epoch 8/20\n",
            "\u001b[1m10/10\u001b[0m \u001b[32m━━━━━━━━━━━━━━━━━━━━\u001b[0m\u001b[37m\u001b[0m \u001b[1m82s\u001b[0m 5s/step - accuracy: 0.9920 - loss: 0.3610 - val_accuracy: 0.9197 - val_loss: 0.7035\n",
            "Epoch 9/20\n",
            "\u001b[1m10/10\u001b[0m \u001b[32m━━━━━━━━━━━━━━━━━━━━\u001b[0m\u001b[37m\u001b[0m \u001b[1m82s\u001b[0m 5s/step - accuracy: 1.0000 - loss: 0.3476 - val_accuracy: 0.8905 - val_loss: 0.7395\n",
            "Epoch 10/20\n",
            "\u001b[1m10/10\u001b[0m \u001b[32m━━━━━━━━━━━━━━━━━━━━\u001b[0m\u001b[37m\u001b[0m \u001b[1m82s\u001b[0m 5s/step - accuracy: 0.9991 - loss: 0.3331 - val_accuracy: 0.9416 - val_loss: 0.6728\n",
            "Epoch 11/20\n",
            "\u001b[1m10/10\u001b[0m \u001b[32m━━━━━━━━━━━━━━━━━━━━\u001b[0m\u001b[37m\u001b[0m \u001b[1m48s\u001b[0m 5s/step - accuracy: 0.9978 - loss: 0.3192 - val_accuracy: 0.9416 - val_loss: 0.6942\n",
            "Epoch 12/20\n",
            "\u001b[1m10/10\u001b[0m \u001b[32m━━━━━━━━━━━━━━━━━━━━\u001b[0m\u001b[37m\u001b[0m \u001b[1m85s\u001b[0m 5s/step - accuracy: 1.0000 - loss: 0.3114 - val_accuracy: 0.9270 - val_loss: 0.7172\n",
            "Epoch 13/20\n",
            "\u001b[1m10/10\u001b[0m \u001b[32m━━━━━━━━━━━━━━━━━━━━\u001b[0m\u001b[37m\u001b[0m \u001b[1m81s\u001b[0m 5s/step - accuracy: 1.0000 - loss: 0.3007 - val_accuracy: 0.9197 - val_loss: 0.7084\n",
            "Epoch 14/20\n",
            "\u001b[1m10/10\u001b[0m \u001b[32m━━━━━━━━━━━━━━━━━━━━\u001b[0m\u001b[37m\u001b[0m \u001b[1m82s\u001b[0m 5s/step - accuracy: 1.0000 - loss: 0.2918 - val_accuracy: 0.9124 - val_loss: 0.7091\n",
            "Epoch 15/20\n",
            "\u001b[1m10/10\u001b[0m \u001b[32m━━━━━━━━━━━━━━━━━━━━\u001b[0m\u001b[37m\u001b[0m \u001b[1m82s\u001b[0m 5s/step - accuracy: 1.0000 - loss: 0.2823 - val_accuracy: 0.9197 - val_loss: 0.7274\n",
            "Epoch 16/20\n",
            "\u001b[1m10/10\u001b[0m \u001b[32m━━━━━━━━━━━━━━━━━━━━\u001b[0m\u001b[37m\u001b[0m \u001b[1m82s\u001b[0m 5s/step - accuracy: 1.0000 - loss: 0.2755 - val_accuracy: 0.9343 - val_loss: 0.7290\n",
            "Epoch 17/20\n",
            "\u001b[1m10/10\u001b[0m \u001b[32m━━━━━━━━━━━━━━━━━━━━\u001b[0m\u001b[37m\u001b[0m \u001b[1m82s\u001b[0m 5s/step - accuracy: 1.0000 - loss: 0.2681 - val_accuracy: 0.9197 - val_loss: 0.7643\n",
            "Epoch 18/20\n",
            "\u001b[1m10/10\u001b[0m \u001b[32m━━━━━━━━━━━━━━━━━━━━\u001b[0m\u001b[37m\u001b[0m \u001b[1m82s\u001b[0m 5s/step - accuracy: 1.0000 - loss: 0.2584 - val_accuracy: 0.8978 - val_loss: 0.7954\n",
            "Epoch 19/20\n",
            "\u001b[1m10/10\u001b[0m \u001b[32m━━━━━━━━━━━━━━━━━━━━\u001b[0m\u001b[37m\u001b[0m \u001b[1m82s\u001b[0m 5s/step - accuracy: 1.0000 - loss: 0.2525 - val_accuracy: 0.9197 - val_loss: 0.7579\n",
            "Epoch 20/20\n",
            "\u001b[1m10/10\u001b[0m \u001b[32m━━━━━━━━━━━━━━━━━━━━\u001b[0m\u001b[37m\u001b[0m \u001b[1m82s\u001b[0m 5s/step - accuracy: 1.0000 - loss: 0.2466 - val_accuracy: 0.8832 - val_loss: 0.7846\n"
          ]
        },
        {
          "output_type": "execute_result",
          "data": {
            "text/plain": [
              "<keras.src.callbacks.history.History at 0x7ef1fbc46710>"
            ]
          },
          "metadata": {},
          "execution_count": 40
        }
      ]
    },
    {
      "cell_type": "code",
      "source": [
        "bertMAX.save('bertMAXclassification.keras')"
      ],
      "metadata": {
        "id": "zIFuDfOxsOyv"
      },
      "execution_count": null,
      "outputs": []
    },
    {
      "cell_type": "code",
      "source": [
        "y_predict=bertMAX.predict([x_test_input,x_test_attention,x_test_type])\n",
        "y_predict=np.argmax(y_predict,axis=-1)\n",
        "print(classification_report(y_test,y_predict))"
      ],
      "metadata": {
        "colab": {
          "base_uri": "https://localhost:8080/"
        },
        "id": "uy9J0JuZsQa6",
        "outputId": "6435c8a5-0e91-4243-82d5-97c8b38ccc67"
      },
      "execution_count": null,
      "outputs": [
        {
          "output_type": "stream",
          "name": "stdout",
          "text": [
            "\u001b[1m8/8\u001b[0m \u001b[32m━━━━━━━━━━━━━━━━━━━━\u001b[0m\u001b[37m\u001b[0m \u001b[1m21s\u001b[0m 2s/step\n",
            "              precision    recall  f1-score   support\n",
            "\n",
            "           0       0.93      0.90      0.91        77\n",
            "           1       0.98      0.94      0.96        51\n",
            "           2       0.86      0.91      0.89        34\n",
            "           3       0.89      1.00      0.94        54\n",
            "           4       1.00      0.85      0.92        26\n",
            "\n",
            "    accuracy                           0.93       242\n",
            "   macro avg       0.93      0.92      0.92       242\n",
            "weighted avg       0.93      0.93      0.93       242\n",
            "\n"
          ]
        }
      ]
    },
    {
      "cell_type": "code",
      "source": [
        "inputT=layers.Input(shape=(max_seq,),dtype = 'int32')\n",
        "inputA=layers.Input(shape=(max_seq,),dtype = 'int32')\n",
        "inputS=layers.Input(shape=(max_seq,),dtype = 'int32')\n",
        "bert_output =layers.Lambda(bert_layer,output_shape=(max_seq, 768))([inputT, inputA,inputS])\n",
        "print(bert_output)\n",
        "embedding = layers.Dropout(0.3)(bert_output)\n",
        "cls=embedding[:, 0, :]\n",
        "print(cls)\n",
        "dense=layers.Dense(256)(cls)\n",
        "batch=layers.BatchNormalization()(dense)\n",
        "act=layers.Activation('relu')(batch)\n",
        "dense1=layers.Dense(5)(act)\n",
        "batch1=layers.BatchNormalization()(dense1)\n",
        "output=layers.Activation('softmax')(batch1)\n",
        "bertCLS=keras.Model([inputT,inputA,inputS],output)\n",
        "print(bertCLS.layers[3])\n",
        "bertCLS.layers[3].trainable=False\n",
        "print(bertCLS.layers[3].trainable)\n",
        "bertCLS.summary()\n",
        "bertCLS.compile(optimizer='adam', loss=keras.losses.SparseCategoricalCrossentropy(from_logits=True), metrics=['accuracy'])"
      ],
      "metadata": {
        "colab": {
          "base_uri": "https://localhost:8080/",
          "height": 732
        },
        "id": "t_QChXXCsp-7",
        "outputId": "d7fd9a90-3c18-4847-d2b7-161058dd3835"
      },
      "execution_count": null,
      "outputs": [
        {
          "output_type": "stream",
          "name": "stdout",
          "text": [
            "<KerasTensor shape=(None, 588, 768), dtype=float32, sparse=False, name=keras_tensor_27>\n",
            "<KerasTensor shape=(None, 768), dtype=float32, sparse=False, name=keras_tensor_29>\n",
            "<Lambda name=lambda_2, built=True>\n",
            "False\n"
          ]
        },
        {
          "output_type": "display_data",
          "data": {
            "text/plain": [
              "\u001b[1mModel: \"functional_2\"\u001b[0m\n"
            ],
            "text/html": [
              "<pre style=\"white-space:pre;overflow-x:auto;line-height:normal;font-family:Menlo,'DejaVu Sans Mono',consolas,'Courier New',monospace\"><span style=\"font-weight: bold\">Model: \"functional_2\"</span>\n",
              "</pre>\n"
            ]
          },
          "metadata": {}
        },
        {
          "output_type": "display_data",
          "data": {
            "text/plain": [
              "┏━━━━━━━━━━━━━━━━━━━━━━━━━━━┳━━━━━━━━━━━━━━━━━━━━━━━━┳━━━━━━━━━━━━━━━━┳━━━━━━━━━━━━━━━━━━━━━━━━┓\n",
              "┃\u001b[1m \u001b[0m\u001b[1mLayer (type)             \u001b[0m\u001b[1m \u001b[0m┃\u001b[1m \u001b[0m\u001b[1mOutput Shape          \u001b[0m\u001b[1m \u001b[0m┃\u001b[1m \u001b[0m\u001b[1m       Param #\u001b[0m\u001b[1m \u001b[0m┃\u001b[1m \u001b[0m\u001b[1mConnected to          \u001b[0m\u001b[1m \u001b[0m┃\n",
              "┡━━━━━━━━━━━━━━━━━━━━━━━━━━━╇━━━━━━━━━━━━━━━━━━━━━━━━╇━━━━━━━━━━━━━━━━╇━━━━━━━━━━━━━━━━━━━━━━━━┩\n",
              "│ input_layer_6             │ (\u001b[38;5;45mNone\u001b[0m, \u001b[38;5;34m588\u001b[0m)            │              \u001b[38;5;34m0\u001b[0m │ -                      │\n",
              "│ (\u001b[38;5;33mInputLayer\u001b[0m)              │                        │                │                        │\n",
              "├───────────────────────────┼────────────────────────┼────────────────┼────────────────────────┤\n",
              "│ input_layer_7             │ (\u001b[38;5;45mNone\u001b[0m, \u001b[38;5;34m588\u001b[0m)            │              \u001b[38;5;34m0\u001b[0m │ -                      │\n",
              "│ (\u001b[38;5;33mInputLayer\u001b[0m)              │                        │                │                        │\n",
              "├───────────────────────────┼────────────────────────┼────────────────┼────────────────────────┤\n",
              "│ input_layer_8             │ (\u001b[38;5;45mNone\u001b[0m, \u001b[38;5;34m588\u001b[0m)            │              \u001b[38;5;34m0\u001b[0m │ -                      │\n",
              "│ (\u001b[38;5;33mInputLayer\u001b[0m)              │                        │                │                        │\n",
              "├───────────────────────────┼────────────────────────┼────────────────┼────────────────────────┤\n",
              "│ lambda_2 (\u001b[38;5;33mLambda\u001b[0m)         │ (\u001b[38;5;45mNone\u001b[0m, \u001b[38;5;34m588\u001b[0m, \u001b[38;5;34m768\u001b[0m)       │              \u001b[38;5;34m0\u001b[0m │ input_layer_6[\u001b[38;5;34m0\u001b[0m][\u001b[38;5;34m0\u001b[0m],   │\n",
              "│                           │                        │                │ input_layer_7[\u001b[38;5;34m0\u001b[0m][\u001b[38;5;34m0\u001b[0m],   │\n",
              "│                           │                        │                │ input_layer_8[\u001b[38;5;34m0\u001b[0m][\u001b[38;5;34m0\u001b[0m]    │\n",
              "├───────────────────────────┼────────────────────────┼────────────────┼────────────────────────┤\n",
              "│ dropout_2 (\u001b[38;5;33mDropout\u001b[0m)       │ (\u001b[38;5;45mNone\u001b[0m, \u001b[38;5;34m588\u001b[0m, \u001b[38;5;34m768\u001b[0m)       │              \u001b[38;5;34m0\u001b[0m │ lambda_2[\u001b[38;5;34m0\u001b[0m][\u001b[38;5;34m0\u001b[0m]         │\n",
              "├───────────────────────────┼────────────────────────┼────────────────┼────────────────────────┤\n",
              "│ get_item (\u001b[38;5;33mGetItem\u001b[0m)        │ (\u001b[38;5;45mNone\u001b[0m, \u001b[38;5;34m768\u001b[0m)            │              \u001b[38;5;34m0\u001b[0m │ dropout_2[\u001b[38;5;34m0\u001b[0m][\u001b[38;5;34m0\u001b[0m]        │\n",
              "├───────────────────────────┼────────────────────────┼────────────────┼────────────────────────┤\n",
              "│ dense_4 (\u001b[38;5;33mDense\u001b[0m)           │ (\u001b[38;5;45mNone\u001b[0m, \u001b[38;5;34m256\u001b[0m)            │        \u001b[38;5;34m196,864\u001b[0m │ get_item[\u001b[38;5;34m0\u001b[0m][\u001b[38;5;34m0\u001b[0m]         │\n",
              "├───────────────────────────┼────────────────────────┼────────────────┼────────────────────────┤\n",
              "│ batch_normalization_4     │ (\u001b[38;5;45mNone\u001b[0m, \u001b[38;5;34m256\u001b[0m)            │          \u001b[38;5;34m1,024\u001b[0m │ dense_4[\u001b[38;5;34m0\u001b[0m][\u001b[38;5;34m0\u001b[0m]          │\n",
              "│ (\u001b[38;5;33mBatchNormalization\u001b[0m)      │                        │                │                        │\n",
              "├───────────────────────────┼────────────────────────┼────────────────┼────────────────────────┤\n",
              "│ activation_4 (\u001b[38;5;33mActivation\u001b[0m) │ (\u001b[38;5;45mNone\u001b[0m, \u001b[38;5;34m256\u001b[0m)            │              \u001b[38;5;34m0\u001b[0m │ batch_normalization_4… │\n",
              "├───────────────────────────┼────────────────────────┼────────────────┼────────────────────────┤\n",
              "│ dense_5 (\u001b[38;5;33mDense\u001b[0m)           │ (\u001b[38;5;45mNone\u001b[0m, \u001b[38;5;34m5\u001b[0m)              │          \u001b[38;5;34m1,285\u001b[0m │ activation_4[\u001b[38;5;34m0\u001b[0m][\u001b[38;5;34m0\u001b[0m]     │\n",
              "├───────────────────────────┼────────────────────────┼────────────────┼────────────────────────┤\n",
              "│ batch_normalization_5     │ (\u001b[38;5;45mNone\u001b[0m, \u001b[38;5;34m5\u001b[0m)              │             \u001b[38;5;34m20\u001b[0m │ dense_5[\u001b[38;5;34m0\u001b[0m][\u001b[38;5;34m0\u001b[0m]          │\n",
              "│ (\u001b[38;5;33mBatchNormalization\u001b[0m)      │                        │                │                        │\n",
              "├───────────────────────────┼────────────────────────┼────────────────┼────────────────────────┤\n",
              "│ activation_5 (\u001b[38;5;33mActivation\u001b[0m) │ (\u001b[38;5;45mNone\u001b[0m, \u001b[38;5;34m5\u001b[0m)              │              \u001b[38;5;34m0\u001b[0m │ batch_normalization_5… │\n",
              "└───────────────────────────┴────────────────────────┴────────────────┴────────────────────────┘\n"
            ],
            "text/html": [
              "<pre style=\"white-space:pre;overflow-x:auto;line-height:normal;font-family:Menlo,'DejaVu Sans Mono',consolas,'Courier New',monospace\">┏━━━━━━━━━━━━━━━━━━━━━━━━━━━┳━━━━━━━━━━━━━━━━━━━━━━━━┳━━━━━━━━━━━━━━━━┳━━━━━━━━━━━━━━━━━━━━━━━━┓\n",
              "┃<span style=\"font-weight: bold\"> Layer (type)              </span>┃<span style=\"font-weight: bold\"> Output Shape           </span>┃<span style=\"font-weight: bold\">        Param # </span>┃<span style=\"font-weight: bold\"> Connected to           </span>┃\n",
              "┡━━━━━━━━━━━━━━━━━━━━━━━━━━━╇━━━━━━━━━━━━━━━━━━━━━━━━╇━━━━━━━━━━━━━━━━╇━━━━━━━━━━━━━━━━━━━━━━━━┩\n",
              "│ input_layer_6             │ (<span style=\"color: #00d7ff; text-decoration-color: #00d7ff\">None</span>, <span style=\"color: #00af00; text-decoration-color: #00af00\">588</span>)            │              <span style=\"color: #00af00; text-decoration-color: #00af00\">0</span> │ -                      │\n",
              "│ (<span style=\"color: #0087ff; text-decoration-color: #0087ff\">InputLayer</span>)              │                        │                │                        │\n",
              "├───────────────────────────┼────────────────────────┼────────────────┼────────────────────────┤\n",
              "│ input_layer_7             │ (<span style=\"color: #00d7ff; text-decoration-color: #00d7ff\">None</span>, <span style=\"color: #00af00; text-decoration-color: #00af00\">588</span>)            │              <span style=\"color: #00af00; text-decoration-color: #00af00\">0</span> │ -                      │\n",
              "│ (<span style=\"color: #0087ff; text-decoration-color: #0087ff\">InputLayer</span>)              │                        │                │                        │\n",
              "├───────────────────────────┼────────────────────────┼────────────────┼────────────────────────┤\n",
              "│ input_layer_8             │ (<span style=\"color: #00d7ff; text-decoration-color: #00d7ff\">None</span>, <span style=\"color: #00af00; text-decoration-color: #00af00\">588</span>)            │              <span style=\"color: #00af00; text-decoration-color: #00af00\">0</span> │ -                      │\n",
              "│ (<span style=\"color: #0087ff; text-decoration-color: #0087ff\">InputLayer</span>)              │                        │                │                        │\n",
              "├───────────────────────────┼────────────────────────┼────────────────┼────────────────────────┤\n",
              "│ lambda_2 (<span style=\"color: #0087ff; text-decoration-color: #0087ff\">Lambda</span>)         │ (<span style=\"color: #00d7ff; text-decoration-color: #00d7ff\">None</span>, <span style=\"color: #00af00; text-decoration-color: #00af00\">588</span>, <span style=\"color: #00af00; text-decoration-color: #00af00\">768</span>)       │              <span style=\"color: #00af00; text-decoration-color: #00af00\">0</span> │ input_layer_6[<span style=\"color: #00af00; text-decoration-color: #00af00\">0</span>][<span style=\"color: #00af00; text-decoration-color: #00af00\">0</span>],   │\n",
              "│                           │                        │                │ input_layer_7[<span style=\"color: #00af00; text-decoration-color: #00af00\">0</span>][<span style=\"color: #00af00; text-decoration-color: #00af00\">0</span>],   │\n",
              "│                           │                        │                │ input_layer_8[<span style=\"color: #00af00; text-decoration-color: #00af00\">0</span>][<span style=\"color: #00af00; text-decoration-color: #00af00\">0</span>]    │\n",
              "├───────────────────────────┼────────────────────────┼────────────────┼────────────────────────┤\n",
              "│ dropout_2 (<span style=\"color: #0087ff; text-decoration-color: #0087ff\">Dropout</span>)       │ (<span style=\"color: #00d7ff; text-decoration-color: #00d7ff\">None</span>, <span style=\"color: #00af00; text-decoration-color: #00af00\">588</span>, <span style=\"color: #00af00; text-decoration-color: #00af00\">768</span>)       │              <span style=\"color: #00af00; text-decoration-color: #00af00\">0</span> │ lambda_2[<span style=\"color: #00af00; text-decoration-color: #00af00\">0</span>][<span style=\"color: #00af00; text-decoration-color: #00af00\">0</span>]         │\n",
              "├───────────────────────────┼────────────────────────┼────────────────┼────────────────────────┤\n",
              "│ get_item (<span style=\"color: #0087ff; text-decoration-color: #0087ff\">GetItem</span>)        │ (<span style=\"color: #00d7ff; text-decoration-color: #00d7ff\">None</span>, <span style=\"color: #00af00; text-decoration-color: #00af00\">768</span>)            │              <span style=\"color: #00af00; text-decoration-color: #00af00\">0</span> │ dropout_2[<span style=\"color: #00af00; text-decoration-color: #00af00\">0</span>][<span style=\"color: #00af00; text-decoration-color: #00af00\">0</span>]        │\n",
              "├───────────────────────────┼────────────────────────┼────────────────┼────────────────────────┤\n",
              "│ dense_4 (<span style=\"color: #0087ff; text-decoration-color: #0087ff\">Dense</span>)           │ (<span style=\"color: #00d7ff; text-decoration-color: #00d7ff\">None</span>, <span style=\"color: #00af00; text-decoration-color: #00af00\">256</span>)            │        <span style=\"color: #00af00; text-decoration-color: #00af00\">196,864</span> │ get_item[<span style=\"color: #00af00; text-decoration-color: #00af00\">0</span>][<span style=\"color: #00af00; text-decoration-color: #00af00\">0</span>]         │\n",
              "├───────────────────────────┼────────────────────────┼────────────────┼────────────────────────┤\n",
              "│ batch_normalization_4     │ (<span style=\"color: #00d7ff; text-decoration-color: #00d7ff\">None</span>, <span style=\"color: #00af00; text-decoration-color: #00af00\">256</span>)            │          <span style=\"color: #00af00; text-decoration-color: #00af00\">1,024</span> │ dense_4[<span style=\"color: #00af00; text-decoration-color: #00af00\">0</span>][<span style=\"color: #00af00; text-decoration-color: #00af00\">0</span>]          │\n",
              "│ (<span style=\"color: #0087ff; text-decoration-color: #0087ff\">BatchNormalization</span>)      │                        │                │                        │\n",
              "├───────────────────────────┼────────────────────────┼────────────────┼────────────────────────┤\n",
              "│ activation_4 (<span style=\"color: #0087ff; text-decoration-color: #0087ff\">Activation</span>) │ (<span style=\"color: #00d7ff; text-decoration-color: #00d7ff\">None</span>, <span style=\"color: #00af00; text-decoration-color: #00af00\">256</span>)            │              <span style=\"color: #00af00; text-decoration-color: #00af00\">0</span> │ batch_normalization_4… │\n",
              "├───────────────────────────┼────────────────────────┼────────────────┼────────────────────────┤\n",
              "│ dense_5 (<span style=\"color: #0087ff; text-decoration-color: #0087ff\">Dense</span>)           │ (<span style=\"color: #00d7ff; text-decoration-color: #00d7ff\">None</span>, <span style=\"color: #00af00; text-decoration-color: #00af00\">5</span>)              │          <span style=\"color: #00af00; text-decoration-color: #00af00\">1,285</span> │ activation_4[<span style=\"color: #00af00; text-decoration-color: #00af00\">0</span>][<span style=\"color: #00af00; text-decoration-color: #00af00\">0</span>]     │\n",
              "├───────────────────────────┼────────────────────────┼────────────────┼────────────────────────┤\n",
              "│ batch_normalization_5     │ (<span style=\"color: #00d7ff; text-decoration-color: #00d7ff\">None</span>, <span style=\"color: #00af00; text-decoration-color: #00af00\">5</span>)              │             <span style=\"color: #00af00; text-decoration-color: #00af00\">20</span> │ dense_5[<span style=\"color: #00af00; text-decoration-color: #00af00\">0</span>][<span style=\"color: #00af00; text-decoration-color: #00af00\">0</span>]          │\n",
              "│ (<span style=\"color: #0087ff; text-decoration-color: #0087ff\">BatchNormalization</span>)      │                        │                │                        │\n",
              "├───────────────────────────┼────────────────────────┼────────────────┼────────────────────────┤\n",
              "│ activation_5 (<span style=\"color: #0087ff; text-decoration-color: #0087ff\">Activation</span>) │ (<span style=\"color: #00d7ff; text-decoration-color: #00d7ff\">None</span>, <span style=\"color: #00af00; text-decoration-color: #00af00\">5</span>)              │              <span style=\"color: #00af00; text-decoration-color: #00af00\">0</span> │ batch_normalization_5… │\n",
              "└───────────────────────────┴────────────────────────┴────────────────┴────────────────────────┘\n",
              "</pre>\n"
            ]
          },
          "metadata": {}
        },
        {
          "output_type": "display_data",
          "data": {
            "text/plain": [
              "\u001b[1m Total params: \u001b[0m\u001b[38;5;34m199,193\u001b[0m (778.10 KB)\n"
            ],
            "text/html": [
              "<pre style=\"white-space:pre;overflow-x:auto;line-height:normal;font-family:Menlo,'DejaVu Sans Mono',consolas,'Courier New',monospace\"><span style=\"font-weight: bold\"> Total params: </span><span style=\"color: #00af00; text-decoration-color: #00af00\">199,193</span> (778.10 KB)\n",
              "</pre>\n"
            ]
          },
          "metadata": {}
        },
        {
          "output_type": "display_data",
          "data": {
            "text/plain": [
              "\u001b[1m Trainable params: \u001b[0m\u001b[38;5;34m198,671\u001b[0m (776.06 KB)\n"
            ],
            "text/html": [
              "<pre style=\"white-space:pre;overflow-x:auto;line-height:normal;font-family:Menlo,'DejaVu Sans Mono',consolas,'Courier New',monospace\"><span style=\"font-weight: bold\"> Trainable params: </span><span style=\"color: #00af00; text-decoration-color: #00af00\">198,671</span> (776.06 KB)\n",
              "</pre>\n"
            ]
          },
          "metadata": {}
        },
        {
          "output_type": "display_data",
          "data": {
            "text/plain": [
              "\u001b[1m Non-trainable params: \u001b[0m\u001b[38;5;34m522\u001b[0m (2.04 KB)\n"
            ],
            "text/html": [
              "<pre style=\"white-space:pre;overflow-x:auto;line-height:normal;font-family:Menlo,'DejaVu Sans Mono',consolas,'Courier New',monospace\"><span style=\"font-weight: bold\"> Non-trainable params: </span><span style=\"color: #00af00; text-decoration-color: #00af00\">522</span> (2.04 KB)\n",
              "</pre>\n"
            ]
          },
          "metadata": {}
        }
      ]
    },
    {
      "cell_type": "code",
      "source": [
        "bertCLS.fit([x_train_input,x_train_attention,x_train_type], y_train, epochs=20, batch_size=128  ,\n",
        "          validation_data=([x_val_input,x_val_attention,x_val_type],y_val ) ,  verbose = 1)"
      ],
      "metadata": {
        "colab": {
          "base_uri": "https://localhost:8080/"
        },
        "id": "ub6IRiYhssr8",
        "outputId": "7a51995b-5679-41d1-d072-7ee8392acd2d"
      },
      "execution_count": null,
      "outputs": [
        {
          "output_type": "stream",
          "name": "stdout",
          "text": [
            "Epoch 1/20\n",
            "\u001b[1m10/10\u001b[0m \u001b[32m━━━━━━━━━━━━━━━━━━━━\u001b[0m\u001b[37m\u001b[0m \u001b[1m95s\u001b[0m 8s/step - accuracy: 0.5632 - loss: 1.2011 - val_accuracy: 0.7299 - val_loss: 0.7507\n",
            "Epoch 2/20\n",
            "\u001b[1m10/10\u001b[0m \u001b[32m━━━━━━━━━━━━━━━━━━━━\u001b[0m\u001b[37m\u001b[0m \u001b[1m111s\u001b[0m 5s/step - accuracy: 0.9302 - loss: 0.5498 - val_accuracy: 0.8321 - val_loss: 0.5194\n",
            "Epoch 3/20\n",
            "\u001b[1m10/10\u001b[0m \u001b[32m━━━━━━━━━━━━━━━━━━━━\u001b[0m\u001b[37m\u001b[0m \u001b[1m81s\u001b[0m 5s/step - accuracy: 0.9524 - loss: 0.4996 - val_accuracy: 0.8686 - val_loss: 0.4479\n",
            "Epoch 4/20\n",
            "\u001b[1m10/10\u001b[0m \u001b[32m━━━━━━━━━━━━━━━━━━━━\u001b[0m\u001b[37m\u001b[0m \u001b[1m82s\u001b[0m 5s/step - accuracy: 0.9647 - loss: 0.4662 - val_accuracy: 0.8905 - val_loss: 0.4273\n",
            "Epoch 5/20\n",
            "\u001b[1m10/10\u001b[0m \u001b[32m━━━━━━━━━━━━━━━━━━━━\u001b[0m\u001b[37m\u001b[0m \u001b[1m82s\u001b[0m 5s/step - accuracy: 0.9649 - loss: 0.4483 - val_accuracy: 0.9051 - val_loss: 0.4291\n",
            "Epoch 6/20\n",
            "\u001b[1m10/10\u001b[0m \u001b[32m━━━━━━━━━━━━━━━━━━━━\u001b[0m\u001b[37m\u001b[0m \u001b[1m82s\u001b[0m 5s/step - accuracy: 0.9748 - loss: 0.4265 - val_accuracy: 0.9051 - val_loss: 0.4387\n",
            "Epoch 7/20\n",
            "\u001b[1m10/10\u001b[0m \u001b[32m━━━━━━━━━━━━━━━━━━━━\u001b[0m\u001b[37m\u001b[0m \u001b[1m82s\u001b[0m 5s/step - accuracy: 0.9791 - loss: 0.4112 - val_accuracy: 0.9051 - val_loss: 0.4490\n",
            "Epoch 8/20\n",
            "\u001b[1m10/10\u001b[0m \u001b[32m━━━━━━━━━━━━━━━━━━━━\u001b[0m\u001b[37m\u001b[0m \u001b[1m82s\u001b[0m 5s/step - accuracy: 0.9803 - loss: 0.3950 - val_accuracy: 0.9197 - val_loss: 0.4556\n",
            "Epoch 9/20\n",
            "\u001b[1m10/10\u001b[0m \u001b[32m━━━━━━━━━━━━━━━━━━━━\u001b[0m\u001b[37m\u001b[0m \u001b[1m82s\u001b[0m 5s/step - accuracy: 0.9773 - loss: 0.3920 - val_accuracy: 0.9270 - val_loss: 0.4533\n",
            "Epoch 10/20\n",
            "\u001b[1m10/10\u001b[0m \u001b[32m━━━━━━━━━━━━━━━━━━━━\u001b[0m\u001b[37m\u001b[0m \u001b[1m48s\u001b[0m 5s/step - accuracy: 0.9815 - loss: 0.3784 - val_accuracy: 0.9270 - val_loss: 0.4393\n",
            "Epoch 11/20\n",
            "\u001b[1m10/10\u001b[0m \u001b[32m━━━━━━━━━━━━━━━━━━━━\u001b[0m\u001b[37m\u001b[0m \u001b[1m85s\u001b[0m 5s/step - accuracy: 0.9867 - loss: 0.3622 - val_accuracy: 0.9270 - val_loss: 0.4314\n",
            "Epoch 12/20\n",
            "\u001b[1m10/10\u001b[0m \u001b[32m━━━━━━━━━━━━━━━━━━━━\u001b[0m\u001b[37m\u001b[0m \u001b[1m48s\u001b[0m 5s/step - accuracy: 0.9847 - loss: 0.3594 - val_accuracy: 0.9270 - val_loss: 0.4275\n",
            "Epoch 13/20\n",
            "\u001b[1m10/10\u001b[0m \u001b[32m━━━━━━━━━━━━━━━━━━━━\u001b[0m\u001b[37m\u001b[0m \u001b[1m49s\u001b[0m 5s/step - accuracy: 0.9873 - loss: 0.3503 - val_accuracy: 0.9343 - val_loss: 0.4264\n",
            "Epoch 14/20\n",
            "\u001b[1m10/10\u001b[0m \u001b[32m━━━━━━━━━━━━━━━━━━━━\u001b[0m\u001b[37m\u001b[0m \u001b[1m83s\u001b[0m 5s/step - accuracy: 0.9883 - loss: 0.3366 - val_accuracy: 0.9343 - val_loss: 0.4218\n",
            "Epoch 15/20\n",
            "\u001b[1m10/10\u001b[0m \u001b[32m━━━━━━━━━━━━━━━━━━━━\u001b[0m\u001b[37m\u001b[0m \u001b[1m82s\u001b[0m 5s/step - accuracy: 0.9919 - loss: 0.3278 - val_accuracy: 0.9416 - val_loss: 0.4202\n",
            "Epoch 16/20\n",
            "\u001b[1m10/10\u001b[0m \u001b[32m━━━━━━━━━━━━━━━━━━━━\u001b[0m\u001b[37m\u001b[0m \u001b[1m48s\u001b[0m 5s/step - accuracy: 0.9908 - loss: 0.3183 - val_accuracy: 0.9343 - val_loss: 0.4250\n",
            "Epoch 17/20\n",
            "\u001b[1m10/10\u001b[0m \u001b[32m━━━━━━━━━━━━━━━━━━━━\u001b[0m\u001b[37m\u001b[0m \u001b[1m85s\u001b[0m 5s/step - accuracy: 0.9916 - loss: 0.3093 - val_accuracy: 0.9416 - val_loss: 0.4278\n",
            "Epoch 18/20\n",
            "\u001b[1m10/10\u001b[0m \u001b[32m━━━━━━━━━━━━━━━━━━━━\u001b[0m\u001b[37m\u001b[0m \u001b[1m48s\u001b[0m 5s/step - accuracy: 0.9893 - loss: 0.3053 - val_accuracy: 0.9416 - val_loss: 0.4201\n",
            "Epoch 19/20\n",
            "\u001b[1m10/10\u001b[0m \u001b[32m━━━━━━━━━━━━━━━━━━━━\u001b[0m\u001b[37m\u001b[0m \u001b[1m85s\u001b[0m 5s/step - accuracy: 0.9909 - loss: 0.2973 - val_accuracy: 0.9416 - val_loss: 0.4093\n",
            "Epoch 20/20\n",
            "\u001b[1m10/10\u001b[0m \u001b[32m━━━━━━━━━━━━━━━━━━━━\u001b[0m\u001b[37m\u001b[0m \u001b[1m81s\u001b[0m 5s/step - accuracy: 0.9910 - loss: 0.2896 - val_accuracy: 0.9343 - val_loss: 0.4031\n"
          ]
        },
        {
          "output_type": "execute_result",
          "data": {
            "text/plain": [
              "<keras.src.callbacks.history.History at 0x7ef1768928f0>"
            ]
          },
          "metadata": {},
          "execution_count": 44
        }
      ]
    },
    {
      "cell_type": "code",
      "source": [
        "bertCLS.save('bertCLSclassification.keras')"
      ],
      "metadata": {
        "id": "V12EyMA_tZue"
      },
      "execution_count": null,
      "outputs": []
    },
    {
      "cell_type": "code",
      "source": [
        "y_predict=bertCLS.predict([x_test_input,x_test_attention,x_test_type])\n",
        "y_predict=np.argmax(y_predict,axis=-1)\n",
        "print(classification_report(y_test,y_predict))"
      ],
      "metadata": {
        "colab": {
          "base_uri": "https://localhost:8080/"
        },
        "id": "flsw7Ou7sulm",
        "outputId": "ace4ae1a-5851-4ecb-e380-14554ca0166c"
      },
      "execution_count": null,
      "outputs": [
        {
          "output_type": "stream",
          "name": "stderr",
          "text": [
            "WARNING:tensorflow:5 out of the last 17 calls to <function TensorFlowTrainer.make_predict_function.<locals>.one_step_on_data_distributed at 0x7ef185946050> triggered tf.function retracing. Tracing is expensive and the excessive number of tracings could be due to (1) creating @tf.function repeatedly in a loop, (2) passing tensors with different shapes, (3) passing Python objects instead of tensors. For (1), please define your @tf.function outside of the loop. For (2), @tf.function has reduce_retracing=True option that can avoid unnecessary retracing. For (3), please refer to https://www.tensorflow.org/guide/function#controlling_retracing and https://www.tensorflow.org/api_docs/python/tf/function for  more details.\n"
          ]
        },
        {
          "output_type": "stream",
          "name": "stdout",
          "text": [
            "\u001b[1m8/8\u001b[0m \u001b[32m━━━━━━━━━━━━━━━━━━━━\u001b[0m\u001b[37m\u001b[0m \u001b[1m22s\u001b[0m 2s/step\n",
            "              precision    recall  f1-score   support\n",
            "\n",
            "           0       1.00      0.96      0.98        77\n",
            "           1       1.00      1.00      1.00        51\n",
            "           2       0.92      1.00      0.96        34\n",
            "           3       1.00      1.00      1.00        54\n",
            "           4       1.00      1.00      1.00        26\n",
            "\n",
            "    accuracy                           0.99       242\n",
            "   macro avg       0.98      0.99      0.99       242\n",
            "weighted avg       0.99      0.99      0.99       242\n",
            "\n"
          ]
        }
      ]
    }
  ]
}